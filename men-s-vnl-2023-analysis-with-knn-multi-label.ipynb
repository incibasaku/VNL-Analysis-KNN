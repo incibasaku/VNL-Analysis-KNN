{
 "cells": [
  {
   "cell_type": "code",
   "execution_count": 1,
   "id": "08657256",
   "metadata": {
    "_cell_guid": "9b706d10-875a-4c95-bbd3-d74fa9fcb2ac",
    "_uuid": "a7776e88-905a-4c17-9be8-92e6f2e2c5d4",
    "collapsed": false,
    "execution": {
     "iopub.execute_input": "2024-01-14T02:07:01.718965Z",
     "iopub.status.busy": "2024-01-14T02:07:01.718264Z",
     "iopub.status.idle": "2024-01-14T02:07:05.291154Z",
     "shell.execute_reply": "2024-01-14T02:07:05.289797Z"
    },
    "jupyter": {
     "outputs_hidden": false
    },
    "papermill": {
     "duration": 3.597695,
     "end_time": "2024-01-14T02:07:05.294773",
     "exception": false,
     "start_time": "2024-01-14T02:07:01.697078",
     "status": "completed"
    },
    "tags": []
   },
   "outputs": [
    {
     "name": "stdout",
     "output_type": "stream",
     "text": [
      "/kaggle/input/vnl-men-2023/VNL2023.csv\n"
     ]
    }
   ],
   "source": [
    "import pandas as pd\n",
    "import numpy as np\n",
    "import matplotlib.pyplot as plt\n",
    "import plotly.express as px\n",
    "import seaborn as sns\n",
    "from IPython.display import Image\n",
    "from warnings import filterwarnings\n",
    "from IPython.core.interactiveshell import InteractiveShell\n",
    "InteractiveShell.ast_node_interactivity = 'all'\n",
    "from sklearn import preprocessing \n",
    "from sklearn.preprocessing import LabelBinarizer\n",
    "from sklearn.decomposition import PCA\n",
    "from sklearn.preprocessing import RobustScaler\n",
    "from sklearn.neighbors import KNeighborsClassifier\n",
    "from sklearn.model_selection import train_test_split,cross_val_score\n",
    "from sklearn import metrics\n",
    "from sklearn.metrics import precision_score,recall_score,accuracy_score,f1_score\n",
    "from sklearn.metrics import multilabel_confusion_matrix\n",
    "from sklearn.metrics import classification_report\n",
    "from sklearn.metrics import RocCurveDisplay,ConfusionMatrixDisplay\n",
    "import os\n",
    "for dirname, _, filenames in os.walk('/kaggle/input'):\n",
    "    for filename in filenames:\n",
    "        print(os.path.join(dirname, filename))"
   ]
  },
  {
   "cell_type": "code",
   "execution_count": 2,
   "id": "6ad3a292",
   "metadata": {
    "_cell_guid": "4ca8da8e-667b-4751-b3e7-cbd54bf8fc5b",
    "_uuid": "92e0dbd8-8328-4367-8d7a-9fe837cb86db",
    "collapsed": false,
    "execution": {
     "iopub.execute_input": "2024-01-14T02:07:05.336155Z",
     "iopub.status.busy": "2024-01-14T02:07:05.335130Z",
     "iopub.status.idle": "2024-01-14T02:07:05.355929Z",
     "shell.execute_reply": "2024-01-14T02:07:05.354924Z"
    },
    "jupyter": {
     "outputs_hidden": false
    },
    "papermill": {
     "duration": 0.044329,
     "end_time": "2024-01-14T02:07:05.358781",
     "exception": false,
     "start_time": "2024-01-14T02:07:05.314452",
     "status": "completed"
    },
    "tags": []
   },
   "outputs": [],
   "source": [
    "vnl=pd.read_csv(\"/kaggle/input/vnl-men-2023/VNL2023.csv\")\n",
    "df=vnl.copy()"
   ]
  },
  {
   "cell_type": "code",
   "execution_count": 3,
   "id": "ff3e9a8e",
   "metadata": {
    "_cell_guid": "16d679c1-f2fa-4ac1-9d14-cfaae43c37cd",
    "_uuid": "2e47e479-cde8-4d0f-a802-653bf2ca2bd2",
    "collapsed": false,
    "execution": {
     "iopub.execute_input": "2024-01-14T02:07:05.399706Z",
     "iopub.status.busy": "2024-01-14T02:07:05.398756Z",
     "iopub.status.idle": "2024-01-14T02:07:05.459215Z",
     "shell.execute_reply": "2024-01-14T02:07:05.458122Z"
    },
    "jupyter": {
     "outputs_hidden": false
    },
    "papermill": {
     "duration": 0.083563,
     "end_time": "2024-01-14T02:07:05.461616",
     "exception": false,
     "start_time": "2024-01-14T02:07:05.378053",
     "status": "completed"
    },
    "tags": []
   },
   "outputs": [
    {
     "data": {
      "text/html": [
       "<div>\n",
       "<style scoped>\n",
       "    .dataframe tbody tr th:only-of-type {\n",
       "        vertical-align: middle;\n",
       "    }\n",
       "\n",
       "    .dataframe tbody tr th {\n",
       "        vertical-align: top;\n",
       "    }\n",
       "\n",
       "    .dataframe thead th {\n",
       "        text-align: right;\n",
       "    }\n",
       "</style>\n",
       "<table border=\"1\" class=\"dataframe\">\n",
       "  <thead>\n",
       "    <tr style=\"text-align: right;\">\n",
       "      <th></th>\n",
       "      <th>Player</th>\n",
       "      <th>Country</th>\n",
       "      <th>Age</th>\n",
       "      <th>Attack</th>\n",
       "      <th>Block</th>\n",
       "      <th>Serve</th>\n",
       "      <th>Set</th>\n",
       "      <th>Dig</th>\n",
       "      <th>Receive</th>\n",
       "      <th>Position</th>\n",
       "    </tr>\n",
       "  </thead>\n",
       "  <tbody>\n",
       "    <tr>\n",
       "      <th>0</th>\n",
       "      <td>Ichikawa Yuki</td>\n",
       "      <td>Japan</td>\n",
       "      <td>28</td>\n",
       "      <td>15.80</td>\n",
       "      <td>1.13</td>\n",
       "      <td>1.40</td>\n",
       "      <td>0.07</td>\n",
       "      <td>4.80</td>\n",
       "      <td>5.60</td>\n",
       "      <td>OH</td>\n",
       "    </tr>\n",
       "    <tr>\n",
       "      <th>1</th>\n",
       "      <td>Romano Yuri</td>\n",
       "      <td>Italy</td>\n",
       "      <td>26</td>\n",
       "      <td>12.33</td>\n",
       "      <td>1.07</td>\n",
       "      <td>1.47</td>\n",
       "      <td>0.00</td>\n",
       "      <td>3.87</td>\n",
       "      <td>0.00</td>\n",
       "      <td>OP</td>\n",
       "    </tr>\n",
       "    <tr>\n",
       "      <th>2</th>\n",
       "      <td>Abdel-Aziz Nimir</td>\n",
       "      <td>Nederland</td>\n",
       "      <td>31</td>\n",
       "      <td>15.33</td>\n",
       "      <td>0.67</td>\n",
       "      <td>2.08</td>\n",
       "      <td>0.00</td>\n",
       "      <td>3.17</td>\n",
       "      <td>0.25</td>\n",
       "      <td>OP</td>\n",
       "    </tr>\n",
       "    <tr>\n",
       "      <th>3</th>\n",
       "      <td>Herrera Jaime Jesus</td>\n",
       "      <td>Cuba</td>\n",
       "      <td>28</td>\n",
       "      <td>15.00</td>\n",
       "      <td>0.92</td>\n",
       "      <td>1.75</td>\n",
       "      <td>0.00</td>\n",
       "      <td>3.33</td>\n",
       "      <td>0.17</td>\n",
       "      <td>OP</td>\n",
       "    </tr>\n",
       "    <tr>\n",
       "      <th>4</th>\n",
       "      <td>Takahashi Ran</td>\n",
       "      <td>Japan</td>\n",
       "      <td>22</td>\n",
       "      <td>11.53</td>\n",
       "      <td>0.67</td>\n",
       "      <td>1.00</td>\n",
       "      <td>0.07</td>\n",
       "      <td>6.40</td>\n",
       "      <td>5.07</td>\n",
       "      <td>OH</td>\n",
       "    </tr>\n",
       "    <tr>\n",
       "      <th>5</th>\n",
       "      <td>Luburic Drazen</td>\n",
       "      <td>Serbia</td>\n",
       "      <td>30</td>\n",
       "      <td>14.33</td>\n",
       "      <td>0.58</td>\n",
       "      <td>1.08</td>\n",
       "      <td>0.00</td>\n",
       "      <td>4.25</td>\n",
       "      <td>0.00</td>\n",
       "      <td>OP</td>\n",
       "    </tr>\n",
       "    <tr>\n",
       "      <th>6</th>\n",
       "      <td>Urnaut Tine</td>\n",
       "      <td>Slovenia</td>\n",
       "      <td>35</td>\n",
       "      <td>12.62</td>\n",
       "      <td>0.31</td>\n",
       "      <td>1.38</td>\n",
       "      <td>0.00</td>\n",
       "      <td>5.85</td>\n",
       "      <td>5.00</td>\n",
       "      <td>OH</td>\n",
       "    </tr>\n",
       "    <tr>\n",
       "      <th>7</th>\n",
       "      <td>Zhang Jingyin</td>\n",
       "      <td>China</td>\n",
       "      <td>24</td>\n",
       "      <td>13.50</td>\n",
       "      <td>1.83</td>\n",
       "      <td>1.42</td>\n",
       "      <td>0.00</td>\n",
       "      <td>3.42</td>\n",
       "      <td>4.00</td>\n",
       "      <td>OH</td>\n",
       "    </tr>\n",
       "    <tr>\n",
       "      <th>8</th>\n",
       "      <td>Souza Alen</td>\n",
       "      <td>Brazil</td>\n",
       "      <td>29</td>\n",
       "      <td>12.46</td>\n",
       "      <td>0.62</td>\n",
       "      <td>0.54</td>\n",
       "      <td>0.00</td>\n",
       "      <td>4.15</td>\n",
       "      <td>0.00</td>\n",
       "      <td>OP</td>\n",
       "    </tr>\n",
       "    <tr>\n",
       "      <th>9</th>\n",
       "      <td>Souza Ricardo Lucarelli</td>\n",
       "      <td>Brazil</td>\n",
       "      <td>31</td>\n",
       "      <td>11.85</td>\n",
       "      <td>0.92</td>\n",
       "      <td>1.46</td>\n",
       "      <td>0.15</td>\n",
       "      <td>5.38</td>\n",
       "      <td>3.62</td>\n",
       "      <td>OH</td>\n",
       "    </tr>\n",
       "    <tr>\n",
       "      <th>10</th>\n",
       "      <td>Palonsky Luciano</td>\n",
       "      <td>Argentina</td>\n",
       "      <td>24</td>\n",
       "      <td>11.62</td>\n",
       "      <td>1.00</td>\n",
       "      <td>1.46</td>\n",
       "      <td>0.00</td>\n",
       "      <td>5.62</td>\n",
       "      <td>4.38</td>\n",
       "      <td>OH</td>\n",
       "    </tr>\n",
       "    <tr>\n",
       "      <th>11</th>\n",
       "      <td>Lopez Castro Miguel Angel</td>\n",
       "      <td>Cuba</td>\n",
       "      <td>26</td>\n",
       "      <td>12.33</td>\n",
       "      <td>0.58</td>\n",
       "      <td>1.33</td>\n",
       "      <td>0.00</td>\n",
       "      <td>4.00</td>\n",
       "      <td>4.42</td>\n",
       "      <td>OH</td>\n",
       "    </tr>\n",
       "    <tr>\n",
       "      <th>12</th>\n",
       "      <td>Cebulj Klemen</td>\n",
       "      <td>Slovenia</td>\n",
       "      <td>31</td>\n",
       "      <td>11.15</td>\n",
       "      <td>1.38</td>\n",
       "      <td>0.69</td>\n",
       "      <td>0.00</td>\n",
       "      <td>4.69</td>\n",
       "      <td>2.15</td>\n",
       "      <td>OH</td>\n",
       "    </tr>\n",
       "    <tr>\n",
       "      <th>13</th>\n",
       "      <td>Defalco Torey</td>\n",
       "      <td>USA</td>\n",
       "      <td>26</td>\n",
       "      <td>9.53</td>\n",
       "      <td>0.87</td>\n",
       "      <td>1.07</td>\n",
       "      <td>0.00</td>\n",
       "      <td>4.20</td>\n",
       "      <td>3.87</td>\n",
       "      <td>OH</td>\n",
       "    </tr>\n",
       "    <tr>\n",
       "      <th>14</th>\n",
       "      <td>Mozic Rok</td>\n",
       "      <td>Slovenia</td>\n",
       "      <td>21</td>\n",
       "      <td>10.77</td>\n",
       "      <td>1.08</td>\n",
       "      <td>0.77</td>\n",
       "      <td>0.00</td>\n",
       "      <td>3.31</td>\n",
       "      <td>2.54</td>\n",
       "      <td>OH</td>\n",
       "    </tr>\n",
       "  </tbody>\n",
       "</table>\n",
       "</div>"
      ],
      "text/plain": [
       "                       Player    Country  Age  Attack  Block  Serve   Set  \\\n",
       "0               Ichikawa Yuki      Japan   28   15.80   1.13   1.40  0.07   \n",
       "1                 Romano Yuri      Italy   26   12.33   1.07   1.47  0.00   \n",
       "2            Abdel-Aziz Nimir  Nederland   31   15.33   0.67   2.08  0.00   \n",
       "3         Herrera Jaime Jesus       Cuba   28   15.00   0.92   1.75  0.00   \n",
       "4               Takahashi Ran      Japan   22   11.53   0.67   1.00  0.07   \n",
       "5              Luburic Drazen     Serbia   30   14.33   0.58   1.08  0.00   \n",
       "6                 Urnaut Tine   Slovenia   35   12.62   0.31   1.38  0.00   \n",
       "7               Zhang Jingyin      China   24   13.50   1.83   1.42  0.00   \n",
       "8                  Souza Alen     Brazil   29   12.46   0.62   0.54  0.00   \n",
       "9     Souza Ricardo Lucarelli     Brazil   31   11.85   0.92   1.46  0.15   \n",
       "10           Palonsky Luciano  Argentina   24   11.62   1.00   1.46  0.00   \n",
       "11  Lopez Castro Miguel Angel       Cuba   26   12.33   0.58   1.33  0.00   \n",
       "12              Cebulj Klemen   Slovenia   31   11.15   1.38   0.69  0.00   \n",
       "13              Defalco Torey        USA   26    9.53   0.87   1.07  0.00   \n",
       "14                  Mozic Rok   Slovenia   21   10.77   1.08   0.77  0.00   \n",
       "\n",
       "     Dig  Receive Position  \n",
       "0   4.80     5.60       OH  \n",
       "1   3.87     0.00       OP  \n",
       "2   3.17     0.25       OP  \n",
       "3   3.33     0.17       OP  \n",
       "4   6.40     5.07       OH  \n",
       "5   4.25     0.00       OP  \n",
       "6   5.85     5.00       OH  \n",
       "7   3.42     4.00       OH  \n",
       "8   4.15     0.00       OP  \n",
       "9   5.38     3.62       OH  \n",
       "10  5.62     4.38       OH  \n",
       "11  4.00     4.42       OH  \n",
       "12  4.69     2.15       OH  \n",
       "13  4.20     3.87       OH  \n",
       "14  3.31     2.54       OH  "
      ]
     },
     "execution_count": 3,
     "metadata": {},
     "output_type": "execute_result"
    },
    {
     "name": "stdout",
     "output_type": "stream",
     "text": [
      "----------------------------------------------------------------------------------------------------\n"
     ]
    },
    {
     "data": {
      "text/html": [
       "<div>\n",
       "<style scoped>\n",
       "    .dataframe tbody tr th:only-of-type {\n",
       "        vertical-align: middle;\n",
       "    }\n",
       "\n",
       "    .dataframe tbody tr th {\n",
       "        vertical-align: top;\n",
       "    }\n",
       "\n",
       "    .dataframe thead th {\n",
       "        text-align: right;\n",
       "    }\n",
       "</style>\n",
       "<table border=\"1\" class=\"dataframe\">\n",
       "  <thead>\n",
       "    <tr style=\"text-align: right;\">\n",
       "      <th></th>\n",
       "      <th>Player</th>\n",
       "      <th>Country</th>\n",
       "      <th>Age</th>\n",
       "      <th>Attack</th>\n",
       "      <th>Block</th>\n",
       "      <th>Serve</th>\n",
       "      <th>Set</th>\n",
       "      <th>Dig</th>\n",
       "      <th>Receive</th>\n",
       "      <th>Position</th>\n",
       "    </tr>\n",
       "  </thead>\n",
       "  <tbody>\n",
       "    <tr>\n",
       "      <th>111</th>\n",
       "      <td>Brizard Antoine</td>\n",
       "      <td>France</td>\n",
       "      <td>29</td>\n",
       "      <td>0.89</td>\n",
       "      <td>0.67</td>\n",
       "      <td>0.78</td>\n",
       "      <td>17.33</td>\n",
       "      <td>3.44</td>\n",
       "      <td>0.00</td>\n",
       "      <td>S</td>\n",
       "    </tr>\n",
       "    <tr>\n",
       "      <th>112</th>\n",
       "      <td>Wang Hebin</td>\n",
       "      <td>China</td>\n",
       "      <td>24</td>\n",
       "      <td>0.42</td>\n",
       "      <td>0.00</td>\n",
       "      <td>0.33</td>\n",
       "      <td>12.50</td>\n",
       "      <td>2.50</td>\n",
       "      <td>0.17</td>\n",
       "      <td>S</td>\n",
       "    </tr>\n",
       "    <tr>\n",
       "      <th>113</th>\n",
       "      <td>Janusz Marcin</td>\n",
       "      <td>Poland</td>\n",
       "      <td>29</td>\n",
       "      <td>0.00</td>\n",
       "      <td>0.14</td>\n",
       "      <td>0.29</td>\n",
       "      <td>17.86</td>\n",
       "      <td>4.00</td>\n",
       "      <td>0.00</td>\n",
       "      <td>S</td>\n",
       "    </tr>\n",
       "    <tr>\n",
       "      <th>114</th>\n",
       "      <td>Vadi Mohammad Taher</td>\n",
       "      <td>Iran</td>\n",
       "      <td>34</td>\n",
       "      <td>0.25</td>\n",
       "      <td>0.12</td>\n",
       "      <td>0.00</td>\n",
       "      <td>11.38</td>\n",
       "      <td>2.38</td>\n",
       "      <td>0.00</td>\n",
       "      <td>S</td>\n",
       "    </tr>\n",
       "    <tr>\n",
       "      <th>115</th>\n",
       "      <td>Yamamoto Tomohiro</td>\n",
       "      <td>Japan</td>\n",
       "      <td>29</td>\n",
       "      <td>0.00</td>\n",
       "      <td>0.00</td>\n",
       "      <td>0.00</td>\n",
       "      <td>0.00</td>\n",
       "      <td>8.73</td>\n",
       "      <td>4.80</td>\n",
       "      <td>L</td>\n",
       "    </tr>\n",
       "    <tr>\n",
       "      <th>116</th>\n",
       "      <td>Kovacic Jani</td>\n",
       "      <td>Slovenia</td>\n",
       "      <td>31</td>\n",
       "      <td>0.00</td>\n",
       "      <td>0.00</td>\n",
       "      <td>0.00</td>\n",
       "      <td>0.00</td>\n",
       "      <td>9.85</td>\n",
       "      <td>6.69</td>\n",
       "      <td>L</td>\n",
       "    </tr>\n",
       "    <tr>\n",
       "      <th>117</th>\n",
       "      <td>Danani Santiago</td>\n",
       "      <td>Argentina</td>\n",
       "      <td>28</td>\n",
       "      <td>0.00</td>\n",
       "      <td>0.00</td>\n",
       "      <td>0.00</td>\n",
       "      <td>0.00</td>\n",
       "      <td>8.69</td>\n",
       "      <td>6.15</td>\n",
       "      <td>L</td>\n",
       "    </tr>\n",
       "    <tr>\n",
       "      <th>118</th>\n",
       "      <td>Grebennikov Jenia</td>\n",
       "      <td>France</td>\n",
       "      <td>33</td>\n",
       "      <td>0.00</td>\n",
       "      <td>0.00</td>\n",
       "      <td>0.00</td>\n",
       "      <td>0.00</td>\n",
       "      <td>11.44</td>\n",
       "      <td>4.78</td>\n",
       "      <td>L</td>\n",
       "    </tr>\n",
       "    <tr>\n",
       "      <th>119</th>\n",
       "      <td>Shoji Erik</td>\n",
       "      <td>USA</td>\n",
       "      <td>34</td>\n",
       "      <td>0.00</td>\n",
       "      <td>0.00</td>\n",
       "      <td>0.00</td>\n",
       "      <td>0.00</td>\n",
       "      <td>5.60</td>\n",
       "      <td>3.80</td>\n",
       "      <td>L</td>\n",
       "    </tr>\n",
       "    <tr>\n",
       "      <th>120</th>\n",
       "      <td>Andringa Robbert</td>\n",
       "      <td>Nederland</td>\n",
       "      <td>33</td>\n",
       "      <td>0.00</td>\n",
       "      <td>0.00</td>\n",
       "      <td>0.00</td>\n",
       "      <td>0.00</td>\n",
       "      <td>6.92</td>\n",
       "      <td>3.75</td>\n",
       "      <td>L</td>\n",
       "    </tr>\n",
       "    <tr>\n",
       "      <th>121</th>\n",
       "      <td>Qu Zongshuai</td>\n",
       "      <td>China</td>\n",
       "      <td>24</td>\n",
       "      <td>0.00</td>\n",
       "      <td>0.00</td>\n",
       "      <td>0.00</td>\n",
       "      <td>0.00</td>\n",
       "      <td>6.58</td>\n",
       "      <td>3.92</td>\n",
       "      <td>L</td>\n",
       "    </tr>\n",
       "    <tr>\n",
       "      <th>122</th>\n",
       "      <td>Kapur Milorad</td>\n",
       "      <td>Serbia</td>\n",
       "      <td>32</td>\n",
       "      <td>0.00</td>\n",
       "      <td>0.00</td>\n",
       "      <td>0.00</td>\n",
       "      <td>0.00</td>\n",
       "      <td>6.50</td>\n",
       "      <td>3.17</td>\n",
       "      <td>L</td>\n",
       "    </tr>\n",
       "    <tr>\n",
       "      <th>123</th>\n",
       "      <td>Zatorski Pawel</td>\n",
       "      <td>Poland</td>\n",
       "      <td>33</td>\n",
       "      <td>0.00</td>\n",
       "      <td>0.00</td>\n",
       "      <td>0.00</td>\n",
       "      <td>0.00</td>\n",
       "      <td>7.09</td>\n",
       "      <td>2.91</td>\n",
       "      <td>L</td>\n",
       "    </tr>\n",
       "    <tr>\n",
       "      <th>124</th>\n",
       "      <td>Currie Landon</td>\n",
       "      <td>Canada</td>\n",
       "      <td>24</td>\n",
       "      <td>0.00</td>\n",
       "      <td>0.00</td>\n",
       "      <td>0.00</td>\n",
       "      <td>0.00</td>\n",
       "      <td>6.00</td>\n",
       "      <td>1.83</td>\n",
       "      <td>L</td>\n",
       "    </tr>\n",
       "    <tr>\n",
       "      <th>125</th>\n",
       "      <td>Hazratpour Mohammadreza</td>\n",
       "      <td>Iran</td>\n",
       "      <td>24</td>\n",
       "      <td>0.00</td>\n",
       "      <td>0.00</td>\n",
       "      <td>0.00</td>\n",
       "      <td>0.00</td>\n",
       "      <td>5.92</td>\n",
       "      <td>3.25</td>\n",
       "      <td>L</td>\n",
       "    </tr>\n",
       "    <tr>\n",
       "      <th>126</th>\n",
       "      <td>Graven Leonard</td>\n",
       "      <td>Germany</td>\n",
       "      <td>19</td>\n",
       "      <td>0.00</td>\n",
       "      <td>0.00</td>\n",
       "      <td>0.00</td>\n",
       "      <td>0.00</td>\n",
       "      <td>5.92</td>\n",
       "      <td>1.92</td>\n",
       "      <td>L</td>\n",
       "    </tr>\n",
       "    <tr>\n",
       "      <th>127</th>\n",
       "      <td>Balaso Fabio</td>\n",
       "      <td>Italy</td>\n",
       "      <td>28</td>\n",
       "      <td>0.00</td>\n",
       "      <td>0.00</td>\n",
       "      <td>0.00</td>\n",
       "      <td>0.00</td>\n",
       "      <td>10.00</td>\n",
       "      <td>5.00</td>\n",
       "      <td>L</td>\n",
       "    </tr>\n",
       "    <tr>\n",
       "      <th>128</th>\n",
       "      <td>Nacsimento Maique Reis</td>\n",
       "      <td>Brazil</td>\n",
       "      <td>26</td>\n",
       "      <td>0.00</td>\n",
       "      <td>0.00</td>\n",
       "      <td>0.00</td>\n",
       "      <td>0.00</td>\n",
       "      <td>5.08</td>\n",
       "      <td>2.46</td>\n",
       "      <td>L</td>\n",
       "    </tr>\n",
       "    <tr>\n",
       "      <th>129</th>\n",
       "      <td>Garcia Alvarez Yonder Roman</td>\n",
       "      <td>Cuba</td>\n",
       "      <td>30</td>\n",
       "      <td>0.00</td>\n",
       "      <td>0.00</td>\n",
       "      <td>0.00</td>\n",
       "      <td>0.00</td>\n",
       "      <td>4.25</td>\n",
       "      <td>3.25</td>\n",
       "      <td>L</td>\n",
       "    </tr>\n",
       "    <tr>\n",
       "      <th>130</th>\n",
       "      <td>Salparov Teodor</td>\n",
       "      <td>Bulgaria</td>\n",
       "      <td>41</td>\n",
       "      <td>0.00</td>\n",
       "      <td>0.00</td>\n",
       "      <td>0.00</td>\n",
       "      <td>0.00</td>\n",
       "      <td>5.00</td>\n",
       "      <td>3.75</td>\n",
       "      <td>L</td>\n",
       "    </tr>\n",
       "  </tbody>\n",
       "</table>\n",
       "</div>"
      ],
      "text/plain": [
       "                          Player    Country  Age  Attack  Block  Serve    Set  \\\n",
       "111              Brizard Antoine     France   29    0.89   0.67   0.78  17.33   \n",
       "112                   Wang Hebin      China   24    0.42   0.00   0.33  12.50   \n",
       "113                Janusz Marcin     Poland   29    0.00   0.14   0.29  17.86   \n",
       "114          Vadi Mohammad Taher       Iran   34    0.25   0.12   0.00  11.38   \n",
       "115            Yamamoto Tomohiro      Japan   29    0.00   0.00   0.00   0.00   \n",
       "116                 Kovacic Jani   Slovenia   31    0.00   0.00   0.00   0.00   \n",
       "117              Danani Santiago  Argentina   28    0.00   0.00   0.00   0.00   \n",
       "118            Grebennikov Jenia     France   33    0.00   0.00   0.00   0.00   \n",
       "119                   Shoji Erik        USA   34    0.00   0.00   0.00   0.00   \n",
       "120             Andringa Robbert  Nederland   33    0.00   0.00   0.00   0.00   \n",
       "121                 Qu Zongshuai      China   24    0.00   0.00   0.00   0.00   \n",
       "122               Kapur Milorad      Serbia   32    0.00   0.00   0.00   0.00   \n",
       "123              Zatorski Pawel      Poland   33    0.00   0.00   0.00   0.00   \n",
       "124                Currie Landon     Canada   24    0.00   0.00   0.00   0.00   \n",
       "125      Hazratpour Mohammadreza       Iran   24    0.00   0.00   0.00   0.00   \n",
       "126               Graven Leonard    Germany   19    0.00   0.00   0.00   0.00   \n",
       "127                 Balaso Fabio      Italy   28    0.00   0.00   0.00   0.00   \n",
       "128      Nacsimento Maique Reis      Brazil   26    0.00   0.00   0.00   0.00   \n",
       "129  Garcia Alvarez Yonder Roman       Cuba   30    0.00   0.00   0.00   0.00   \n",
       "130              Salparov Teodor   Bulgaria   41    0.00   0.00   0.00   0.00   \n",
       "\n",
       "       Dig  Receive Position  \n",
       "111   3.44     0.00        S  \n",
       "112   2.50     0.17        S  \n",
       "113   4.00     0.00        S  \n",
       "114   2.38     0.00        S  \n",
       "115   8.73     4.80        L  \n",
       "116   9.85     6.69        L  \n",
       "117   8.69     6.15        L  \n",
       "118  11.44     4.78        L  \n",
       "119   5.60     3.80        L  \n",
       "120   6.92     3.75        L  \n",
       "121   6.58     3.92        L  \n",
       "122   6.50     3.17        L  \n",
       "123   7.09     2.91        L  \n",
       "124   6.00     1.83        L  \n",
       "125   5.92     3.25        L  \n",
       "126   5.92     1.92        L  \n",
       "127  10.00     5.00        L  \n",
       "128   5.08     2.46        L  \n",
       "129   4.25     3.25        L  \n",
       "130   5.00     3.75        L  "
      ]
     },
     "execution_count": 3,
     "metadata": {},
     "output_type": "execute_result"
    }
   ],
   "source": [
    "vnl.head(15)\n",
    "print(\"-\"*100)\n",
    "vnl.tail(20)"
   ]
  },
  {
   "cell_type": "markdown",
   "id": "b944ab03",
   "metadata": {
    "_cell_guid": "1912a7ac-d97d-4cff-8b27-caab597f6a61",
    "_uuid": "40eca194-62d5-40dc-8187-fb20aad6f9bd",
    "papermill": {
     "duration": 0.020522,
     "end_time": "2024-01-14T02:07:05.502962",
     "exception": false,
     "start_time": "2024-01-14T02:07:05.482440",
     "status": "completed"
    },
    "tags": []
   },
   "source": [
    "# The dataset contains 10 columns with no missing values. All columns, except for age, country, player, and position are of type float. Age is the only column that is an integer, while country, player, and position are of type object.\n"
   ]
  },
  {
   "cell_type": "code",
   "execution_count": 4,
   "id": "4f4895e3",
   "metadata": {
    "_cell_guid": "1efcf483-c64d-469e-9932-5873e0a8d93d",
    "_uuid": "76189113-3596-4d29-900d-9c3a28423849",
    "collapsed": false,
    "execution": {
     "iopub.execute_input": "2024-01-14T02:07:05.546076Z",
     "iopub.status.busy": "2024-01-14T02:07:05.545617Z",
     "iopub.status.idle": "2024-01-14T02:07:05.619438Z",
     "shell.execute_reply": "2024-01-14T02:07:05.618135Z"
    },
    "jupyter": {
     "outputs_hidden": false
    },
    "papermill": {
     "duration": 0.098147,
     "end_time": "2024-01-14T02:07:05.622033",
     "exception": false,
     "start_time": "2024-01-14T02:07:05.523886",
     "status": "completed"
    },
    "tags": []
   },
   "outputs": [
    {
     "name": "stdout",
     "output_type": "stream",
     "text": [
      "<class 'pandas.core.frame.DataFrame'>\n",
      "RangeIndex: 131 entries, 0 to 130\n",
      "Data columns (total 10 columns):\n",
      " #   Column    Non-Null Count  Dtype  \n",
      "---  ------    --------------  -----  \n",
      " 0   Player    131 non-null    object \n",
      " 1   Country   131 non-null    object \n",
      " 2   Age       131 non-null    int64  \n",
      " 3   Attack    131 non-null    float64\n",
      " 4   Block     131 non-null    float64\n",
      " 5   Serve     131 non-null    float64\n",
      " 6   Set       131 non-null    float64\n",
      " 7   Dig       131 non-null    float64\n",
      " 8   Receive   131 non-null    float64\n",
      " 9   Position  131 non-null    object \n",
      "dtypes: float64(6), int64(1), object(3)\n",
      "memory usage: 10.4+ KB\n",
      "----------------------------------------------------------------------------------------------------\n"
     ]
    },
    {
     "data": {
      "text/plain": [
       "Player      0\n",
       "Country     0\n",
       "Age         0\n",
       "Attack      0\n",
       "Block       0\n",
       "Serve       0\n",
       "Set         0\n",
       "Dig         0\n",
       "Receive     0\n",
       "Position    0\n",
       "dtype: int64"
      ]
     },
     "execution_count": 4,
     "metadata": {},
     "output_type": "execute_result"
    },
    {
     "name": "stdout",
     "output_type": "stream",
     "text": [
      "----------------------------------------------------------------------------------------------------\n"
     ]
    },
    {
     "data": {
      "text/html": [
       "<div>\n",
       "<style scoped>\n",
       "    .dataframe tbody tr th:only-of-type {\n",
       "        vertical-align: middle;\n",
       "    }\n",
       "\n",
       "    .dataframe tbody tr th {\n",
       "        vertical-align: top;\n",
       "    }\n",
       "\n",
       "    .dataframe thead th {\n",
       "        text-align: right;\n",
       "    }\n",
       "</style>\n",
       "<table border=\"1\" class=\"dataframe\">\n",
       "  <thead>\n",
       "    <tr style=\"text-align: right;\">\n",
       "      <th></th>\n",
       "      <th>Age</th>\n",
       "      <th>Attack</th>\n",
       "      <th>Block</th>\n",
       "      <th>Serve</th>\n",
       "      <th>Set</th>\n",
       "      <th>Dig</th>\n",
       "      <th>Receive</th>\n",
       "    </tr>\n",
       "  </thead>\n",
       "  <tbody>\n",
       "    <tr>\n",
       "      <th>count</th>\n",
       "      <td>131.000000</td>\n",
       "      <td>131.000000</td>\n",
       "      <td>131.000000</td>\n",
       "      <td>131.000000</td>\n",
       "      <td>131.000000</td>\n",
       "      <td>131.000000</td>\n",
       "      <td>131.000000</td>\n",
       "    </tr>\n",
       "    <tr>\n",
       "      <th>mean</th>\n",
       "      <td>27.809160</td>\n",
       "      <td>5.642672</td>\n",
       "      <td>0.845573</td>\n",
       "      <td>0.535802</td>\n",
       "      <td>2.192595</td>\n",
       "      <td>3.428397</td>\n",
       "      <td>1.684198</td>\n",
       "    </tr>\n",
       "    <tr>\n",
       "      <th>std</th>\n",
       "      <td>4.186268</td>\n",
       "      <td>4.256229</td>\n",
       "      <td>0.700896</td>\n",
       "      <td>0.454346</td>\n",
       "      <td>6.031587</td>\n",
       "      <td>2.077823</td>\n",
       "      <td>1.989939</td>\n",
       "    </tr>\n",
       "    <tr>\n",
       "      <th>min</th>\n",
       "      <td>19.000000</td>\n",
       "      <td>0.000000</td>\n",
       "      <td>0.000000</td>\n",
       "      <td>0.000000</td>\n",
       "      <td>0.000000</td>\n",
       "      <td>0.530000</td>\n",
       "      <td>0.000000</td>\n",
       "    </tr>\n",
       "    <tr>\n",
       "      <th>25%</th>\n",
       "      <td>25.000000</td>\n",
       "      <td>2.800000</td>\n",
       "      <td>0.370000</td>\n",
       "      <td>0.240000</td>\n",
       "      <td>0.000000</td>\n",
       "      <td>1.920000</td>\n",
       "      <td>0.000000</td>\n",
       "    </tr>\n",
       "    <tr>\n",
       "      <th>50%</th>\n",
       "      <td>27.000000</td>\n",
       "      <td>5.170000</td>\n",
       "      <td>0.690000</td>\n",
       "      <td>0.420000</td>\n",
       "      <td>0.000000</td>\n",
       "      <td>3.000000</td>\n",
       "      <td>0.330000</td>\n",
       "    </tr>\n",
       "    <tr>\n",
       "      <th>75%</th>\n",
       "      <td>30.000000</td>\n",
       "      <td>8.600000</td>\n",
       "      <td>1.140000</td>\n",
       "      <td>0.760000</td>\n",
       "      <td>0.000000</td>\n",
       "      <td>4.510000</td>\n",
       "      <td>3.385000</td>\n",
       "    </tr>\n",
       "    <tr>\n",
       "      <th>max</th>\n",
       "      <td>41.000000</td>\n",
       "      <td>15.800000</td>\n",
       "      <td>4.080000</td>\n",
       "      <td>2.080000</td>\n",
       "      <td>26.890000</td>\n",
       "      <td>11.440000</td>\n",
       "      <td>6.690000</td>\n",
       "    </tr>\n",
       "  </tbody>\n",
       "</table>\n",
       "</div>"
      ],
      "text/plain": [
       "              Age      Attack       Block       Serve         Set         Dig  \\\n",
       "count  131.000000  131.000000  131.000000  131.000000  131.000000  131.000000   \n",
       "mean    27.809160    5.642672    0.845573    0.535802    2.192595    3.428397   \n",
       "std      4.186268    4.256229    0.700896    0.454346    6.031587    2.077823   \n",
       "min     19.000000    0.000000    0.000000    0.000000    0.000000    0.530000   \n",
       "25%     25.000000    2.800000    0.370000    0.240000    0.000000    1.920000   \n",
       "50%     27.000000    5.170000    0.690000    0.420000    0.000000    3.000000   \n",
       "75%     30.000000    8.600000    1.140000    0.760000    0.000000    4.510000   \n",
       "max     41.000000   15.800000    4.080000    2.080000   26.890000   11.440000   \n",
       "\n",
       "          Receive  \n",
       "count  131.000000  \n",
       "mean     1.684198  \n",
       "std      1.989939  \n",
       "min      0.000000  \n",
       "25%      0.000000  \n",
       "50%      0.330000  \n",
       "75%      3.385000  \n",
       "max      6.690000  "
      ]
     },
     "execution_count": 4,
     "metadata": {},
     "output_type": "execute_result"
    },
    {
     "name": "stdout",
     "output_type": "stream",
     "text": [
      "----------------------------------------------------------------------------------------------------\n",
      "\n",
      "Name of Column is: Player and unique values are: ['Ichikawa Yuki' 'Romano Yuri' 'Abdel-Aziz Nimir' 'Herrera Jaime Jesus'\n",
      " 'Takahashi Ran' 'Luburic Drazen' 'Urnaut Tine' 'Zhang Jingyin'\n",
      " 'Souza Alen' 'Souza Ricardo Lucarelli' 'Palonsky Luciano'\n",
      " 'Lopez Castro Miguel Angel' 'Cebulj Klemen' 'Defalco Torey' 'Mozic Rok'\n",
      " 'Anderson Matthew' 'Weber Linus' 'Kujundzic Miran ' 'Nishida Yuji'\n",
      " 'Lima Bruno' 'Maar Stephen Timothy' 'Miyaura Kento'\n",
      " 'Michieletto Alessandro' 'Nikolov Aleksandar' 'Sclater Ryan Joseph'\n",
      " 'Vicentin Luciano ' 'Leon Venero Wilfredo' 'Lavia Daniele'\n",
      " 'Reichert Moritz' 'Loser Agustin' 'Van Garderen Maarten'\n",
      " 'Atanasov Martin' 'Esmaeilnezhad Amin' 'Jiang Chunan' 'Brehme Anton'\n",
      " 'Tillie Kevin' 'Clevenot Trevor' 'Yant Herrera Marlon' 'Sharifi Morteza'\n",
      " 'Hoag Nicholas ' 'Russell Aaron' 'Yu Yuantai' 'Koukartsev Pablo Sergio'\n",
      " 'Szwarc Arthur ' 'Jaeschkle Thomas ' 'Onodera Taishi'\n",
      " 'Honorato Henrique Dantas Nobrega' 'Kurek Bartosz' 'Kaczmarek Lukasz'\n",
      " 'Sliwka Aleksander ' 'Asparuhov Asparuh' 'Chineyeze Barthelemy'\n",
      " 'Dimitrov Dimitar' 'Tuinstra Bennie Junior' 'Carle Timothee' 'Patry Jean'\n",
      " 'Concepcion Rojas Javier Octavio' 'Pajenk Alen' 'Krsmanovic Petar'\n",
      " 'Peric Pavle' 'Nedeljkovic Aleksandar ' 'Faure Theo' 'Bultor Daryl '\n",
      " 'Russo Roberto' 'Yamauchi Akihiro ' 'Ivovic Marko' 'Demyanenko Danny'\n",
      " 'Plak Fabian' 'Boyer Stephen' 'Bieniek Mateusz'\n",
      " 'Resende Gualberto Flavio' 'Hossein Khanzadeh Poriya' 'Kozamernik Jan'\n",
      " 'Szalpuk Artur' 'Grozdenov Aleks' 'Mousavi Seyed Mohammad' 'Holt Maxwell'\n",
      " 'Hajipour Ali' 'Zhai Dejun ' 'Li Yongzhen' 'Esfandiar Amirhossein'\n",
      " 'Rinaldi Tommaso' 'Masso Alvarez Jose Israel'\n",
      " 'Rodrigues Pinto Otavio Henrique' 'Peng Shikun' 'Valizadeh Mohammad'\n",
      " 'Semeniuk Kamil' 'Ter Maat Wouter' 'Galassi Gianluca '\n",
      " 'Nunes da Cunha Jr Judson Amabel' 'Kochanowski Jakub' 'Stern Ziga'\n",
      " 'Averill Taylor' 'Kolev Nikolay' 'Smith David' 'Bohme Yan'\n",
      " 'Zerba Nicolas' 'Rohrs Erik' 'Krick Tobias' 'Christenson Micah'\n",
      " 'Sekita Masahiro' 'Giannelli Simone' 'De Cecco Luciano'\n",
      " 'Rezende Bruno Mossa' 'Ropret Gregor ' 'Seganov Georgi '\n",
      " 'Keemink Wessel ' 'Todorovic Vuk' 'Herr Luke' 'Tille Johannes'\n",
      " 'Taboada Diaz Lyvan' 'Brizard Antoine' 'Wang Hebin' 'Janusz Marcin'\n",
      " 'Vadi Mohammad Taher' 'Yamamoto Tomohiro' 'Kovacic Jani'\n",
      " 'Danani Santiago' 'Grebennikov Jenia' 'Shoji Erik' 'Andringa Robbert'\n",
      " 'Qu Zongshuai' 'Kapur Milorad ' 'Zatorski Pawel ' 'Currie Landon'\n",
      " 'Hazratpour Mohammadreza' 'Graven Leonard' 'Balaso Fabio'\n",
      " 'Nacsimento Maique Reis ' 'Garcia Alvarez Yonder Roman' 'Salparov Teodor']\n",
      "\n",
      "Name of Column is: Country and unique values are: ['Japan' 'Italy' 'Nederland' 'Cuba' 'Serbia' 'Slovenia' 'China' 'Brazil'\n",
      " 'Argentina' 'USA' 'Germany' 'Canada' 'Bulgaria' 'Poland' 'Iran' 'France']\n",
      "\n",
      "\n",
      "\n",
      "\n",
      "\n",
      "\n",
      "\n",
      "\n",
      "Name of Column is: Position and unique values are: ['OH' 'OP' 'MB' 'S' 'L']\n"
     ]
    }
   ],
   "source": [
    "vnl.info()\n",
    "print(\"-\"*100)\n",
    "vnl.isnull().sum()\n",
    "print(\"-\"*100)\n",
    "vnl.describe()\n",
    "print(\"-\"*100)\n",
    "for col in df.columns:\n",
    "    print()\n",
    "    if df[col].dtype == 'object':\n",
    "        print(f'Name of Column is: {col} and unique values are: {df[col].unique()}')"
   ]
  },
  {
   "cell_type": "markdown",
   "id": "5f4641c2",
   "metadata": {
    "_cell_guid": "2b3e52bd-216b-480e-a88e-d16b17a8a00e",
    "_uuid": "3de3c2bb-b650-4b8a-b8a6-702d27a348ea",
    "papermill": {
     "duration": 0.02097,
     "end_time": "2024-01-14T02:07:05.664236",
     "exception": false,
     "start_time": "2024-01-14T02:07:05.643266",
     "status": "completed"
    },
    "tags": []
   },
   "source": [
    "# The analysis includes three categorical columns: Player, Country, and Position. The dependent variable will be Position, which has five unique values. All players in the team can attack. The exception is the libero, who is a back player and cannot serve, block or set.To conduct the VNL onset analysis, we will confidently generate attack, block, and service charts, while excluding liberos.We will create average value charts for attack, block and service due to the large number of players."
   ]
  },
  {
   "cell_type": "code",
   "execution_count": 5,
   "id": "551282f9",
   "metadata": {
    "_cell_guid": "9a7682f9-90d4-437a-978e-f005df6d9828",
    "_uuid": "c3e5a8aa-0db0-4dd1-ad03-c657a5c653a2",
    "collapsed": false,
    "execution": {
     "iopub.execute_input": "2024-01-14T02:07:05.708613Z",
     "iopub.status.busy": "2024-01-14T02:07:05.708210Z",
     "iopub.status.idle": "2024-01-14T02:07:07.691851Z",
     "shell.execute_reply": "2024-01-14T02:07:07.690562Z"
    },
    "jupyter": {
     "outputs_hidden": false
    },
    "papermill": {
     "duration": 2.008975,
     "end_time": "2024-01-14T02:07:07.694345",
     "exception": false,
     "start_time": "2024-01-14T02:07:05.685370",
     "status": "completed"
    },
    "tags": []
   },
   "outputs": [
    {
     "data": {
      "text/html": [
       "        <script type=\"text/javascript\">\n",
       "        window.PlotlyConfig = {MathJaxConfig: 'local'};\n",
       "        if (window.MathJax && window.MathJax.Hub && window.MathJax.Hub.Config) {window.MathJax.Hub.Config({SVG: {font: \"STIX-Web\"}});}\n",
       "        if (typeof require !== 'undefined') {\n",
       "        require.undef(\"plotly\");\n",
       "        requirejs.config({\n",
       "            paths: {\n",
       "                'plotly': ['https://cdn.plot.ly/plotly-2.25.2.min']\n",
       "            }\n",
       "        });\n",
       "        require(['plotly'], function(Plotly) {\n",
       "            window._Plotly = Plotly;\n",
       "        });\n",
       "        }\n",
       "        </script>\n",
       "        "
      ]
     },
     "metadata": {},
     "output_type": "display_data"
    },
    {
     "data": {
      "text/html": [
       "<div>                            <div id=\"fa48c162-c62a-47a6-bee2-710abf2adc12\" class=\"plotly-graph-div\" style=\"height:525px; width:100%;\"></div>            <script type=\"text/javascript\">                require([\"plotly\"], function(Plotly) {                    window.PLOTLYENV=window.PLOTLYENV || {};                                    if (document.getElementById(\"fa48c162-c62a-47a6-bee2-710abf2adc12\")) {                    Plotly.newPlot(                        \"fa48c162-c62a-47a6-bee2-710abf2adc12\",                        [{\"alignmentgroup\":\"True\",\"bingroup\":\"x\",\"hovertemplate\":\"Position=OH\\u003cbr\\u003eAge=%{x}\\u003cbr\\u003ecount=%{y}\\u003cextra\\u003e\\u003c\\u002fextra\\u003e\",\"legendgroup\":\"OH\",\"marker\":{\"color\":\"#636efa\",\"opacity\":0.5,\"pattern\":{\"shape\":\"\"}},\"name\":\"OH\",\"offsetgroup\":\"OH\",\"orientation\":\"v\",\"showlegend\":true,\"x\":[28,22,35,24,31,24,26,31,26,21,29,22,20,23,30,24,28,33,27,33,29,22,24,31,30,26,30,26,28,23,23,28,25,33,19,28,24,24,22,27,30,22],\"xaxis\":\"x\",\"yaxis\":\"y\",\"type\":\"histogram\"},{\"alignmentgroup\":\"True\",\"bingroup\":\"x\",\"hovertemplate\":\"Position=OP\\u003cbr\\u003eAge=%{x}\\u003cbr\\u003ecount=%{y}\\u003cextra\\u003e\\u003c\\u002fextra\\u003e\",\"legendgroup\":\"OP\",\"marker\":{\"color\":\"#EF553B\",\"opacity\":0.5,\"pattern\":{\"shape\":\"\"}},\"name\":\"OP\",\"offsetgroup\":\"OP\",\"orientation\":\"v\",\"showlegend\":true,\"x\":[26,31,28,30,29,36,24,26,23,27,24,29,27,29,30,28,35,29,23,27,24,27,22,32,26],\"xaxis\":\"x\",\"yaxis\":\"y\",\"type\":\"histogram\"},{\"alignmentgroup\":\"True\",\"bingroup\":\"x\",\"hovertemplate\":\"Position=MB\\u003cbr\\u003eAge=%{x}\\u003cbr\\u003ecount=%{y}\\u003cextra\\u003e\\u003c\\u002fextra\\u003e\",\"legendgroup\":\"MB\",\"marker\":{\"color\":\"#00cc96\",\"opacity\":0.5,\"pattern\":{\"shape\":\"\"}},\"name\":\"MB\",\"offsetgroup\":\"MB\",\"orientation\":\"v\",\"showlegend\":true,\"x\":[26,24,27,26,26,37,33,26,28,26,30,29,26,29,30,28,25,36,36,25,26,32,23,22,26,25,26,31,26,38,24,25],\"xaxis\":\"x\",\"yaxis\":\"y\",\"type\":\"histogram\"},{\"alignmentgroup\":\"True\",\"bingroup\":\"x\",\"hovertemplate\":\"Position=S\\u003cbr\\u003eAge=%{x}\\u003cbr\\u003ecount=%{y}\\u003cextra\\u003e\\u003c\\u002fextra\\u003e\",\"legendgroup\":\"S\",\"marker\":{\"color\":\"#ab63fa\",\"opacity\":0.5,\"pattern\":{\"shape\":\"\"}},\"name\":\"S\",\"offsetgroup\":\"S\",\"orientation\":\"v\",\"showlegend\":true,\"x\":[30,30,27,35,37,34,30,30,25,29,26,25,29,24,29,34],\"xaxis\":\"x\",\"yaxis\":\"y\",\"type\":\"histogram\"},{\"alignmentgroup\":\"True\",\"bingroup\":\"x\",\"hovertemplate\":\"Position=L\\u003cbr\\u003eAge=%{x}\\u003cbr\\u003ecount=%{y}\\u003cextra\\u003e\\u003c\\u002fextra\\u003e\",\"legendgroup\":\"L\",\"marker\":{\"color\":\"#FFA15A\",\"opacity\":0.5,\"pattern\":{\"shape\":\"\"}},\"name\":\"L\",\"offsetgroup\":\"L\",\"orientation\":\"v\",\"showlegend\":true,\"x\":[29,31,28,33,34,33,24,32,33,24,24,19,28,26,30,41],\"xaxis\":\"x\",\"yaxis\":\"y\",\"type\":\"histogram\"}],                        {\"template\":{\"data\":{\"histogram2dcontour\":[{\"type\":\"histogram2dcontour\",\"colorbar\":{\"outlinewidth\":0,\"ticks\":\"\"},\"colorscale\":[[0.0,\"#0d0887\"],[0.1111111111111111,\"#46039f\"],[0.2222222222222222,\"#7201a8\"],[0.3333333333333333,\"#9c179e\"],[0.4444444444444444,\"#bd3786\"],[0.5555555555555556,\"#d8576b\"],[0.6666666666666666,\"#ed7953\"],[0.7777777777777778,\"#fb9f3a\"],[0.8888888888888888,\"#fdca26\"],[1.0,\"#f0f921\"]]}],\"choropleth\":[{\"type\":\"choropleth\",\"colorbar\":{\"outlinewidth\":0,\"ticks\":\"\"}}],\"histogram2d\":[{\"type\":\"histogram2d\",\"colorbar\":{\"outlinewidth\":0,\"ticks\":\"\"},\"colorscale\":[[0.0,\"#0d0887\"],[0.1111111111111111,\"#46039f\"],[0.2222222222222222,\"#7201a8\"],[0.3333333333333333,\"#9c179e\"],[0.4444444444444444,\"#bd3786\"],[0.5555555555555556,\"#d8576b\"],[0.6666666666666666,\"#ed7953\"],[0.7777777777777778,\"#fb9f3a\"],[0.8888888888888888,\"#fdca26\"],[1.0,\"#f0f921\"]]}],\"heatmap\":[{\"type\":\"heatmap\",\"colorbar\":{\"outlinewidth\":0,\"ticks\":\"\"},\"colorscale\":[[0.0,\"#0d0887\"],[0.1111111111111111,\"#46039f\"],[0.2222222222222222,\"#7201a8\"],[0.3333333333333333,\"#9c179e\"],[0.4444444444444444,\"#bd3786\"],[0.5555555555555556,\"#d8576b\"],[0.6666666666666666,\"#ed7953\"],[0.7777777777777778,\"#fb9f3a\"],[0.8888888888888888,\"#fdca26\"],[1.0,\"#f0f921\"]]}],\"heatmapgl\":[{\"type\":\"heatmapgl\",\"colorbar\":{\"outlinewidth\":0,\"ticks\":\"\"},\"colorscale\":[[0.0,\"#0d0887\"],[0.1111111111111111,\"#46039f\"],[0.2222222222222222,\"#7201a8\"],[0.3333333333333333,\"#9c179e\"],[0.4444444444444444,\"#bd3786\"],[0.5555555555555556,\"#d8576b\"],[0.6666666666666666,\"#ed7953\"],[0.7777777777777778,\"#fb9f3a\"],[0.8888888888888888,\"#fdca26\"],[1.0,\"#f0f921\"]]}],\"contourcarpet\":[{\"type\":\"contourcarpet\",\"colorbar\":{\"outlinewidth\":0,\"ticks\":\"\"}}],\"contour\":[{\"type\":\"contour\",\"colorbar\":{\"outlinewidth\":0,\"ticks\":\"\"},\"colorscale\":[[0.0,\"#0d0887\"],[0.1111111111111111,\"#46039f\"],[0.2222222222222222,\"#7201a8\"],[0.3333333333333333,\"#9c179e\"],[0.4444444444444444,\"#bd3786\"],[0.5555555555555556,\"#d8576b\"],[0.6666666666666666,\"#ed7953\"],[0.7777777777777778,\"#fb9f3a\"],[0.8888888888888888,\"#fdca26\"],[1.0,\"#f0f921\"]]}],\"surface\":[{\"type\":\"surface\",\"colorbar\":{\"outlinewidth\":0,\"ticks\":\"\"},\"colorscale\":[[0.0,\"#0d0887\"],[0.1111111111111111,\"#46039f\"],[0.2222222222222222,\"#7201a8\"],[0.3333333333333333,\"#9c179e\"],[0.4444444444444444,\"#bd3786\"],[0.5555555555555556,\"#d8576b\"],[0.6666666666666666,\"#ed7953\"],[0.7777777777777778,\"#fb9f3a\"],[0.8888888888888888,\"#fdca26\"],[1.0,\"#f0f921\"]]}],\"mesh3d\":[{\"type\":\"mesh3d\",\"colorbar\":{\"outlinewidth\":0,\"ticks\":\"\"}}],\"scatter\":[{\"fillpattern\":{\"fillmode\":\"overlay\",\"size\":10,\"solidity\":0.2},\"type\":\"scatter\"}],\"parcoords\":[{\"type\":\"parcoords\",\"line\":{\"colorbar\":{\"outlinewidth\":0,\"ticks\":\"\"}}}],\"scatterpolargl\":[{\"type\":\"scatterpolargl\",\"marker\":{\"colorbar\":{\"outlinewidth\":0,\"ticks\":\"\"}}}],\"bar\":[{\"error_x\":{\"color\":\"#2a3f5f\"},\"error_y\":{\"color\":\"#2a3f5f\"},\"marker\":{\"line\":{\"color\":\"#E5ECF6\",\"width\":0.5},\"pattern\":{\"fillmode\":\"overlay\",\"size\":10,\"solidity\":0.2}},\"type\":\"bar\"}],\"scattergeo\":[{\"type\":\"scattergeo\",\"marker\":{\"colorbar\":{\"outlinewidth\":0,\"ticks\":\"\"}}}],\"scatterpolar\":[{\"type\":\"scatterpolar\",\"marker\":{\"colorbar\":{\"outlinewidth\":0,\"ticks\":\"\"}}}],\"histogram\":[{\"marker\":{\"pattern\":{\"fillmode\":\"overlay\",\"size\":10,\"solidity\":0.2}},\"type\":\"histogram\"}],\"scattergl\":[{\"type\":\"scattergl\",\"marker\":{\"colorbar\":{\"outlinewidth\":0,\"ticks\":\"\"}}}],\"scatter3d\":[{\"type\":\"scatter3d\",\"line\":{\"colorbar\":{\"outlinewidth\":0,\"ticks\":\"\"}},\"marker\":{\"colorbar\":{\"outlinewidth\":0,\"ticks\":\"\"}}}],\"scattermapbox\":[{\"type\":\"scattermapbox\",\"marker\":{\"colorbar\":{\"outlinewidth\":0,\"ticks\":\"\"}}}],\"scatterternary\":[{\"type\":\"scatterternary\",\"marker\":{\"colorbar\":{\"outlinewidth\":0,\"ticks\":\"\"}}}],\"scattercarpet\":[{\"type\":\"scattercarpet\",\"marker\":{\"colorbar\":{\"outlinewidth\":0,\"ticks\":\"\"}}}],\"carpet\":[{\"aaxis\":{\"endlinecolor\":\"#2a3f5f\",\"gridcolor\":\"white\",\"linecolor\":\"white\",\"minorgridcolor\":\"white\",\"startlinecolor\":\"#2a3f5f\"},\"baxis\":{\"endlinecolor\":\"#2a3f5f\",\"gridcolor\":\"white\",\"linecolor\":\"white\",\"minorgridcolor\":\"white\",\"startlinecolor\":\"#2a3f5f\"},\"type\":\"carpet\"}],\"table\":[{\"cells\":{\"fill\":{\"color\":\"#EBF0F8\"},\"line\":{\"color\":\"white\"}},\"header\":{\"fill\":{\"color\":\"#C8D4E3\"},\"line\":{\"color\":\"white\"}},\"type\":\"table\"}],\"barpolar\":[{\"marker\":{\"line\":{\"color\":\"#E5ECF6\",\"width\":0.5},\"pattern\":{\"fillmode\":\"overlay\",\"size\":10,\"solidity\":0.2}},\"type\":\"barpolar\"}],\"pie\":[{\"automargin\":true,\"type\":\"pie\"}]},\"layout\":{\"autotypenumbers\":\"strict\",\"colorway\":[\"#636efa\",\"#EF553B\",\"#00cc96\",\"#ab63fa\",\"#FFA15A\",\"#19d3f3\",\"#FF6692\",\"#B6E880\",\"#FF97FF\",\"#FECB52\"],\"font\":{\"color\":\"#2a3f5f\"},\"hovermode\":\"closest\",\"hoverlabel\":{\"align\":\"left\"},\"paper_bgcolor\":\"white\",\"plot_bgcolor\":\"#E5ECF6\",\"polar\":{\"bgcolor\":\"#E5ECF6\",\"angularaxis\":{\"gridcolor\":\"white\",\"linecolor\":\"white\",\"ticks\":\"\"},\"radialaxis\":{\"gridcolor\":\"white\",\"linecolor\":\"white\",\"ticks\":\"\"}},\"ternary\":{\"bgcolor\":\"#E5ECF6\",\"aaxis\":{\"gridcolor\":\"white\",\"linecolor\":\"white\",\"ticks\":\"\"},\"baxis\":{\"gridcolor\":\"white\",\"linecolor\":\"white\",\"ticks\":\"\"},\"caxis\":{\"gridcolor\":\"white\",\"linecolor\":\"white\",\"ticks\":\"\"}},\"coloraxis\":{\"colorbar\":{\"outlinewidth\":0,\"ticks\":\"\"}},\"colorscale\":{\"sequential\":[[0.0,\"#0d0887\"],[0.1111111111111111,\"#46039f\"],[0.2222222222222222,\"#7201a8\"],[0.3333333333333333,\"#9c179e\"],[0.4444444444444444,\"#bd3786\"],[0.5555555555555556,\"#d8576b\"],[0.6666666666666666,\"#ed7953\"],[0.7777777777777778,\"#fb9f3a\"],[0.8888888888888888,\"#fdca26\"],[1.0,\"#f0f921\"]],\"sequentialminus\":[[0.0,\"#0d0887\"],[0.1111111111111111,\"#46039f\"],[0.2222222222222222,\"#7201a8\"],[0.3333333333333333,\"#9c179e\"],[0.4444444444444444,\"#bd3786\"],[0.5555555555555556,\"#d8576b\"],[0.6666666666666666,\"#ed7953\"],[0.7777777777777778,\"#fb9f3a\"],[0.8888888888888888,\"#fdca26\"],[1.0,\"#f0f921\"]],\"diverging\":[[0,\"#8e0152\"],[0.1,\"#c51b7d\"],[0.2,\"#de77ae\"],[0.3,\"#f1b6da\"],[0.4,\"#fde0ef\"],[0.5,\"#f7f7f7\"],[0.6,\"#e6f5d0\"],[0.7,\"#b8e186\"],[0.8,\"#7fbc41\"],[0.9,\"#4d9221\"],[1,\"#276419\"]]},\"xaxis\":{\"gridcolor\":\"white\",\"linecolor\":\"white\",\"ticks\":\"\",\"title\":{\"standoff\":15},\"zerolinecolor\":\"white\",\"automargin\":true,\"zerolinewidth\":2},\"yaxis\":{\"gridcolor\":\"white\",\"linecolor\":\"white\",\"ticks\":\"\",\"title\":{\"standoff\":15},\"zerolinecolor\":\"white\",\"automargin\":true,\"zerolinewidth\":2},\"scene\":{\"xaxis\":{\"backgroundcolor\":\"#E5ECF6\",\"gridcolor\":\"white\",\"linecolor\":\"white\",\"showbackground\":true,\"ticks\":\"\",\"zerolinecolor\":\"white\",\"gridwidth\":2},\"yaxis\":{\"backgroundcolor\":\"#E5ECF6\",\"gridcolor\":\"white\",\"linecolor\":\"white\",\"showbackground\":true,\"ticks\":\"\",\"zerolinecolor\":\"white\",\"gridwidth\":2},\"zaxis\":{\"backgroundcolor\":\"#E5ECF6\",\"gridcolor\":\"white\",\"linecolor\":\"white\",\"showbackground\":true,\"ticks\":\"\",\"zerolinecolor\":\"white\",\"gridwidth\":2}},\"shapedefaults\":{\"line\":{\"color\":\"#2a3f5f\"}},\"annotationdefaults\":{\"arrowcolor\":\"#2a3f5f\",\"arrowhead\":0,\"arrowwidth\":1},\"geo\":{\"bgcolor\":\"white\",\"landcolor\":\"#E5ECF6\",\"subunitcolor\":\"white\",\"showland\":true,\"showlakes\":true,\"lakecolor\":\"white\"},\"title\":{\"x\":0.05},\"mapbox\":{\"style\":\"light\"}}},\"xaxis\":{\"anchor\":\"y\",\"domain\":[0.0,1.0],\"title\":{\"text\":\"Age\"}},\"yaxis\":{\"anchor\":\"x\",\"domain\":[0.0,1.0],\"title\":{\"text\":\"count\"}},\"legend\":{\"title\":{\"text\":\"Position\"},\"tracegroupgap\":0},\"margin\":{\"t\":60},\"barmode\":\"overlay\"},                        {\"responsive\": true}                    ).then(function(){\n",
       "                            \n",
       "var gd = document.getElementById('fa48c162-c62a-47a6-bee2-710abf2adc12');\n",
       "var x = new MutationObserver(function (mutations, observer) {{\n",
       "        var display = window.getComputedStyle(gd).display;\n",
       "        if (!display || display === 'none') {{\n",
       "            console.log([gd, 'removed!']);\n",
       "            Plotly.purge(gd);\n",
       "            observer.disconnect();\n",
       "        }}\n",
       "}});\n",
       "\n",
       "// Listen for the removal of the full notebook cells\n",
       "var notebookContainer = gd.closest('#notebook-container');\n",
       "if (notebookContainer) {{\n",
       "    x.observe(notebookContainer, {childList: true});\n",
       "}}\n",
       "\n",
       "// Listen for the clearing of the current output cell\n",
       "var outputEl = gd.closest('.output');\n",
       "if (outputEl) {{\n",
       "    x.observe(outputEl, {childList: true});\n",
       "}}\n",
       "\n",
       "                        })                };                });            </script>        </div>"
      ]
     },
     "metadata": {},
     "output_type": "display_data"
    }
   ],
   "source": [
    "fig = px.histogram(vnl, x = 'Age', color = 'Position', barmode = 'overlay')\n",
    "\n",
    "fig.show()"
   ]
  },
  {
   "cell_type": "code",
   "execution_count": 6,
   "id": "727a34e4",
   "metadata": {
    "_cell_guid": "3d357c2f-76e9-46cf-b345-d26450221e55",
    "_uuid": "905675c8-389c-4f21-b2dd-821a520eff24",
    "collapsed": false,
    "execution": {
     "iopub.execute_input": "2024-01-14T02:07:07.740134Z",
     "iopub.status.busy": "2024-01-14T02:07:07.739693Z",
     "iopub.status.idle": "2024-01-14T02:07:07.820169Z",
     "shell.execute_reply": "2024-01-14T02:07:07.819040Z"
    },
    "jupyter": {
     "outputs_hidden": false
    },
    "papermill": {
     "duration": 0.106186,
     "end_time": "2024-01-14T02:07:07.822605",
     "exception": false,
     "start_time": "2024-01-14T02:07:07.716419",
     "status": "completed"
    },
    "tags": []
   },
   "outputs": [
    {
     "data": {
      "text/html": [
       "<div>                            <div id=\"d591605f-f9e4-4b7a-8212-33d75bc40926\" class=\"plotly-graph-div\" style=\"height:525px; width:100%;\"></div>            <script type=\"text/javascript\">                require([\"plotly\"], function(Plotly) {                    window.PLOTLYENV=window.PLOTLYENV || {};                                    if (document.getElementById(\"d591605f-f9e4-4b7a-8212-33d75bc40926\")) {                    Plotly.newPlot(                        \"d591605f-f9e4-4b7a-8212-33d75bc40926\",                        [{\"domain\":{\"x\":[0.0,1.0],\"y\":[0.0,1.0]},\"hovertemplate\":\"label=%{label}\\u003cbr\\u003evalue=%{value}\\u003cextra\\u003e\\u003c\\u002fextra\\u003e\",\"labels\":[\"OH\",\"OP\",\"MB\",\"S\",\"L\"],\"legendgroup\":\"\",\"name\":\"\",\"showlegend\":true,\"values\":[42,32,25,16,16],\"type\":\"pie\"}],                        {\"template\":{\"data\":{\"histogram2dcontour\":[{\"type\":\"histogram2dcontour\",\"colorbar\":{\"outlinewidth\":0,\"ticks\":\"\"},\"colorscale\":[[0.0,\"#0d0887\"],[0.1111111111111111,\"#46039f\"],[0.2222222222222222,\"#7201a8\"],[0.3333333333333333,\"#9c179e\"],[0.4444444444444444,\"#bd3786\"],[0.5555555555555556,\"#d8576b\"],[0.6666666666666666,\"#ed7953\"],[0.7777777777777778,\"#fb9f3a\"],[0.8888888888888888,\"#fdca26\"],[1.0,\"#f0f921\"]]}],\"choropleth\":[{\"type\":\"choropleth\",\"colorbar\":{\"outlinewidth\":0,\"ticks\":\"\"}}],\"histogram2d\":[{\"type\":\"histogram2d\",\"colorbar\":{\"outlinewidth\":0,\"ticks\":\"\"},\"colorscale\":[[0.0,\"#0d0887\"],[0.1111111111111111,\"#46039f\"],[0.2222222222222222,\"#7201a8\"],[0.3333333333333333,\"#9c179e\"],[0.4444444444444444,\"#bd3786\"],[0.5555555555555556,\"#d8576b\"],[0.6666666666666666,\"#ed7953\"],[0.7777777777777778,\"#fb9f3a\"],[0.8888888888888888,\"#fdca26\"],[1.0,\"#f0f921\"]]}],\"heatmap\":[{\"type\":\"heatmap\",\"colorbar\":{\"outlinewidth\":0,\"ticks\":\"\"},\"colorscale\":[[0.0,\"#0d0887\"],[0.1111111111111111,\"#46039f\"],[0.2222222222222222,\"#7201a8\"],[0.3333333333333333,\"#9c179e\"],[0.4444444444444444,\"#bd3786\"],[0.5555555555555556,\"#d8576b\"],[0.6666666666666666,\"#ed7953\"],[0.7777777777777778,\"#fb9f3a\"],[0.8888888888888888,\"#fdca26\"],[1.0,\"#f0f921\"]]}],\"heatmapgl\":[{\"type\":\"heatmapgl\",\"colorbar\":{\"outlinewidth\":0,\"ticks\":\"\"},\"colorscale\":[[0.0,\"#0d0887\"],[0.1111111111111111,\"#46039f\"],[0.2222222222222222,\"#7201a8\"],[0.3333333333333333,\"#9c179e\"],[0.4444444444444444,\"#bd3786\"],[0.5555555555555556,\"#d8576b\"],[0.6666666666666666,\"#ed7953\"],[0.7777777777777778,\"#fb9f3a\"],[0.8888888888888888,\"#fdca26\"],[1.0,\"#f0f921\"]]}],\"contourcarpet\":[{\"type\":\"contourcarpet\",\"colorbar\":{\"outlinewidth\":0,\"ticks\":\"\"}}],\"contour\":[{\"type\":\"contour\",\"colorbar\":{\"outlinewidth\":0,\"ticks\":\"\"},\"colorscale\":[[0.0,\"#0d0887\"],[0.1111111111111111,\"#46039f\"],[0.2222222222222222,\"#7201a8\"],[0.3333333333333333,\"#9c179e\"],[0.4444444444444444,\"#bd3786\"],[0.5555555555555556,\"#d8576b\"],[0.6666666666666666,\"#ed7953\"],[0.7777777777777778,\"#fb9f3a\"],[0.8888888888888888,\"#fdca26\"],[1.0,\"#f0f921\"]]}],\"surface\":[{\"type\":\"surface\",\"colorbar\":{\"outlinewidth\":0,\"ticks\":\"\"},\"colorscale\":[[0.0,\"#0d0887\"],[0.1111111111111111,\"#46039f\"],[0.2222222222222222,\"#7201a8\"],[0.3333333333333333,\"#9c179e\"],[0.4444444444444444,\"#bd3786\"],[0.5555555555555556,\"#d8576b\"],[0.6666666666666666,\"#ed7953\"],[0.7777777777777778,\"#fb9f3a\"],[0.8888888888888888,\"#fdca26\"],[1.0,\"#f0f921\"]]}],\"mesh3d\":[{\"type\":\"mesh3d\",\"colorbar\":{\"outlinewidth\":0,\"ticks\":\"\"}}],\"scatter\":[{\"fillpattern\":{\"fillmode\":\"overlay\",\"size\":10,\"solidity\":0.2},\"type\":\"scatter\"}],\"parcoords\":[{\"type\":\"parcoords\",\"line\":{\"colorbar\":{\"outlinewidth\":0,\"ticks\":\"\"}}}],\"scatterpolargl\":[{\"type\":\"scatterpolargl\",\"marker\":{\"colorbar\":{\"outlinewidth\":0,\"ticks\":\"\"}}}],\"bar\":[{\"error_x\":{\"color\":\"#2a3f5f\"},\"error_y\":{\"color\":\"#2a3f5f\"},\"marker\":{\"line\":{\"color\":\"#E5ECF6\",\"width\":0.5},\"pattern\":{\"fillmode\":\"overlay\",\"size\":10,\"solidity\":0.2}},\"type\":\"bar\"}],\"scattergeo\":[{\"type\":\"scattergeo\",\"marker\":{\"colorbar\":{\"outlinewidth\":0,\"ticks\":\"\"}}}],\"scatterpolar\":[{\"type\":\"scatterpolar\",\"marker\":{\"colorbar\":{\"outlinewidth\":0,\"ticks\":\"\"}}}],\"histogram\":[{\"marker\":{\"pattern\":{\"fillmode\":\"overlay\",\"size\":10,\"solidity\":0.2}},\"type\":\"histogram\"}],\"scattergl\":[{\"type\":\"scattergl\",\"marker\":{\"colorbar\":{\"outlinewidth\":0,\"ticks\":\"\"}}}],\"scatter3d\":[{\"type\":\"scatter3d\",\"line\":{\"colorbar\":{\"outlinewidth\":0,\"ticks\":\"\"}},\"marker\":{\"colorbar\":{\"outlinewidth\":0,\"ticks\":\"\"}}}],\"scattermapbox\":[{\"type\":\"scattermapbox\",\"marker\":{\"colorbar\":{\"outlinewidth\":0,\"ticks\":\"\"}}}],\"scatterternary\":[{\"type\":\"scatterternary\",\"marker\":{\"colorbar\":{\"outlinewidth\":0,\"ticks\":\"\"}}}],\"scattercarpet\":[{\"type\":\"scattercarpet\",\"marker\":{\"colorbar\":{\"outlinewidth\":0,\"ticks\":\"\"}}}],\"carpet\":[{\"aaxis\":{\"endlinecolor\":\"#2a3f5f\",\"gridcolor\":\"white\",\"linecolor\":\"white\",\"minorgridcolor\":\"white\",\"startlinecolor\":\"#2a3f5f\"},\"baxis\":{\"endlinecolor\":\"#2a3f5f\",\"gridcolor\":\"white\",\"linecolor\":\"white\",\"minorgridcolor\":\"white\",\"startlinecolor\":\"#2a3f5f\"},\"type\":\"carpet\"}],\"table\":[{\"cells\":{\"fill\":{\"color\":\"#EBF0F8\"},\"line\":{\"color\":\"white\"}},\"header\":{\"fill\":{\"color\":\"#C8D4E3\"},\"line\":{\"color\":\"white\"}},\"type\":\"table\"}],\"barpolar\":[{\"marker\":{\"line\":{\"color\":\"#E5ECF6\",\"width\":0.5},\"pattern\":{\"fillmode\":\"overlay\",\"size\":10,\"solidity\":0.2}},\"type\":\"barpolar\"}],\"pie\":[{\"automargin\":true,\"type\":\"pie\"}]},\"layout\":{\"autotypenumbers\":\"strict\",\"colorway\":[\"#636efa\",\"#EF553B\",\"#00cc96\",\"#ab63fa\",\"#FFA15A\",\"#19d3f3\",\"#FF6692\",\"#B6E880\",\"#FF97FF\",\"#FECB52\"],\"font\":{\"color\":\"#2a3f5f\"},\"hovermode\":\"closest\",\"hoverlabel\":{\"align\":\"left\"},\"paper_bgcolor\":\"white\",\"plot_bgcolor\":\"#E5ECF6\",\"polar\":{\"bgcolor\":\"#E5ECF6\",\"angularaxis\":{\"gridcolor\":\"white\",\"linecolor\":\"white\",\"ticks\":\"\"},\"radialaxis\":{\"gridcolor\":\"white\",\"linecolor\":\"white\",\"ticks\":\"\"}},\"ternary\":{\"bgcolor\":\"#E5ECF6\",\"aaxis\":{\"gridcolor\":\"white\",\"linecolor\":\"white\",\"ticks\":\"\"},\"baxis\":{\"gridcolor\":\"white\",\"linecolor\":\"white\",\"ticks\":\"\"},\"caxis\":{\"gridcolor\":\"white\",\"linecolor\":\"white\",\"ticks\":\"\"}},\"coloraxis\":{\"colorbar\":{\"outlinewidth\":0,\"ticks\":\"\"}},\"colorscale\":{\"sequential\":[[0.0,\"#0d0887\"],[0.1111111111111111,\"#46039f\"],[0.2222222222222222,\"#7201a8\"],[0.3333333333333333,\"#9c179e\"],[0.4444444444444444,\"#bd3786\"],[0.5555555555555556,\"#d8576b\"],[0.6666666666666666,\"#ed7953\"],[0.7777777777777778,\"#fb9f3a\"],[0.8888888888888888,\"#fdca26\"],[1.0,\"#f0f921\"]],\"sequentialminus\":[[0.0,\"#0d0887\"],[0.1111111111111111,\"#46039f\"],[0.2222222222222222,\"#7201a8\"],[0.3333333333333333,\"#9c179e\"],[0.4444444444444444,\"#bd3786\"],[0.5555555555555556,\"#d8576b\"],[0.6666666666666666,\"#ed7953\"],[0.7777777777777778,\"#fb9f3a\"],[0.8888888888888888,\"#fdca26\"],[1.0,\"#f0f921\"]],\"diverging\":[[0,\"#8e0152\"],[0.1,\"#c51b7d\"],[0.2,\"#de77ae\"],[0.3,\"#f1b6da\"],[0.4,\"#fde0ef\"],[0.5,\"#f7f7f7\"],[0.6,\"#e6f5d0\"],[0.7,\"#b8e186\"],[0.8,\"#7fbc41\"],[0.9,\"#4d9221\"],[1,\"#276419\"]]},\"xaxis\":{\"gridcolor\":\"white\",\"linecolor\":\"white\",\"ticks\":\"\",\"title\":{\"standoff\":15},\"zerolinecolor\":\"white\",\"automargin\":true,\"zerolinewidth\":2},\"yaxis\":{\"gridcolor\":\"white\",\"linecolor\":\"white\",\"ticks\":\"\",\"title\":{\"standoff\":15},\"zerolinecolor\":\"white\",\"automargin\":true,\"zerolinewidth\":2},\"scene\":{\"xaxis\":{\"backgroundcolor\":\"#E5ECF6\",\"gridcolor\":\"white\",\"linecolor\":\"white\",\"showbackground\":true,\"ticks\":\"\",\"zerolinecolor\":\"white\",\"gridwidth\":2},\"yaxis\":{\"backgroundcolor\":\"#E5ECF6\",\"gridcolor\":\"white\",\"linecolor\":\"white\",\"showbackground\":true,\"ticks\":\"\",\"zerolinecolor\":\"white\",\"gridwidth\":2},\"zaxis\":{\"backgroundcolor\":\"#E5ECF6\",\"gridcolor\":\"white\",\"linecolor\":\"white\",\"showbackground\":true,\"ticks\":\"\",\"zerolinecolor\":\"white\",\"gridwidth\":2}},\"shapedefaults\":{\"line\":{\"color\":\"#2a3f5f\"}},\"annotationdefaults\":{\"arrowcolor\":\"#2a3f5f\",\"arrowhead\":0,\"arrowwidth\":1},\"geo\":{\"bgcolor\":\"white\",\"landcolor\":\"#E5ECF6\",\"subunitcolor\":\"white\",\"showland\":true,\"showlakes\":true,\"lakecolor\":\"white\"},\"title\":{\"x\":0.05},\"mapbox\":{\"style\":\"light\"}}},\"legend\":{\"tracegroupgap\":0},\"margin\":{\"t\":60}},                        {\"responsive\": true}                    ).then(function(){\n",
       "                            \n",
       "var gd = document.getElementById('d591605f-f9e4-4b7a-8212-33d75bc40926');\n",
       "var x = new MutationObserver(function (mutations, observer) {{\n",
       "        var display = window.getComputedStyle(gd).display;\n",
       "        if (!display || display === 'none') {{\n",
       "            console.log([gd, 'removed!']);\n",
       "            Plotly.purge(gd);\n",
       "            observer.disconnect();\n",
       "        }}\n",
       "}});\n",
       "\n",
       "// Listen for the removal of the full notebook cells\n",
       "var notebookContainer = gd.closest('#notebook-container');\n",
       "if (notebookContainer) {{\n",
       "    x.observe(notebookContainer, {childList: true});\n",
       "}}\n",
       "\n",
       "// Listen for the clearing of the current output cell\n",
       "var outputEl = gd.closest('.output');\n",
       "if (outputEl) {{\n",
       "    x.observe(outputEl, {childList: true});\n",
       "}}\n",
       "\n",
       "                        })                };                });            </script>        </div>"
      ]
     },
     "metadata": {},
     "output_type": "display_data"
    }
   ],
   "source": [
    "val=vnl[\"Position\"].value_counts()\n",
    "n=vnl[\"Position\"].unique()\n",
    "fig = px.pie(values = val,\n",
    "             names = n,\n",
    "             )\n",
    "\n",
    "fig.show()"
   ]
  },
  {
   "cell_type": "code",
   "execution_count": 7,
   "id": "359cbaa5",
   "metadata": {
    "_cell_guid": "16a44e5d-4a08-41a8-a333-a271ff31c342",
    "_uuid": "a5a244b0-4b37-4206-8667-0b91e28adfed",
    "collapsed": false,
    "execution": {
     "iopub.execute_input": "2024-01-14T02:07:07.869445Z",
     "iopub.status.busy": "2024-01-14T02:07:07.868777Z",
     "iopub.status.idle": "2024-01-14T02:07:09.635909Z",
     "shell.execute_reply": "2024-01-14T02:07:09.634818Z"
    },
    "jupyter": {
     "outputs_hidden": false
    },
    "papermill": {
     "duration": 1.793896,
     "end_time": "2024-01-14T02:07:09.638518",
     "exception": false,
     "start_time": "2024-01-14T02:07:07.844622",
     "status": "completed"
    },
    "tags": []
   },
   "outputs": [
    {
     "data": {
      "text/plain": [
       "<seaborn.axisgrid.FacetGrid at 0x7a251bb1a4d0>"
      ]
     },
     "execution_count": 7,
     "metadata": {},
     "output_type": "execute_result"
    },
    {
     "data": {
      "image/png": "[encoded data removed]",
      "text/plain": [
       "<Figure size 622.125x500 with 1 Axes>"
      ]
     },
     "metadata": {},
     "output_type": "display_data"
    }
   ],
   "source": [
    "#Attack>=mean\n",
    "sns.catplot(data=vnl.query(\"Position != 'L'\" and \"Attack>=5.642672\"), x=\"Position\", y=\"Attack\",hue=\"Country\", kind=\"swarm\")"
   ]
  },
  {
   "cell_type": "code",
   "execution_count": 8,
   "id": "8f4565b8",
   "metadata": {
    "_cell_guid": "097c0116-2acb-4c30-af3f-d3dedfedf786",
    "_uuid": "a0f946a1-e609-4b34-b76a-1fc8f00a856c",
    "collapsed": false,
    "execution": {
     "iopub.execute_input": "2024-01-14T02:07:09.686739Z",
     "iopub.status.busy": "2024-01-14T02:07:09.685639Z",
     "iopub.status.idle": "2024-01-14T02:07:11.461054Z",
     "shell.execute_reply": "2024-01-14T02:07:11.459832Z"
    },
    "jupyter": {
     "outputs_hidden": false
    },
    "papermill": {
     "duration": 1.802458,
     "end_time": "2024-01-14T02:07:11.464047",
     "exception": false,
     "start_time": "2024-01-14T02:07:09.661589",
     "status": "completed"
    },
    "tags": []
   },
   "outputs": [
    {
     "data": {
      "text/plain": [
       "<seaborn.axisgrid.FacetGrid at 0x7a251bd33610>"
      ]
     },
     "execution_count": 8,
     "metadata": {},
     "output_type": "execute_result"
    },
    {
     "data": {
      "image/png": "[encoded data removed]",
      "text/plain": [
       "<Figure size 622.125x500 with 1 Axes>"
      ]
     },
     "metadata": {},
     "output_type": "display_data"
    }
   ],
   "source": [
    "#Block>=mean\n",
    "sns.catplot(data=vnl.query(\"Position != 'L'\" and \"Block>=0.845573\"), x=\"Position\", y=\"Block\",hue=\"Country\", kind=\"swarm\")"
   ]
  },
  {
   "cell_type": "code",
   "execution_count": 9,
   "id": "9771eaa6",
   "metadata": {
    "_cell_guid": "e4d8476a-18f4-4db7-9418-aea5b65a45f2",
    "_uuid": "936130f6-69c6-4147-a56f-190e4eb6579c",
    "collapsed": false,
    "execution": {
     "iopub.execute_input": "2024-01-14T02:07:11.578645Z",
     "iopub.status.busy": "2024-01-14T02:07:11.577973Z",
     "iopub.status.idle": "2024-01-14T02:07:13.459152Z",
     "shell.execute_reply": "2024-01-14T02:07:13.457936Z"
    },
    "jupyter": {
     "outputs_hidden": false
    },
    "papermill": {
     "duration": 1.973483,
     "end_time": "2024-01-14T02:07:13.461848",
     "exception": false,
     "start_time": "2024-01-14T02:07:11.488365",
     "status": "completed"
    },
    "tags": []
   },
   "outputs": [
    {
     "data": {
      "text/plain": [
       "<seaborn.axisgrid.FacetGrid at 0x7a251b6dd1e0>"
      ]
     },
     "execution_count": 9,
     "metadata": {},
     "output_type": "execute_result"
    },
    {
     "data": {
      "image/png": "[encoded data removed]",
      "text/plain": [
       "<Figure size 622.125x500 with 1 Axes>"
      ]
     },
     "metadata": {},
     "output_type": "display_data"
    }
   ],
   "source": [
    "#Serve>=mean\n",
    "sns.catplot(data=vnl.query(\"Position != 'L'\" and \"Serve>=0.535802\"), x=\"Position\", y=\"Serve\",hue=\"Country\", kind=\"swarm\")"
   ]
  },
  {
   "cell_type": "code",
   "execution_count": 10,
   "id": "ca5f2a02",
   "metadata": {
    "_cell_guid": "372d5636-dc55-4f5d-9fa8-d86bb00cf2fd",
    "_uuid": "814be657-40ed-4aae-94c3-7fe1e82c543d",
    "collapsed": false,
    "execution": {
     "iopub.execute_input": "2024-01-14T02:07:13.514175Z",
     "iopub.status.busy": "2024-01-14T02:07:13.513454Z",
     "iopub.status.idle": "2024-01-14T02:07:13.686626Z",
     "shell.execute_reply": "2024-01-14T02:07:13.685441Z"
    },
    "jupyter": {
     "outputs_hidden": false
    },
    "papermill": {
     "duration": 0.202557,
     "end_time": "2024-01-14T02:07:13.689159",
     "exception": false,
     "start_time": "2024-01-14T02:07:13.486602",
     "status": "completed"
    },
    "tags": []
   },
   "outputs": [
    {
     "data": {
      "text/html": [
       "<div>                            <div id=\"1cfc264e-ca95-431e-a282-c796678e8e58\" class=\"plotly-graph-div\" style=\"height:525px; width:100%;\"></div>            <script type=\"text/javascript\">                require([\"plotly\"], function(Plotly) {                    window.PLOTLYENV=window.PLOTLYENV || {};                                    if (document.getElementById(\"1cfc264e-ca95-431e-a282-c796678e8e58\")) {                    Plotly.newPlot(                        \"1cfc264e-ca95-431e-a282-c796678e8e58\",                        [{\"branchvalues\":\"total\",\"customdata\":[[10.12],[9.15],[11.85],[12.46],[14.25],[9.75],[9.5],[13.5],[12.33],[15.0],[9.56],[15.25],[8.67],[10.42],[12.0],[10.135],[12.33],[13.665],[15.33],[10.24],[10.57],[12.33],[11.513333333333334],[9.53],[9.07],[11.093],[11.98]],\"domain\":{\"x\":[0.0,1.0],\"y\":[0.0,1.0]},\"hovertemplate\":\"labels=%{label}\\u003cbr\\u003ecount=%{value}\\u003cbr\\u003eparent=%{parent}\\u003cbr\\u003eid=%{id}\\u003cbr\\u003eAttack=%{color}\\u003cextra\\u003e\\u003c\\u002fextra\\u003e\",\"ids\":[\"OH\\u002fArgentina\",\"OP\\u002fArgentina\",\"OH\\u002fBrazil\",\"OP\\u002fBrazil\",\"OH\\u002fBulgaria\",\"OH\\u002fCanada\",\"OP\\u002fCanada\",\"OH\\u002fChina\",\"OH\\u002fCuba\",\"OP\\u002fCuba\",\"OH\\u002fFrance\",\"OP\\u002fFrance\",\"OH\\u002fGermany\",\"OP\\u002fGermany\",\"OP\\u002fIran\",\"OH\\u002fItaly\",\"OP\\u002fItaly\",\"OH\\u002fJapan\",\"OP\\u002fNederland\",\"OH\\u002fPoland\",\"OP\\u002fPoland\",\"OP\\u002fSerbia\",\"OH\\u002fSlovenia\",\"OH\\u002fUSA\",\"OP\\u002fUSA\",\"OH\",\"OP\"],\"labels\":[\"Argentina\",\"Argentina\",\"Brazil\",\"Brazil\",\"Bulgaria\",\"Canada\",\"Canada\",\"China\",\"Cuba\",\"Cuba\",\"France\",\"France\",\"Germany\",\"Germany\",\"Iran\",\"Italy\",\"Italy\",\"Japan\",\"Nederland\",\"Poland\",\"Poland\",\"Serbia\",\"Slovenia\",\"USA\",\"USA\",\"OH\",\"OP\"],\"marker\":{\"coloraxis\":\"coloraxis\",\"colors\":[10.12,9.15,11.85,12.46,14.25,9.75,9.5,13.5,12.33,15.0,9.56,15.25,8.67,10.42,12.0,10.135,12.33,13.665,15.33,10.24,10.57,12.33,11.513333333333334,9.53,9.07,11.093,11.98]},\"name\":\"\",\"parents\":[\"OH\",\"OP\",\"OH\",\"OP\",\"OH\",\"OH\",\"OP\",\"OH\",\"OH\",\"OP\",\"OH\",\"OP\",\"OH\",\"OP\",\"OP\",\"OH\",\"OP\",\"OH\",\"OP\",\"OH\",\"OP\",\"OP\",\"OH\",\"OH\",\"OP\",\"\",\"\"],\"values\":[2,1,1,1,1,1,1,1,1,1,2,1,1,1,1,2,1,2,1,2,1,2,3,1,1,20,13],\"type\":\"sunburst\"}],                        {\"template\":{\"data\":{\"histogram2dcontour\":[{\"type\":\"histogram2dcontour\",\"colorbar\":{\"outlinewidth\":0,\"ticks\":\"\"},\"colorscale\":[[0.0,\"#0d0887\"],[0.1111111111111111,\"#46039f\"],[0.2222222222222222,\"#7201a8\"],[0.3333333333333333,\"#9c179e\"],[0.4444444444444444,\"#bd3786\"],[0.5555555555555556,\"#d8576b\"],[0.6666666666666666,\"#ed7953\"],[0.7777777777777778,\"#fb9f3a\"],[0.8888888888888888,\"#fdca26\"],[1.0,\"#f0f921\"]]}],\"choropleth\":[{\"type\":\"choropleth\",\"colorbar\":{\"outlinewidth\":0,\"ticks\":\"\"}}],\"histogram2d\":[{\"type\":\"histogram2d\",\"colorbar\":{\"outlinewidth\":0,\"ticks\":\"\"},\"colorscale\":[[0.0,\"#0d0887\"],[0.1111111111111111,\"#46039f\"],[0.2222222222222222,\"#7201a8\"],[0.3333333333333333,\"#9c179e\"],[0.4444444444444444,\"#bd3786\"],[0.5555555555555556,\"#d8576b\"],[0.6666666666666666,\"#ed7953\"],[0.7777777777777778,\"#fb9f3a\"],[0.8888888888888888,\"#fdca26\"],[1.0,\"#f0f921\"]]}],\"heatmap\":[{\"type\":\"heatmap\",\"colorbar\":{\"outlinewidth\":0,\"ticks\":\"\"},\"colorscale\":[[0.0,\"#0d0887\"],[0.1111111111111111,\"#46039f\"],[0.2222222222222222,\"#7201a8\"],[0.3333333333333333,\"#9c179e\"],[0.4444444444444444,\"#bd3786\"],[0.5555555555555556,\"#d8576b\"],[0.6666666666666666,\"#ed7953\"],[0.7777777777777778,\"#fb9f3a\"],[0.8888888888888888,\"#fdca26\"],[1.0,\"#f0f921\"]]}],\"heatmapgl\":[{\"type\":\"heatmapgl\",\"colorbar\":{\"outlinewidth\":0,\"ticks\":\"\"},\"colorscale\":[[0.0,\"#0d0887\"],[0.1111111111111111,\"#46039f\"],[0.2222222222222222,\"#7201a8\"],[0.3333333333333333,\"#9c179e\"],[0.4444444444444444,\"#bd3786\"],[0.5555555555555556,\"#d8576b\"],[0.6666666666666666,\"#ed7953\"],[0.7777777777777778,\"#fb9f3a\"],[0.8888888888888888,\"#fdca26\"],[1.0,\"#f0f921\"]]}],\"contourcarpet\":[{\"type\":\"contourcarpet\",\"colorbar\":{\"outlinewidth\":0,\"ticks\":\"\"}}],\"contour\":[{\"type\":\"contour\",\"colorbar\":{\"outlinewidth\":0,\"ticks\":\"\"},\"colorscale\":[[0.0,\"#0d0887\"],[0.1111111111111111,\"#46039f\"],[0.2222222222222222,\"#7201a8\"],[0.3333333333333333,\"#9c179e\"],[0.4444444444444444,\"#bd3786\"],[0.5555555555555556,\"#d8576b\"],[0.6666666666666666,\"#ed7953\"],[0.7777777777777778,\"#fb9f3a\"],[0.8888888888888888,\"#fdca26\"],[1.0,\"#f0f921\"]]}],\"surface\":[{\"type\":\"surface\",\"colorbar\":{\"outlinewidth\":0,\"ticks\":\"\"},\"colorscale\":[[0.0,\"#0d0887\"],[0.1111111111111111,\"#46039f\"],[0.2222222222222222,\"#7201a8\"],[0.3333333333333333,\"#9c179e\"],[0.4444444444444444,\"#bd3786\"],[0.5555555555555556,\"#d8576b\"],[0.6666666666666666,\"#ed7953\"],[0.7777777777777778,\"#fb9f3a\"],[0.8888888888888888,\"#fdca26\"],[1.0,\"#f0f921\"]]}],\"mesh3d\":[{\"type\":\"mesh3d\",\"colorbar\":{\"outlinewidth\":0,\"ticks\":\"\"}}],\"scatter\":[{\"fillpattern\":{\"fillmode\":\"overlay\",\"size\":10,\"solidity\":0.2},\"type\":\"scatter\"}],\"parcoords\":[{\"type\":\"parcoords\",\"line\":{\"colorbar\":{\"outlinewidth\":0,\"ticks\":\"\"}}}],\"scatterpolargl\":[{\"type\":\"scatterpolargl\",\"marker\":{\"colorbar\":{\"outlinewidth\":0,\"ticks\":\"\"}}}],\"bar\":[{\"error_x\":{\"color\":\"#2a3f5f\"},\"error_y\":{\"color\":\"#2a3f5f\"},\"marker\":{\"line\":{\"color\":\"#E5ECF6\",\"width\":0.5},\"pattern\":{\"fillmode\":\"overlay\",\"size\":10,\"solidity\":0.2}},\"type\":\"bar\"}],\"scattergeo\":[{\"type\":\"scattergeo\",\"marker\":{\"colorbar\":{\"outlinewidth\":0,\"ticks\":\"\"}}}],\"scatterpolar\":[{\"type\":\"scatterpolar\",\"marker\":{\"colorbar\":{\"outlinewidth\":0,\"ticks\":\"\"}}}],\"histogram\":[{\"marker\":{\"pattern\":{\"fillmode\":\"overlay\",\"size\":10,\"solidity\":0.2}},\"type\":\"histogram\"}],\"scattergl\":[{\"type\":\"scattergl\",\"marker\":{\"colorbar\":{\"outlinewidth\":0,\"ticks\":\"\"}}}],\"scatter3d\":[{\"type\":\"scatter3d\",\"line\":{\"colorbar\":{\"outlinewidth\":0,\"ticks\":\"\"}},\"marker\":{\"colorbar\":{\"outlinewidth\":0,\"ticks\":\"\"}}}],\"scattermapbox\":[{\"type\":\"scattermapbox\",\"marker\":{\"colorbar\":{\"outlinewidth\":0,\"ticks\":\"\"}}}],\"scatterternary\":[{\"type\":\"scatterternary\",\"marker\":{\"colorbar\":{\"outlinewidth\":0,\"ticks\":\"\"}}}],\"scattercarpet\":[{\"type\":\"scattercarpet\",\"marker\":{\"colorbar\":{\"outlinewidth\":0,\"ticks\":\"\"}}}],\"carpet\":[{\"aaxis\":{\"endlinecolor\":\"#2a3f5f\",\"gridcolor\":\"white\",\"linecolor\":\"white\",\"minorgridcolor\":\"white\",\"startlinecolor\":\"#2a3f5f\"},\"baxis\":{\"endlinecolor\":\"#2a3f5f\",\"gridcolor\":\"white\",\"linecolor\":\"white\",\"minorgridcolor\":\"white\",\"startlinecolor\":\"#2a3f5f\"},\"type\":\"carpet\"}],\"table\":[{\"cells\":{\"fill\":{\"color\":\"#EBF0F8\"},\"line\":{\"color\":\"white\"}},\"header\":{\"fill\":{\"color\":\"#C8D4E3\"},\"line\":{\"color\":\"white\"}},\"type\":\"table\"}],\"barpolar\":[{\"marker\":{\"line\":{\"color\":\"#E5ECF6\",\"width\":0.5},\"pattern\":{\"fillmode\":\"overlay\",\"size\":10,\"solidity\":0.2}},\"type\":\"barpolar\"}],\"pie\":[{\"automargin\":true,\"type\":\"pie\"}]},\"layout\":{\"autotypenumbers\":\"strict\",\"colorway\":[\"#636efa\",\"#EF553B\",\"#00cc96\",\"#ab63fa\",\"#FFA15A\",\"#19d3f3\",\"#FF6692\",\"#B6E880\",\"#FF97FF\",\"#FECB52\"],\"font\":{\"color\":\"#2a3f5f\"},\"hovermode\":\"closest\",\"hoverlabel\":{\"align\":\"left\"},\"paper_bgcolor\":\"white\",\"plot_bgcolor\":\"#E5ECF6\",\"polar\":{\"bgcolor\":\"#E5ECF6\",\"angularaxis\":{\"gridcolor\":\"white\",\"linecolor\":\"white\",\"ticks\":\"\"},\"radialaxis\":{\"gridcolor\":\"white\",\"linecolor\":\"white\",\"ticks\":\"\"}},\"ternary\":{\"bgcolor\":\"#E5ECF6\",\"aaxis\":{\"gridcolor\":\"white\",\"linecolor\":\"white\",\"ticks\":\"\"},\"baxis\":{\"gridcolor\":\"white\",\"linecolor\":\"white\",\"ticks\":\"\"},\"caxis\":{\"gridcolor\":\"white\",\"linecolor\":\"white\",\"ticks\":\"\"}},\"coloraxis\":{\"colorbar\":{\"outlinewidth\":0,\"ticks\":\"\"}},\"colorscale\":{\"sequential\":[[0.0,\"#0d0887\"],[0.1111111111111111,\"#46039f\"],[0.2222222222222222,\"#7201a8\"],[0.3333333333333333,\"#9c179e\"],[0.4444444444444444,\"#bd3786\"],[0.5555555555555556,\"#d8576b\"],[0.6666666666666666,\"#ed7953\"],[0.7777777777777778,\"#fb9f3a\"],[0.8888888888888888,\"#fdca26\"],[1.0,\"#f0f921\"]],\"sequentialminus\":[[0.0,\"#0d0887\"],[0.1111111111111111,\"#46039f\"],[0.2222222222222222,\"#7201a8\"],[0.3333333333333333,\"#9c179e\"],[0.4444444444444444,\"#bd3786\"],[0.5555555555555556,\"#d8576b\"],[0.6666666666666666,\"#ed7953\"],[0.7777777777777778,\"#fb9f3a\"],[0.8888888888888888,\"#fdca26\"],[1.0,\"#f0f921\"]],\"diverging\":[[0,\"#8e0152\"],[0.1,\"#c51b7d\"],[0.2,\"#de77ae\"],[0.3,\"#f1b6da\"],[0.4,\"#fde0ef\"],[0.5,\"#f7f7f7\"],[0.6,\"#e6f5d0\"],[0.7,\"#b8e186\"],[0.8,\"#7fbc41\"],[0.9,\"#4d9221\"],[1,\"#276419\"]]},\"xaxis\":{\"gridcolor\":\"white\",\"linecolor\":\"white\",\"ticks\":\"\",\"title\":{\"standoff\":15},\"zerolinecolor\":\"white\",\"automargin\":true,\"zerolinewidth\":2},\"yaxis\":{\"gridcolor\":\"white\",\"linecolor\":\"white\",\"ticks\":\"\",\"title\":{\"standoff\":15},\"zerolinecolor\":\"white\",\"automargin\":true,\"zerolinewidth\":2},\"scene\":{\"xaxis\":{\"backgroundcolor\":\"#E5ECF6\",\"gridcolor\":\"white\",\"linecolor\":\"white\",\"showbackground\":true,\"ticks\":\"\",\"zerolinecolor\":\"white\",\"gridwidth\":2},\"yaxis\":{\"backgroundcolor\":\"#E5ECF6\",\"gridcolor\":\"white\",\"linecolor\":\"white\",\"showbackground\":true,\"ticks\":\"\",\"zerolinecolor\":\"white\",\"gridwidth\":2},\"zaxis\":{\"backgroundcolor\":\"#E5ECF6\",\"gridcolor\":\"white\",\"linecolor\":\"white\",\"showbackground\":true,\"ticks\":\"\",\"zerolinecolor\":\"white\",\"gridwidth\":2}},\"shapedefaults\":{\"line\":{\"color\":\"#2a3f5f\"}},\"annotationdefaults\":{\"arrowcolor\":\"#2a3f5f\",\"arrowhead\":0,\"arrowwidth\":1},\"geo\":{\"bgcolor\":\"white\",\"landcolor\":\"#E5ECF6\",\"subunitcolor\":\"white\",\"showland\":true,\"showlakes\":true,\"lakecolor\":\"white\"},\"title\":{\"x\":0.05},\"mapbox\":{\"style\":\"light\"}}},\"coloraxis\":{\"colorbar\":{\"title\":{\"text\":\"Attack\"}},\"colorscale\":[[0.0,\"#0d0887\"],[0.1111111111111111,\"#46039f\"],[0.2222222222222222,\"#7201a8\"],[0.3333333333333333,\"#9c179e\"],[0.4444444444444444,\"#bd3786\"],[0.5555555555555556,\"#d8576b\"],[0.6666666666666666,\"#ed7953\"],[0.7777777777777778,\"#fb9f3a\"],[0.8888888888888888,\"#fdca26\"],[1.0,\"#f0f921\"]]},\"legend\":{\"tracegroupgap\":0},\"margin\":{\"t\":60}},                        {\"responsive\": true}                    ).then(function(){\n",
       "                            \n",
       "var gd = document.getElementById('1cfc264e-ca95-431e-a282-c796678e8e58');\n",
       "var x = new MutationObserver(function (mutations, observer) {{\n",
       "        var display = window.getComputedStyle(gd).display;\n",
       "        if (!display || display === 'none') {{\n",
       "            console.log([gd, 'removed!']);\n",
       "            Plotly.purge(gd);\n",
       "            observer.disconnect();\n",
       "        }}\n",
       "}});\n",
       "\n",
       "// Listen for the removal of the full notebook cells\n",
       "var notebookContainer = gd.closest('#notebook-container');\n",
       "if (notebookContainer) {{\n",
       "    x.observe(notebookContainer, {childList: true});\n",
       "}}\n",
       "\n",
       "// Listen for the clearing of the current output cell\n",
       "var outputEl = gd.closest('.output');\n",
       "if (outputEl) {{\n",
       "    x.observe(outputEl, {childList: true});\n",
       "}}\n",
       "\n",
       "                        })                };                });            </script>        </div>"
      ]
     },
     "metadata": {},
     "output_type": "display_data"
    }
   ],
   "source": [
    "#Attack>= P%75\n",
    "fig=px.sunburst(vnl.query(\"Position != 'L'\" and \"Attack>=8.600000\"),\n",
    "                  path = ['Position','Country'],\n",
    "                  color = 'Attack')\n",
    "\n",
    "fig.show()"
   ]
  },
  {
   "cell_type": "code",
   "execution_count": 11,
   "id": "12ec0486",
   "metadata": {
    "_cell_guid": "74a99d0c-a866-4ebf-a832-4b741cc662b7",
    "_uuid": "b106c0cc-4b80-4a29-9617-b008688516db",
    "collapsed": false,
    "execution": {
     "iopub.execute_input": "2024-01-14T02:07:13.741611Z",
     "iopub.status.busy": "2024-01-14T02:07:13.740928Z",
     "iopub.status.idle": "2024-01-14T02:07:13.856328Z",
     "shell.execute_reply": "2024-01-14T02:07:13.855182Z"
    },
    "jupyter": {
     "outputs_hidden": false
    },
    "papermill": {
     "duration": 0.144487,
     "end_time": "2024-01-14T02:07:13.858727",
     "exception": false,
     "start_time": "2024-01-14T02:07:13.714240",
     "status": "completed"
    },
    "tags": []
   },
   "outputs": [
    {
     "data": {
      "text/html": [
       "<div>                            <div id=\"0864db11-b8b1-4f17-8471-27426cf57bde\" class=\"plotly-graph-div\" style=\"height:525px; width:100%;\"></div>            <script type=\"text/javascript\">                require([\"plotly\"], function(Plotly) {                    window.PLOTLYENV=window.PLOTLYENV || {};                                    if (document.getElementById(\"0864db11-b8b1-4f17-8471-27426cf57bde\")) {                    Plotly.newPlot(                        \"0864db11-b8b1-4f17-8471-27426cf57bde\",                        [{\"branchvalues\":\"total\",\"customdata\":[[4.08],[1.15],[1.69],[1.15],[1.92],[1.33],[1.25],[1.375],[1.83],[2.42],[1.17],[1.67],[3.0],[2.335],[2.09],[1.685],[1.27],[1.2],[2.08],[1.25],[1.82],[1.27],[1.43],[2.42],[1.615],[1.38],[1.47],[1.9675],[1.4055555555555557],[2.215],[1.22]],\"domain\":{\"x\":[0.0,1.0],\"y\":[0.0,1.0]},\"hovertemplate\":\"labels=%{label}\\u003cbr\\u003ecount=%{value}\\u003cbr\\u003eparent=%{parent}\\u003cbr\\u003eid=%{id}\\u003cbr\\u003eBlock=%{color}\\u003cextra\\u003e\\u003c\\u002fextra\\u003e\",\"ids\":[\"MB\\u002fArgentina\",\"OH\\u002fArgentina\",\"MB\\u002fBrazil\",\"OH\\u002fBrazil\",\"MB\\u002fBulgaria\",\"MB\\u002fCanada\",\"OH\\u002fCanada\",\"MB\\u002fChina\",\"OH\\u002fChina\",\"MB\\u002fCuba\",\"S\\u002fCuba\",\"MB\\u002fFrance\",\"OP\\u002fFrance\",\"MB\\u002fIran\",\"MB\\u002fItaly\",\"OH\\u002fItaly\",\"S\\u002fItaly\",\"MB\\u002fJapan\",\"MB\\u002fNederland\",\"OH\\u002fNederland\",\"MB\\u002fPoland\",\"OH\\u002fPoland\",\"OP\\u002fPoland\",\"MB\\u002fSerbia\",\"MB\\u002fSlovenia\",\"OH\\u002fSlovenia\",\"MB\\u002fUSA\",\"MB\",\"OH\",\"OP\",\"S\"],\"labels\":[\"Argentina\",\"Argentina\",\"Brazil\",\"Brazil\",\"Bulgaria\",\"Canada\",\"Canada\",\"China\",\"China\",\"Cuba\",\"Cuba\",\"France\",\"France\",\"Iran\",\"Italy\",\"Italy\",\"Italy\",\"Japan\",\"Nederland\",\"Nederland\",\"Poland\",\"Poland\",\"Poland\",\"Serbia\",\"Slovenia\",\"Slovenia\",\"USA\",\"MB\",\"OH\",\"OP\",\"S\"],\"marker\":{\"coloraxis\":\"coloraxis\",\"colors\":[4.08,1.15,1.69,1.15,1.92,1.33,1.25,1.375,1.83,2.42,1.17,1.67,3.0,2.335,2.09,1.685,1.27,1.2,2.08,1.25,1.82,1.27,1.43,2.42,1.615,1.38,1.47,1.9675,1.4055555555555557,2.215,1.22]},\"name\":\"\",\"parents\":[\"MB\",\"OH\",\"MB\",\"OH\",\"MB\",\"MB\",\"OH\",\"MB\",\"OH\",\"MB\",\"S\",\"MB\",\"OP\",\"MB\",\"MB\",\"OH\",\"S\",\"MB\",\"MB\",\"OH\",\"MB\",\"OH\",\"OP\",\"MB\",\"MB\",\"OH\",\"MB\",\"\",\"\",\"\",\"\"],\"values\":[1,1,1,1,1,1,1,2,1,1,1,1,1,2,2,2,1,1,1,1,1,1,1,2,2,1,1,20,9,2,2],\"type\":\"sunburst\"}],                        {\"template\":{\"data\":{\"histogram2dcontour\":[{\"type\":\"histogram2dcontour\",\"colorbar\":{\"outlinewidth\":0,\"ticks\":\"\"},\"colorscale\":[[0.0,\"#0d0887\"],[0.1111111111111111,\"#46039f\"],[0.2222222222222222,\"#7201a8\"],[0.3333333333333333,\"#9c179e\"],[0.4444444444444444,\"#bd3786\"],[0.5555555555555556,\"#d8576b\"],[0.6666666666666666,\"#ed7953\"],[0.7777777777777778,\"#fb9f3a\"],[0.8888888888888888,\"#fdca26\"],[1.0,\"#f0f921\"]]}],\"choropleth\":[{\"type\":\"choropleth\",\"colorbar\":{\"outlinewidth\":0,\"ticks\":\"\"}}],\"histogram2d\":[{\"type\":\"histogram2d\",\"colorbar\":{\"outlinewidth\":0,\"ticks\":\"\"},\"colorscale\":[[0.0,\"#0d0887\"],[0.1111111111111111,\"#46039f\"],[0.2222222222222222,\"#7201a8\"],[0.3333333333333333,\"#9c179e\"],[0.4444444444444444,\"#bd3786\"],[0.5555555555555556,\"#d8576b\"],[0.6666666666666666,\"#ed7953\"],[0.7777777777777778,\"#fb9f3a\"],[0.8888888888888888,\"#fdca26\"],[1.0,\"#f0f921\"]]}],\"heatmap\":[{\"type\":\"heatmap\",\"colorbar\":{\"outlinewidth\":0,\"ticks\":\"\"},\"colorscale\":[[0.0,\"#0d0887\"],[0.1111111111111111,\"#46039f\"],[0.2222222222222222,\"#7201a8\"],[0.3333333333333333,\"#9c179e\"],[0.4444444444444444,\"#bd3786\"],[0.5555555555555556,\"#d8576b\"],[0.6666666666666666,\"#ed7953\"],[0.7777777777777778,\"#fb9f3a\"],[0.8888888888888888,\"#fdca26\"],[1.0,\"#f0f921\"]]}],\"heatmapgl\":[{\"type\":\"heatmapgl\",\"colorbar\":{\"outlinewidth\":0,\"ticks\":\"\"},\"colorscale\":[[0.0,\"#0d0887\"],[0.1111111111111111,\"#46039f\"],[0.2222222222222222,\"#7201a8\"],[0.3333333333333333,\"#9c179e\"],[0.4444444444444444,\"#bd3786\"],[0.5555555555555556,\"#d8576b\"],[0.6666666666666666,\"#ed7953\"],[0.7777777777777778,\"#fb9f3a\"],[0.8888888888888888,\"#fdca26\"],[1.0,\"#f0f921\"]]}],\"contourcarpet\":[{\"type\":\"contourcarpet\",\"colorbar\":{\"outlinewidth\":0,\"ticks\":\"\"}}],\"contour\":[{\"type\":\"contour\",\"colorbar\":{\"outlinewidth\":0,\"ticks\":\"\"},\"colorscale\":[[0.0,\"#0d0887\"],[0.1111111111111111,\"#46039f\"],[0.2222222222222222,\"#7201a8\"],[0.3333333333333333,\"#9c179e\"],[0.4444444444444444,\"#bd3786\"],[0.5555555555555556,\"#d8576b\"],[0.6666666666666666,\"#ed7953\"],[0.7777777777777778,\"#fb9f3a\"],[0.8888888888888888,\"#fdca26\"],[1.0,\"#f0f921\"]]}],\"surface\":[{\"type\":\"surface\",\"colorbar\":{\"outlinewidth\":0,\"ticks\":\"\"},\"colorscale\":[[0.0,\"#0d0887\"],[0.1111111111111111,\"#46039f\"],[0.2222222222222222,\"#7201a8\"],[0.3333333333333333,\"#9c179e\"],[0.4444444444444444,\"#bd3786\"],[0.5555555555555556,\"#d8576b\"],[0.6666666666666666,\"#ed7953\"],[0.7777777777777778,\"#fb9f3a\"],[0.8888888888888888,\"#fdca26\"],[1.0,\"#f0f921\"]]}],\"mesh3d\":[{\"type\":\"mesh3d\",\"colorbar\":{\"outlinewidth\":0,\"ticks\":\"\"}}],\"scatter\":[{\"fillpattern\":{\"fillmode\":\"overlay\",\"size\":10,\"solidity\":0.2},\"type\":\"scatter\"}],\"parcoords\":[{\"type\":\"parcoords\",\"line\":{\"colorbar\":{\"outlinewidth\":0,\"ticks\":\"\"}}}],\"scatterpolargl\":[{\"type\":\"scatterpolargl\",\"marker\":{\"colorbar\":{\"outlinewidth\":0,\"ticks\":\"\"}}}],\"bar\":[{\"error_x\":{\"color\":\"#2a3f5f\"},\"error_y\":{\"color\":\"#2a3f5f\"},\"marker\":{\"line\":{\"color\":\"#E5ECF6\",\"width\":0.5},\"pattern\":{\"fillmode\":\"overlay\",\"size\":10,\"solidity\":0.2}},\"type\":\"bar\"}],\"scattergeo\":[{\"type\":\"scattergeo\",\"marker\":{\"colorbar\":{\"outlinewidth\":0,\"ticks\":\"\"}}}],\"scatterpolar\":[{\"type\":\"scatterpolar\",\"marker\":{\"colorbar\":{\"outlinewidth\":0,\"ticks\":\"\"}}}],\"histogram\":[{\"marker\":{\"pattern\":{\"fillmode\":\"overlay\",\"size\":10,\"solidity\":0.2}},\"type\":\"histogram\"}],\"scattergl\":[{\"type\":\"scattergl\",\"marker\":{\"colorbar\":{\"outlinewidth\":0,\"ticks\":\"\"}}}],\"scatter3d\":[{\"type\":\"scatter3d\",\"line\":{\"colorbar\":{\"outlinewidth\":0,\"ticks\":\"\"}},\"marker\":{\"colorbar\":{\"outlinewidth\":0,\"ticks\":\"\"}}}],\"scattermapbox\":[{\"type\":\"scattermapbox\",\"marker\":{\"colorbar\":{\"outlinewidth\":0,\"ticks\":\"\"}}}],\"scatterternary\":[{\"type\":\"scatterternary\",\"marker\":{\"colorbar\":{\"outlinewidth\":0,\"ticks\":\"\"}}}],\"scattercarpet\":[{\"type\":\"scattercarpet\",\"marker\":{\"colorbar\":{\"outlinewidth\":0,\"ticks\":\"\"}}}],\"carpet\":[{\"aaxis\":{\"endlinecolor\":\"#2a3f5f\",\"gridcolor\":\"white\",\"linecolor\":\"white\",\"minorgridcolor\":\"white\",\"startlinecolor\":\"#2a3f5f\"},\"baxis\":{\"endlinecolor\":\"#2a3f5f\",\"gridcolor\":\"white\",\"linecolor\":\"white\",\"minorgridcolor\":\"white\",\"startlinecolor\":\"#2a3f5f\"},\"type\":\"carpet\"}],\"table\":[{\"cells\":{\"fill\":{\"color\":\"#EBF0F8\"},\"line\":{\"color\":\"white\"}},\"header\":{\"fill\":{\"color\":\"#C8D4E3\"},\"line\":{\"color\":\"white\"}},\"type\":\"table\"}],\"barpolar\":[{\"marker\":{\"line\":{\"color\":\"#E5ECF6\",\"width\":0.5},\"pattern\":{\"fillmode\":\"overlay\",\"size\":10,\"solidity\":0.2}},\"type\":\"barpolar\"}],\"pie\":[{\"automargin\":true,\"type\":\"pie\"}]},\"layout\":{\"autotypenumbers\":\"strict\",\"colorway\":[\"#636efa\",\"#EF553B\",\"#00cc96\",\"#ab63fa\",\"#FFA15A\",\"#19d3f3\",\"#FF6692\",\"#B6E880\",\"#FF97FF\",\"#FECB52\"],\"font\":{\"color\":\"#2a3f5f\"},\"hovermode\":\"closest\",\"hoverlabel\":{\"align\":\"left\"},\"paper_bgcolor\":\"white\",\"plot_bgcolor\":\"#E5ECF6\",\"polar\":{\"bgcolor\":\"#E5ECF6\",\"angularaxis\":{\"gridcolor\":\"white\",\"linecolor\":\"white\",\"ticks\":\"\"},\"radialaxis\":{\"gridcolor\":\"white\",\"linecolor\":\"white\",\"ticks\":\"\"}},\"ternary\":{\"bgcolor\":\"#E5ECF6\",\"aaxis\":{\"gridcolor\":\"white\",\"linecolor\":\"white\",\"ticks\":\"\"},\"baxis\":{\"gridcolor\":\"white\",\"linecolor\":\"white\",\"ticks\":\"\"},\"caxis\":{\"gridcolor\":\"white\",\"linecolor\":\"white\",\"ticks\":\"\"}},\"coloraxis\":{\"colorbar\":{\"outlinewidth\":0,\"ticks\":\"\"}},\"colorscale\":{\"sequential\":[[0.0,\"#0d0887\"],[0.1111111111111111,\"#46039f\"],[0.2222222222222222,\"#7201a8\"],[0.3333333333333333,\"#9c179e\"],[0.4444444444444444,\"#bd3786\"],[0.5555555555555556,\"#d8576b\"],[0.6666666666666666,\"#ed7953\"],[0.7777777777777778,\"#fb9f3a\"],[0.8888888888888888,\"#fdca26\"],[1.0,\"#f0f921\"]],\"sequentialminus\":[[0.0,\"#0d0887\"],[0.1111111111111111,\"#46039f\"],[0.2222222222222222,\"#7201a8\"],[0.3333333333333333,\"#9c179e\"],[0.4444444444444444,\"#bd3786\"],[0.5555555555555556,\"#d8576b\"],[0.6666666666666666,\"#ed7953\"],[0.7777777777777778,\"#fb9f3a\"],[0.8888888888888888,\"#fdca26\"],[1.0,\"#f0f921\"]],\"diverging\":[[0,\"#8e0152\"],[0.1,\"#c51b7d\"],[0.2,\"#de77ae\"],[0.3,\"#f1b6da\"],[0.4,\"#fde0ef\"],[0.5,\"#f7f7f7\"],[0.6,\"#e6f5d0\"],[0.7,\"#b8e186\"],[0.8,\"#7fbc41\"],[0.9,\"#4d9221\"],[1,\"#276419\"]]},\"xaxis\":{\"gridcolor\":\"white\",\"linecolor\":\"white\",\"ticks\":\"\",\"title\":{\"standoff\":15},\"zerolinecolor\":\"white\",\"automargin\":true,\"zerolinewidth\":2},\"yaxis\":{\"gridcolor\":\"white\",\"linecolor\":\"white\",\"ticks\":\"\",\"title\":{\"standoff\":15},\"zerolinecolor\":\"white\",\"automargin\":true,\"zerolinewidth\":2},\"scene\":{\"xaxis\":{\"backgroundcolor\":\"#E5ECF6\",\"gridcolor\":\"white\",\"linecolor\":\"white\",\"showbackground\":true,\"ticks\":\"\",\"zerolinecolor\":\"white\",\"gridwidth\":2},\"yaxis\":{\"backgroundcolor\":\"#E5ECF6\",\"gridcolor\":\"white\",\"linecolor\":\"white\",\"showbackground\":true,\"ticks\":\"\",\"zerolinecolor\":\"white\",\"gridwidth\":2},\"zaxis\":{\"backgroundcolor\":\"#E5ECF6\",\"gridcolor\":\"white\",\"linecolor\":\"white\",\"showbackground\":true,\"ticks\":\"\",\"zerolinecolor\":\"white\",\"gridwidth\":2}},\"shapedefaults\":{\"line\":{\"color\":\"#2a3f5f\"}},\"annotationdefaults\":{\"arrowcolor\":\"#2a3f5f\",\"arrowhead\":0,\"arrowwidth\":1},\"geo\":{\"bgcolor\":\"white\",\"landcolor\":\"#E5ECF6\",\"subunitcolor\":\"white\",\"showland\":true,\"showlakes\":true,\"lakecolor\":\"white\"},\"title\":{\"x\":0.05},\"mapbox\":{\"style\":\"light\"}}},\"coloraxis\":{\"colorbar\":{\"title\":{\"text\":\"Block\"}},\"colorscale\":[[0.0,\"#0d0887\"],[0.1111111111111111,\"#46039f\"],[0.2222222222222222,\"#7201a8\"],[0.3333333333333333,\"#9c179e\"],[0.4444444444444444,\"#bd3786\"],[0.5555555555555556,\"#d8576b\"],[0.6666666666666666,\"#ed7953\"],[0.7777777777777778,\"#fb9f3a\"],[0.8888888888888888,\"#fdca26\"],[1.0,\"#f0f921\"]]},\"legend\":{\"tracegroupgap\":0},\"margin\":{\"t\":60}},                        {\"responsive\": true}                    ).then(function(){\n",
       "                            \n",
       "var gd = document.getElementById('0864db11-b8b1-4f17-8471-27426cf57bde');\n",
       "var x = new MutationObserver(function (mutations, observer) {{\n",
       "        var display = window.getComputedStyle(gd).display;\n",
       "        if (!display || display === 'none') {{\n",
       "            console.log([gd, 'removed!']);\n",
       "            Plotly.purge(gd);\n",
       "            observer.disconnect();\n",
       "        }}\n",
       "}});\n",
       "\n",
       "// Listen for the removal of the full notebook cells\n",
       "var notebookContainer = gd.closest('#notebook-container');\n",
       "if (notebookContainer) {{\n",
       "    x.observe(notebookContainer, {childList: true});\n",
       "}}\n",
       "\n",
       "// Listen for the clearing of the current output cell\n",
       "var outputEl = gd.closest('.output');\n",
       "if (outputEl) {{\n",
       "    x.observe(outputEl, {childList: true});\n",
       "}}\n",
       "\n",
       "                        })                };                });            </script>        </div>"
      ]
     },
     "metadata": {},
     "output_type": "display_data"
    }
   ],
   "source": [
    "#Block>= P%75\n",
    "fig=px.sunburst(vnl.query(\"Position != 'L'\" and \"Block>=1.140000\"),\n",
    "                  path = ['Position','Country'],\n",
    "                  color = 'Block')\n",
    "fig.show()"
   ]
  },
  {
   "cell_type": "code",
   "execution_count": 12,
   "id": "a91d7356",
   "metadata": {
    "_cell_guid": "20f1d79b-686a-460e-b166-54cb8345bb00",
    "_uuid": "9fb2d2d5-c7cd-480f-b2c4-a35144b43c93",
    "collapsed": false,
    "execution": {
     "iopub.execute_input": "2024-01-14T02:07:13.911566Z",
     "iopub.status.busy": "2024-01-14T02:07:13.910852Z",
     "iopub.status.idle": "2024-01-14T02:07:14.025227Z",
     "shell.execute_reply": "2024-01-14T02:07:14.023962Z"
    },
    "jupyter": {
     "outputs_hidden": false
    },
    "papermill": {
     "duration": 0.143768,
     "end_time": "2024-01-14T02:07:14.027808",
     "exception": false,
     "start_time": "2024-01-14T02:07:13.884040",
     "status": "completed"
    },
    "tags": []
   },
   "outputs": [
    {
     "data": {
      "text/html": [
       "<div>                            <div id=\"e9ded316-1136-4f68-9122-174758e52207\" class=\"plotly-graph-div\" style=\"height:525px; width:100%;\"></div>            <script type=\"text/javascript\">                require([\"plotly\"], function(Plotly) {                    window.PLOTLYENV=window.PLOTLYENV || {};                                    if (document.getElementById(\"e9ded316-1136-4f68-9122-174758e52207\")) {                    Plotly.newPlot(                        \"e9ded316-1136-4f68-9122-174758e52207\",                        [{\"branchvalues\":\"total\",\"customdata\":[[0.92],[1.46],[1.46],[0.88],[0.83],[1.42],[1.33],[1.75],[1.5],[0.78],[0.92],[1.75],[1.18],[1.18],[1.47],[1.2],[0.9299999999999999],[0.875],[2.08],[1.135],[1.27],[1.205],[0.77],[1.075],[1.0],[1.13],[1.01],[1.133125],[1.395],[0.78]],\"domain\":{\"x\":[0.0,1.0],\"y\":[0.0,1.0]},\"hovertemplate\":\"labels=%{label}\\u003cbr\\u003ecount=%{value}\\u003cbr\\u003eparent=%{parent}\\u003cbr\\u003eid=%{id}\\u003cbr\\u003eServe=%{color}\\u003cextra\\u003e\\u003c\\u002fextra\\u003e\",\"ids\":[\"MB\\u002fArgentina\",\"OH\\u002fArgentina\",\"OH\\u002fBrazil\",\"OH\\u002fBulgaria\",\"OH\\u002fCanada\",\"OH\\u002fChina\",\"OH\\u002fCuba\",\"OP\\u002fCuba\",\"OP\\u002fFrance\",\"S\\u002fFrance\",\"MB\\u002fGermany\",\"OP\\u002fIran\",\"MB\\u002fItaly\",\"OH\\u002fItaly\",\"OP\\u002fItaly\",\"OH\\u002fJapan\",\"OP\\u002fJapan\",\"OH\\u002fNederland\",\"OP\\u002fNederland\",\"MB\\u002fPoland\",\"OH\\u002fPoland\",\"OP\\u002fSerbia\",\"MB\\u002fSlovenia\",\"OH\\u002fSlovenia\",\"OH\\u002fUSA\",\"OP\\u002fUSA\",\"MB\",\"OH\",\"OP\",\"S\"],\"labels\":[\"Argentina\",\"Argentina\",\"Brazil\",\"Bulgaria\",\"Canada\",\"China\",\"Cuba\",\"Cuba\",\"France\",\"France\",\"Germany\",\"Iran\",\"Italy\",\"Italy\",\"Italy\",\"Japan\",\"Japan\",\"Nederland\",\"Nederland\",\"Poland\",\"Poland\",\"Serbia\",\"Slovenia\",\"Slovenia\",\"USA\",\"USA\",\"MB\",\"OH\",\"OP\",\"S\"],\"marker\":{\"coloraxis\":\"coloraxis\",\"colors\":[0.92,1.46,1.46,0.88,0.83,1.42,1.33,1.75,1.5,0.78,0.92,1.75,1.18,1.18,1.47,1.2,0.9299999999999999,0.875,2.08,1.135,1.27,1.205,0.77,1.075,1.0,1.13,1.01,1.133125,1.395,0.78]},\"name\":\"\",\"parents\":[\"MB\",\"OH\",\"OH\",\"OH\",\"OH\",\"OH\",\"OH\",\"OP\",\"OP\",\"S\",\"MB\",\"OP\",\"MB\",\"OH\",\"OP\",\"OH\",\"OP\",\"OH\",\"OP\",\"MB\",\"OH\",\"OP\",\"MB\",\"OH\",\"OH\",\"OP\",\"\",\"\",\"\",\"\"],\"values\":[1,1,1,1,1,1,1,1,1,1,1,1,1,1,1,2,2,2,1,2,1,2,1,2,2,1,6,16,10,1],\"type\":\"sunburst\"}],                        {\"template\":{\"data\":{\"histogram2dcontour\":[{\"type\":\"histogram2dcontour\",\"colorbar\":{\"outlinewidth\":0,\"ticks\":\"\"},\"colorscale\":[[0.0,\"#0d0887\"],[0.1111111111111111,\"#46039f\"],[0.2222222222222222,\"#7201a8\"],[0.3333333333333333,\"#9c179e\"],[0.4444444444444444,\"#bd3786\"],[0.5555555555555556,\"#d8576b\"],[0.6666666666666666,\"#ed7953\"],[0.7777777777777778,\"#fb9f3a\"],[0.8888888888888888,\"#fdca26\"],[1.0,\"#f0f921\"]]}],\"choropleth\":[{\"type\":\"choropleth\",\"colorbar\":{\"outlinewidth\":0,\"ticks\":\"\"}}],\"histogram2d\":[{\"type\":\"histogram2d\",\"colorbar\":{\"outlinewidth\":0,\"ticks\":\"\"},\"colorscale\":[[0.0,\"#0d0887\"],[0.1111111111111111,\"#46039f\"],[0.2222222222222222,\"#7201a8\"],[0.3333333333333333,\"#9c179e\"],[0.4444444444444444,\"#bd3786\"],[0.5555555555555556,\"#d8576b\"],[0.6666666666666666,\"#ed7953\"],[0.7777777777777778,\"#fb9f3a\"],[0.8888888888888888,\"#fdca26\"],[1.0,\"#f0f921\"]]}],\"heatmap\":[{\"type\":\"heatmap\",\"colorbar\":{\"outlinewidth\":0,\"ticks\":\"\"},\"colorscale\":[[0.0,\"#0d0887\"],[0.1111111111111111,\"#46039f\"],[0.2222222222222222,\"#7201a8\"],[0.3333333333333333,\"#9c179e\"],[0.4444444444444444,\"#bd3786\"],[0.5555555555555556,\"#d8576b\"],[0.6666666666666666,\"#ed7953\"],[0.7777777777777778,\"#fb9f3a\"],[0.8888888888888888,\"#fdca26\"],[1.0,\"#f0f921\"]]}],\"heatmapgl\":[{\"type\":\"heatmapgl\",\"colorbar\":{\"outlinewidth\":0,\"ticks\":\"\"},\"colorscale\":[[0.0,\"#0d0887\"],[0.1111111111111111,\"#46039f\"],[0.2222222222222222,\"#7201a8\"],[0.3333333333333333,\"#9c179e\"],[0.4444444444444444,\"#bd3786\"],[0.5555555555555556,\"#d8576b\"],[0.6666666666666666,\"#ed7953\"],[0.7777777777777778,\"#fb9f3a\"],[0.8888888888888888,\"#fdca26\"],[1.0,\"#f0f921\"]]}],\"contourcarpet\":[{\"type\":\"contourcarpet\",\"colorbar\":{\"outlinewidth\":0,\"ticks\":\"\"}}],\"contour\":[{\"type\":\"contour\",\"colorbar\":{\"outlinewidth\":0,\"ticks\":\"\"},\"colorscale\":[[0.0,\"#0d0887\"],[0.1111111111111111,\"#46039f\"],[0.2222222222222222,\"#7201a8\"],[0.3333333333333333,\"#9c179e\"],[0.4444444444444444,\"#bd3786\"],[0.5555555555555556,\"#d8576b\"],[0.6666666666666666,\"#ed7953\"],[0.7777777777777778,\"#fb9f3a\"],[0.8888888888888888,\"#fdca26\"],[1.0,\"#f0f921\"]]}],\"surface\":[{\"type\":\"surface\",\"colorbar\":{\"outlinewidth\":0,\"ticks\":\"\"},\"colorscale\":[[0.0,\"#0d0887\"],[0.1111111111111111,\"#46039f\"],[0.2222222222222222,\"#7201a8\"],[0.3333333333333333,\"#9c179e\"],[0.4444444444444444,\"#bd3786\"],[0.5555555555555556,\"#d8576b\"],[0.6666666666666666,\"#ed7953\"],[0.7777777777777778,\"#fb9f3a\"],[0.8888888888888888,\"#fdca26\"],[1.0,\"#f0f921\"]]}],\"mesh3d\":[{\"type\":\"mesh3d\",\"colorbar\":{\"outlinewidth\":0,\"ticks\":\"\"}}],\"scatter\":[{\"fillpattern\":{\"fillmode\":\"overlay\",\"size\":10,\"solidity\":0.2},\"type\":\"scatter\"}],\"parcoords\":[{\"type\":\"parcoords\",\"line\":{\"colorbar\":{\"outlinewidth\":0,\"ticks\":\"\"}}}],\"scatterpolargl\":[{\"type\":\"scatterpolargl\",\"marker\":{\"colorbar\":{\"outlinewidth\":0,\"ticks\":\"\"}}}],\"bar\":[{\"error_x\":{\"color\":\"#2a3f5f\"},\"error_y\":{\"color\":\"#2a3f5f\"},\"marker\":{\"line\":{\"color\":\"#E5ECF6\",\"width\":0.5},\"pattern\":{\"fillmode\":\"overlay\",\"size\":10,\"solidity\":0.2}},\"type\":\"bar\"}],\"scattergeo\":[{\"type\":\"scattergeo\",\"marker\":{\"colorbar\":{\"outlinewidth\":0,\"ticks\":\"\"}}}],\"scatterpolar\":[{\"type\":\"scatterpolar\",\"marker\":{\"colorbar\":{\"outlinewidth\":0,\"ticks\":\"\"}}}],\"histogram\":[{\"marker\":{\"pattern\":{\"fillmode\":\"overlay\",\"size\":10,\"solidity\":0.2}},\"type\":\"histogram\"}],\"scattergl\":[{\"type\":\"scattergl\",\"marker\":{\"colorbar\":{\"outlinewidth\":0,\"ticks\":\"\"}}}],\"scatter3d\":[{\"type\":\"scatter3d\",\"line\":{\"colorbar\":{\"outlinewidth\":0,\"ticks\":\"\"}},\"marker\":{\"colorbar\":{\"outlinewidth\":0,\"ticks\":\"\"}}}],\"scattermapbox\":[{\"type\":\"scattermapbox\",\"marker\":{\"colorbar\":{\"outlinewidth\":0,\"ticks\":\"\"}}}],\"scatterternary\":[{\"type\":\"scatterternary\",\"marker\":{\"colorbar\":{\"outlinewidth\":0,\"ticks\":\"\"}}}],\"scattercarpet\":[{\"type\":\"scattercarpet\",\"marker\":{\"colorbar\":{\"outlinewidth\":0,\"ticks\":\"\"}}}],\"carpet\":[{\"aaxis\":{\"endlinecolor\":\"#2a3f5f\",\"gridcolor\":\"white\",\"linecolor\":\"white\",\"minorgridcolor\":\"white\",\"startlinecolor\":\"#2a3f5f\"},\"baxis\":{\"endlinecolor\":\"#2a3f5f\",\"gridcolor\":\"white\",\"linecolor\":\"white\",\"minorgridcolor\":\"white\",\"startlinecolor\":\"#2a3f5f\"},\"type\":\"carpet\"}],\"table\":[{\"cells\":{\"fill\":{\"color\":\"#EBF0F8\"},\"line\":{\"color\":\"white\"}},\"header\":{\"fill\":{\"color\":\"#C8D4E3\"},\"line\":{\"color\":\"white\"}},\"type\":\"table\"}],\"barpolar\":[{\"marker\":{\"line\":{\"color\":\"#E5ECF6\",\"width\":0.5},\"pattern\":{\"fillmode\":\"overlay\",\"size\":10,\"solidity\":0.2}},\"type\":\"barpolar\"}],\"pie\":[{\"automargin\":true,\"type\":\"pie\"}]},\"layout\":{\"autotypenumbers\":\"strict\",\"colorway\":[\"#636efa\",\"#EF553B\",\"#00cc96\",\"#ab63fa\",\"#FFA15A\",\"#19d3f3\",\"#FF6692\",\"#B6E880\",\"#FF97FF\",\"#FECB52\"],\"font\":{\"color\":\"#2a3f5f\"},\"hovermode\":\"closest\",\"hoverlabel\":{\"align\":\"left\"},\"paper_bgcolor\":\"white\",\"plot_bgcolor\":\"#E5ECF6\",\"polar\":{\"bgcolor\":\"#E5ECF6\",\"angularaxis\":{\"gridcolor\":\"white\",\"linecolor\":\"white\",\"ticks\":\"\"},\"radialaxis\":{\"gridcolor\":\"white\",\"linecolor\":\"white\",\"ticks\":\"\"}},\"ternary\":{\"bgcolor\":\"#E5ECF6\",\"aaxis\":{\"gridcolor\":\"white\",\"linecolor\":\"white\",\"ticks\":\"\"},\"baxis\":{\"gridcolor\":\"white\",\"linecolor\":\"white\",\"ticks\":\"\"},\"caxis\":{\"gridcolor\":\"white\",\"linecolor\":\"white\",\"ticks\":\"\"}},\"coloraxis\":{\"colorbar\":{\"outlinewidth\":0,\"ticks\":\"\"}},\"colorscale\":{\"sequential\":[[0.0,\"#0d0887\"],[0.1111111111111111,\"#46039f\"],[0.2222222222222222,\"#7201a8\"],[0.3333333333333333,\"#9c179e\"],[0.4444444444444444,\"#bd3786\"],[0.5555555555555556,\"#d8576b\"],[0.6666666666666666,\"#ed7953\"],[0.7777777777777778,\"#fb9f3a\"],[0.8888888888888888,\"#fdca26\"],[1.0,\"#f0f921\"]],\"sequentialminus\":[[0.0,\"#0d0887\"],[0.1111111111111111,\"#46039f\"],[0.2222222222222222,\"#7201a8\"],[0.3333333333333333,\"#9c179e\"],[0.4444444444444444,\"#bd3786\"],[0.5555555555555556,\"#d8576b\"],[0.6666666666666666,\"#ed7953\"],[0.7777777777777778,\"#fb9f3a\"],[0.8888888888888888,\"#fdca26\"],[1.0,\"#f0f921\"]],\"diverging\":[[0,\"#8e0152\"],[0.1,\"#c51b7d\"],[0.2,\"#de77ae\"],[0.3,\"#f1b6da\"],[0.4,\"#fde0ef\"],[0.5,\"#f7f7f7\"],[0.6,\"#e6f5d0\"],[0.7,\"#b8e186\"],[0.8,\"#7fbc41\"],[0.9,\"#4d9221\"],[1,\"#276419\"]]},\"xaxis\":{\"gridcolor\":\"white\",\"linecolor\":\"white\",\"ticks\":\"\",\"title\":{\"standoff\":15},\"zerolinecolor\":\"white\",\"automargin\":true,\"zerolinewidth\":2},\"yaxis\":{\"gridcolor\":\"white\",\"linecolor\":\"white\",\"ticks\":\"\",\"title\":{\"standoff\":15},\"zerolinecolor\":\"white\",\"automargin\":true,\"zerolinewidth\":2},\"scene\":{\"xaxis\":{\"backgroundcolor\":\"#E5ECF6\",\"gridcolor\":\"white\",\"linecolor\":\"white\",\"showbackground\":true,\"ticks\":\"\",\"zerolinecolor\":\"white\",\"gridwidth\":2},\"yaxis\":{\"backgroundcolor\":\"#E5ECF6\",\"gridcolor\":\"white\",\"linecolor\":\"white\",\"showbackground\":true,\"ticks\":\"\",\"zerolinecolor\":\"white\",\"gridwidth\":2},\"zaxis\":{\"backgroundcolor\":\"#E5ECF6\",\"gridcolor\":\"white\",\"linecolor\":\"white\",\"showbackground\":true,\"ticks\":\"\",\"zerolinecolor\":\"white\",\"gridwidth\":2}},\"shapedefaults\":{\"line\":{\"color\":\"#2a3f5f\"}},\"annotationdefaults\":{\"arrowcolor\":\"#2a3f5f\",\"arrowhead\":0,\"arrowwidth\":1},\"geo\":{\"bgcolor\":\"white\",\"landcolor\":\"#E5ECF6\",\"subunitcolor\":\"white\",\"showland\":true,\"showlakes\":true,\"lakecolor\":\"white\"},\"title\":{\"x\":0.05},\"mapbox\":{\"style\":\"light\"}}},\"coloraxis\":{\"colorbar\":{\"title\":{\"text\":\"Serve\"}},\"colorscale\":[[0.0,\"#0d0887\"],[0.1111111111111111,\"#46039f\"],[0.2222222222222222,\"#7201a8\"],[0.3333333333333333,\"#9c179e\"],[0.4444444444444444,\"#bd3786\"],[0.5555555555555556,\"#d8576b\"],[0.6666666666666666,\"#ed7953\"],[0.7777777777777778,\"#fb9f3a\"],[0.8888888888888888,\"#fdca26\"],[1.0,\"#f0f921\"]]},\"legend\":{\"tracegroupgap\":0},\"margin\":{\"t\":60}},                        {\"responsive\": true}                    ).then(function(){\n",
       "                            \n",
       "var gd = document.getElementById('e9ded316-1136-4f68-9122-174758e52207');\n",
       "var x = new MutationObserver(function (mutations, observer) {{\n",
       "        var display = window.getComputedStyle(gd).display;\n",
       "        if (!display || display === 'none') {{\n",
       "            console.log([gd, 'removed!']);\n",
       "            Plotly.purge(gd);\n",
       "            observer.disconnect();\n",
       "        }}\n",
       "}});\n",
       "\n",
       "// Listen for the removal of the full notebook cells\n",
       "var notebookContainer = gd.closest('#notebook-container');\n",
       "if (notebookContainer) {{\n",
       "    x.observe(notebookContainer, {childList: true});\n",
       "}}\n",
       "\n",
       "// Listen for the clearing of the current output cell\n",
       "var outputEl = gd.closest('.output');\n",
       "if (outputEl) {{\n",
       "    x.observe(outputEl, {childList: true});\n",
       "}}\n",
       "\n",
       "                        })                };                });            </script>        </div>"
      ]
     },
     "metadata": {},
     "output_type": "display_data"
    }
   ],
   "source": [
    "#Serve>= P%75\n",
    "fig=px.sunburst(vnl.query(\"Position != 'L'\" and \"Serve>=0.760000\"),\n",
    "                  path = ['Position','Country'],\n",
    "                  color = 'Serve')\n",
    "fig.show()"
   ]
  },
  {
   "cell_type": "markdown",
   "id": "5d2999b3",
   "metadata": {
    "_cell_guid": "540da5b4-4bbb-43d9-b6ec-072c9475bb64",
    "_uuid": "ccdec004-916b-45f0-9408-2f07c5c3a53c",
    "papermill": {
     "duration": 0.025376,
     "end_time": "2024-01-14T02:07:14.079019",
     "exception": false,
     "start_time": "2024-01-14T02:07:14.053643",
     "status": "completed"
    },
    "tags": []
   },
   "source": [
    "\n",
    "# **The KNN algorithm is very sensitive to the outliers. We find the outliers.**"
   ]
  },
  {
   "cell_type": "code",
   "execution_count": 13,
   "id": "1968d78d",
   "metadata": {
    "_cell_guid": "0ad39643-c41b-42cd-b361-74bedc5e1587",
    "_uuid": "bc64e2a1-bc75-40e2-bdda-f38acd6ca329",
    "collapsed": false,
    "execution": {
     "iopub.execute_input": "2024-01-14T02:07:14.132368Z",
     "iopub.status.busy": "2024-01-14T02:07:14.131967Z",
     "iopub.status.idle": "2024-01-14T02:07:14.167320Z",
     "shell.execute_reply": "2024-01-14T02:07:14.165642Z"
    },
    "jupyter": {
     "outputs_hidden": false
    },
    "papermill": {
     "duration": 0.065079,
     "end_time": "2024-01-14T02:07:14.169654",
     "exception": false,
     "start_time": "2024-01-14T02:07:14.104575",
     "status": "completed"
    },
    "tags": []
   },
   "outputs": [
    {
     "name": "stdout",
     "output_type": "stream",
     "text": [
      "Attack number of outliers:0\n",
      "Attack max outlier value:nan\n",
      "Attack min outlier value:nan\n",
      "--------------------------------------------------\n",
      "Block number of outliers:6\n",
      "Block max outlier value:4.08\n",
      "Block min outlier value:2.42\n",
      "--------------------------------------------------\n",
      "Serve number of outliers:3\n",
      "Serve max outlier value:2.08\n",
      "Serve min outlier value:1.75\n",
      "--------------------------------------------------\n",
      "Set number of outliers:26\n",
      "Set max outlier value:26.89\n",
      "Set min outlier value:0.07\n",
      "--------------------------------------------------\n",
      "Dig number of outliers:5\n",
      "Dig max outlier value:11.44\n",
      "Dig min outlier value:8.69\n",
      "--------------------------------------------------\n",
      "Receive number of outliers:0\n",
      "Receive max outlier value:nan\n",
      "Receive min outlier value:nan\n",
      "--------------------------------------------------\n",
      "Age number of outliers:2\n",
      "Age max outlier value:41\n",
      "Age min outlier value:38\n"
     ]
    }
   ],
   "source": [
    "def find_outliers_IQR(df):\n",
    "    q1=df.quantile(0.25)\n",
    "    q3=df.quantile(0.75)\n",
    "    IQR=q3-q1\n",
    "    outliers = df[((df<(q1-1.5*IQR)) | (df>(q3+1.5*IQR)))]\n",
    "    return outliers\n",
    "\n",
    "\n",
    "outliers = find_outliers_IQR(vnl[\"Attack\"])\n",
    "print(\"Attack number of outliers:\" + str(len(outliers)))\n",
    "\n",
    "print(\"Attack max outlier value:\" + str(outliers.max()))\n",
    "\n",
    "print(\"Attack min outlier value:\" + str(outliers.min()))\n",
    "\n",
    "print(\"-\"*50)\n",
    "\n",
    "outliers = find_outliers_IQR(vnl[\"Block\"])\n",
    "print(\"Block number of outliers:\" + str(len(outliers)))\n",
    "\n",
    "print(\"Block max outlier value:\" + str(outliers.max()))\n",
    "\n",
    "print(\"Block min outlier value:\" + str(outliers.min()))\n",
    "print(\"-\"*50)\n",
    "\n",
    "outliers = find_outliers_IQR(vnl[\"Serve\"])\n",
    "print(\"Serve number of outliers:\" + str(len(outliers)))\n",
    "\n",
    "print(\"Serve max outlier value:\" + str(outliers.max()))\n",
    "\n",
    "print(\"Serve min outlier value:\" + str(outliers.min()))\n",
    "print(\"-\"*50)\n",
    "outliers = find_outliers_IQR(vnl[\"Set\"])\n",
    "print(\"Set number of outliers:\" + str(len(outliers)))\n",
    "\n",
    "print(\"Set max outlier value:\" + str(outliers.max()))\n",
    "\n",
    "print(\"Set min outlier value:\" + str(outliers.min()))\n",
    "print(\"-\"*50)\n",
    "outliers = find_outliers_IQR(vnl[\"Dig\"])\n",
    "print(\"Dig number of outliers:\" + str(len(outliers)))\n",
    "\n",
    "print(\"Dig max outlier value:\" + str(outliers.max()))\n",
    "\n",
    "print(\"Dig min outlier value:\" + str(outliers.min()))\n",
    "print(\"-\"*50)\n",
    "\n",
    "outliers = find_outliers_IQR(vnl[\"Receive\"])\n",
    "print(\"Receive number of outliers:\" + str(len(outliers)))\n",
    "\n",
    "print(\"Receive max outlier value:\" + str(outliers.max()))\n",
    "\n",
    "print(\"Receive min outlier value:\" + str(outliers.min()))\n",
    "print(\"-\"*50)\n",
    "\n",
    "outliers = find_outliers_IQR(vnl[\"Age\"])\n",
    "print(\"Age number of outliers:\" + str(len(outliers)))\n",
    "\n",
    "print(\"Age max outlier value:\" + str(outliers.max()))\n",
    "\n",
    "print(\"Age min outlier value:\" + str(outliers.min()))"
   ]
  },
  {
   "cell_type": "code",
   "execution_count": 14,
   "id": "8bd9d92d",
   "metadata": {
    "_cell_guid": "38892583-f14f-4a2e-8c62-b4d9c2cd6a16",
    "_uuid": "9e68a148-1d13-4703-a0c9-1079f2953ec5",
    "collapsed": false,
    "execution": {
     "iopub.execute_input": "2024-01-14T02:07:14.226133Z",
     "iopub.status.busy": "2024-01-14T02:07:14.225428Z",
     "iopub.status.idle": "2024-01-14T02:07:14.337612Z",
     "shell.execute_reply": "2024-01-14T02:07:14.336361Z"
    },
    "jupyter": {
     "outputs_hidden": false
    },
    "papermill": {
     "duration": 0.14258,
     "end_time": "2024-01-14T02:07:14.340740",
     "exception": false,
     "start_time": "2024-01-14T02:07:14.198160",
     "status": "completed"
    },
    "tags": []
   },
   "outputs": [
    {
     "name": "stdout",
     "output_type": "stream",
     "text": [
      "Block Describe\n",
      " count    131.000000\n",
      "mean       0.752545\n",
      "std        0.525406\n",
      "min        0.000000\n",
      "25%        0.370000\n",
      "50%        0.690000\n",
      "75%        1.080000\n",
      "max        2.180000\n",
      "Name: Block, dtype: float64\n",
      "--------------------------------------------------\n",
      "Serve Describe\n",
      " count    131.000000\n",
      "mean       0.505476\n",
      "std        0.405561\n",
      "min        0.000000\n",
      "25%        0.240000\n",
      "50%        0.420000\n",
      "75%        0.750000\n",
      "max        1.500000\n",
      "Name: Serve, dtype: float64\n",
      "--------------------------------------------------\n",
      "Set Describe\n",
      " count    131.000000\n",
      "mean       0.435172\n",
      "std        0.877875\n",
      "min        0.000000\n",
      "25%        0.000000\n",
      "50%        0.000000\n",
      "75%        0.000000\n",
      "max        2.192595\n",
      "Name: Set, dtype: float64\n",
      "--------------------------------------------------\n",
      "Dig Describe\n",
      " count    131.000000\n",
      "mean       3.187420\n",
      "std        1.639062\n",
      "min        0.530000\n",
      "25%        1.920000\n",
      "50%        3.000000\n",
      "75%        4.250000\n",
      "max        7.090000\n",
      "Name: Dig, dtype: float64\n",
      "--------------------------------------------------\n",
      "Age Describe\n",
      " count    131.000000\n",
      "mean      27.630674\n",
      "std        3.918599\n",
      "min       19.000000\n",
      "25%       25.000000\n",
      "50%       27.000000\n",
      "75%       30.000000\n",
      "max       37.000000\n",
      "Name: Age, dtype: float64\n",
      "--------------------------------------------------\n"
     ]
    }
   ],
   "source": [
    "def impute_outliers_IQR(df):\n",
    "    q1=df.quantile(0.25)\n",
    "    q3=df.quantile(0.75)\n",
    "    IQR=q3-q1\n",
    "    upper = df[~(df>(q3+1.5*IQR))].max()\n",
    "    lower = df[~(df<(q1-1.5*IQR))].min()\n",
    "    df = np.where(df > upper,\n",
    "    df.mean(),\n",
    "    np.where(\n",
    "    df < lower,\n",
    "        df.mean(),\n",
    "        df))\n",
    "    return df\n",
    "\n",
    "vnl[\"Block\"] = impute_outliers_IQR(vnl[\"Block\"])\n",
    "print(\"Block Describe\\n\",vnl.describe()[\"Block\"])\n",
    "print(\"-\"*50)\n",
    "vnl[\"Serve\"] = impute_outliers_IQR(vnl[\"Serve\"])\n",
    "print(\"Serve Describe\\n\",vnl.describe()[\"Serve\"])\n",
    "print(\"-\"*50)\n",
    "vnl[\"Set\"] = impute_outliers_IQR(vnl[\"Set\"])\n",
    "print(\"Set Describe\\n\",vnl.describe()[\"Set\"])\n",
    "print(\"-\"*50)\n",
    "vnl[\"Dig\"] = impute_outliers_IQR(vnl[\"Dig\"])\n",
    "print(\"Dig Describe\\n\",vnl.describe()[\"Dig\"])\n",
    "print(\"-\"*50)\n",
    "vnl[\"Age\"] = impute_outliers_IQR(vnl[\"Age\"])\n",
    "print(\"Age Describe\\n\",vnl.describe()[\"Age\"])\n",
    "print(\"-\"*50)"
   ]
  },
  {
   "cell_type": "code",
   "execution_count": 15,
   "id": "2d545ec3",
   "metadata": {
    "_cell_guid": "71cebaf7-cc1a-4c6d-8ff0-67d560b39f76",
    "_uuid": "eae8f6b9-9b9a-4970-b235-59f3031cb477",
    "collapsed": false,
    "execution": {
     "iopub.execute_input": "2024-01-14T02:07:14.397781Z",
     "iopub.status.busy": "2024-01-14T02:07:14.397155Z",
     "iopub.status.idle": "2024-01-14T02:07:14.434907Z",
     "shell.execute_reply": "2024-01-14T02:07:14.433752Z"
    },
    "jupyter": {
     "outputs_hidden": false
    },
    "papermill": {
     "duration": 0.06932,
     "end_time": "2024-01-14T02:07:14.437352",
     "exception": false,
     "start_time": "2024-01-14T02:07:14.368032",
     "status": "completed"
    },
    "tags": []
   },
   "outputs": [
    {
     "data": {
      "text/html": [
       "<div>\n",
       "<style scoped>\n",
       "    .dataframe tbody tr th:only-of-type {\n",
       "        vertical-align: middle;\n",
       "    }\n",
       "\n",
       "    .dataframe tbody tr th {\n",
       "        vertical-align: top;\n",
       "    }\n",
       "\n",
       "    .dataframe thead th {\n",
       "        text-align: right;\n",
       "    }\n",
       "</style>\n",
       "<table border=\"1\" class=\"dataframe\">\n",
       "  <thead>\n",
       "    <tr style=\"text-align: right;\">\n",
       "      <th></th>\n",
       "      <th>Age</th>\n",
       "      <th>Attack</th>\n",
       "      <th>Block</th>\n",
       "      <th>Serve</th>\n",
       "      <th>Set</th>\n",
       "      <th>Dig</th>\n",
       "      <th>Receive</th>\n",
       "    </tr>\n",
       "  </thead>\n",
       "  <tbody>\n",
       "    <tr>\n",
       "      <th>count</th>\n",
       "      <td>131.000000</td>\n",
       "      <td>131.000000</td>\n",
       "      <td>131.000000</td>\n",
       "      <td>131.000000</td>\n",
       "      <td>131.000000</td>\n",
       "      <td>131.000000</td>\n",
       "      <td>131.000000</td>\n",
       "    </tr>\n",
       "    <tr>\n",
       "      <th>mean</th>\n",
       "      <td>27.630674</td>\n",
       "      <td>5.642672</td>\n",
       "      <td>0.752545</td>\n",
       "      <td>0.505476</td>\n",
       "      <td>0.435172</td>\n",
       "      <td>3.187420</td>\n",
       "      <td>1.684198</td>\n",
       "    </tr>\n",
       "    <tr>\n",
       "      <th>std</th>\n",
       "      <td>3.918599</td>\n",
       "      <td>4.256229</td>\n",
       "      <td>0.525406</td>\n",
       "      <td>0.405561</td>\n",
       "      <td>0.877875</td>\n",
       "      <td>1.639062</td>\n",
       "      <td>1.989939</td>\n",
       "    </tr>\n",
       "    <tr>\n",
       "      <th>min</th>\n",
       "      <td>19.000000</td>\n",
       "      <td>0.000000</td>\n",
       "      <td>0.000000</td>\n",
       "      <td>0.000000</td>\n",
       "      <td>0.000000</td>\n",
       "      <td>0.530000</td>\n",
       "      <td>0.000000</td>\n",
       "    </tr>\n",
       "    <tr>\n",
       "      <th>25%</th>\n",
       "      <td>25.000000</td>\n",
       "      <td>2.800000</td>\n",
       "      <td>0.370000</td>\n",
       "      <td>0.240000</td>\n",
       "      <td>0.000000</td>\n",
       "      <td>1.920000</td>\n",
       "      <td>0.000000</td>\n",
       "    </tr>\n",
       "    <tr>\n",
       "      <th>50%</th>\n",
       "      <td>27.000000</td>\n",
       "      <td>5.170000</td>\n",
       "      <td>0.690000</td>\n",
       "      <td>0.420000</td>\n",
       "      <td>0.000000</td>\n",
       "      <td>3.000000</td>\n",
       "      <td>0.330000</td>\n",
       "    </tr>\n",
       "    <tr>\n",
       "      <th>75%</th>\n",
       "      <td>30.000000</td>\n",
       "      <td>8.600000</td>\n",
       "      <td>1.080000</td>\n",
       "      <td>0.750000</td>\n",
       "      <td>0.000000</td>\n",
       "      <td>4.250000</td>\n",
       "      <td>3.385000</td>\n",
       "    </tr>\n",
       "    <tr>\n",
       "      <th>max</th>\n",
       "      <td>37.000000</td>\n",
       "      <td>15.800000</td>\n",
       "      <td>2.180000</td>\n",
       "      <td>1.500000</td>\n",
       "      <td>2.192595</td>\n",
       "      <td>7.090000</td>\n",
       "      <td>6.690000</td>\n",
       "    </tr>\n",
       "  </tbody>\n",
       "</table>\n",
       "</div>"
      ],
      "text/plain": [
       "              Age      Attack       Block       Serve         Set         Dig  \\\n",
       "count  131.000000  131.000000  131.000000  131.000000  131.000000  131.000000   \n",
       "mean    27.630674    5.642672    0.752545    0.505476    0.435172    3.187420   \n",
       "std      3.918599    4.256229    0.525406    0.405561    0.877875    1.639062   \n",
       "min     19.000000    0.000000    0.000000    0.000000    0.000000    0.530000   \n",
       "25%     25.000000    2.800000    0.370000    0.240000    0.000000    1.920000   \n",
       "50%     27.000000    5.170000    0.690000    0.420000    0.000000    3.000000   \n",
       "75%     30.000000    8.600000    1.080000    0.750000    0.000000    4.250000   \n",
       "max     37.000000   15.800000    2.180000    1.500000    2.192595    7.090000   \n",
       "\n",
       "          Receive  \n",
       "count  131.000000  \n",
       "mean     1.684198  \n",
       "std      1.989939  \n",
       "min      0.000000  \n",
       "25%      0.000000  \n",
       "50%      0.330000  \n",
       "75%      3.385000  \n",
       "max      6.690000  "
      ]
     },
     "execution_count": 15,
     "metadata": {},
     "output_type": "execute_result"
    }
   ],
   "source": [
    "vnl['Block']=vnl['Block'].fillna(vnl['Block'].mean())\n",
    "vnl['Serve']=vnl['Serve'].fillna(vnl['Serve'].mean())\n",
    "vnl['Set']=vnl['Set'].fillna(vnl['Set'].mean())\n",
    "vnl['Dig']=vnl['Dig'].fillna(vnl['Dig'].mean())\n",
    "vnl['Age']=vnl['Age'].fillna(vnl['Age'].mean())\n",
    "\n",
    "vnl.describe()"
   ]
  },
  {
   "cell_type": "code",
   "execution_count": 16,
   "id": "dab029db",
   "metadata": {
    "_cell_guid": "567326b1-6568-438b-b98e-0174bdfba565",
    "_uuid": "90bdf6b2-2d39-4614-a8dd-f758ea153e83",
    "collapsed": false,
    "execution": {
     "iopub.execute_input": "2024-01-14T02:07:14.492826Z",
     "iopub.status.busy": "2024-01-14T02:07:14.492155Z",
     "iopub.status.idle": "2024-01-14T02:07:14.498420Z",
     "shell.execute_reply": "2024-01-14T02:07:14.497601Z"
    },
    "jupyter": {
     "outputs_hidden": false
    },
    "papermill": {
     "duration": 0.036288,
     "end_time": "2024-01-14T02:07:14.500673",
     "exception": false,
     "start_time": "2024-01-14T02:07:14.464385",
     "status": "completed"
    },
    "tags": []
   },
   "outputs": [],
   "source": [
    "vnl.drop([\"Player\"],axis=1,inplace=True)"
   ]
  },
  {
   "cell_type": "markdown",
   "id": "033c7dcd",
   "metadata": {
    "_cell_guid": "0f494be7-c9ca-45c5-8c97-b944e79d20f6",
    "_uuid": "d4fedca2-40b8-41bb-a675-0c549d7f6292",
    "papermill": {
     "duration": 0.025791,
     "end_time": "2024-01-14T02:07:14.552709",
     "exception": false,
     "start_time": "2024-01-14T02:07:14.526918",
     "status": "completed"
    },
    "tags": []
   },
   "source": [
    "# **Feature Engineering**"
   ]
  },
  {
   "cell_type": "markdown",
   "id": "afde46d8",
   "metadata": {
    "_cell_guid": "92836c12-a2a3-43e7-8711-e15fb17a4c54",
    "_uuid": "e261bce5-0be4-4a87-9946-bae9c88d2d2f",
    "papermill": {
     "duration": 0.0262,
     "end_time": "2024-01-14T02:07:14.606092",
     "exception": false,
     "start_time": "2024-01-14T02:07:14.579892",
     "status": "completed"
    },
    "tags": []
   },
   "source": [
    "# Encoding \n"
   ]
  },
  {
   "cell_type": "code",
   "execution_count": 17,
   "id": "1d53bc7f",
   "metadata": {
    "execution": {
     "iopub.execute_input": "2024-01-14T02:07:14.662827Z",
     "iopub.status.busy": "2024-01-14T02:07:14.662059Z",
     "iopub.status.idle": "2024-01-14T02:07:14.668683Z",
     "shell.execute_reply": "2024-01-14T02:07:14.667906Z"
    },
    "papermill": {
     "duration": 0.038629,
     "end_time": "2024-01-14T02:07:14.671112",
     "exception": false,
     "start_time": "2024-01-14T02:07:14.632483",
     "status": "completed"
    },
    "tags": []
   },
   "outputs": [],
   "source": [
    "pos=vnl['Position']\n",
    "vnl.drop([\"Position\"],axis=1,inplace=True)"
   ]
  },
  {
   "cell_type": "code",
   "execution_count": 18,
   "id": "a4a2c021",
   "metadata": {
    "_cell_guid": "5bc580c0-c978-40c8-a06f-173084d7dc1c",
    "_uuid": "8546c4e1-3a36-4141-92c8-d73063de59e3",
    "collapsed": false,
    "execution": {
     "iopub.execute_input": "2024-01-14T02:07:14.726201Z",
     "iopub.status.busy": "2024-01-14T02:07:14.725768Z",
     "iopub.status.idle": "2024-01-14T02:07:14.734338Z",
     "shell.execute_reply": "2024-01-14T02:07:14.733261Z"
    },
    "jupyter": {
     "outputs_hidden": false
    },
    "papermill": {
     "duration": 0.039019,
     "end_time": "2024-01-14T02:07:14.736783",
     "exception": false,
     "start_time": "2024-01-14T02:07:14.697764",
     "status": "completed"
    },
    "tags": []
   },
   "outputs": [
    {
     "data": {
      "text/plain": [
       "array([10,  9, 11,  5, 13, 14,  4,  1,  0, 15,  7,  3,  2, 12,  8,  6])"
      ]
     },
     "execution_count": 18,
     "metadata": {},
     "output_type": "execute_result"
    }
   ],
   "source": [
    "label_encoder = preprocessing.LabelEncoder() \n",
    "vnl['Country']= label_encoder.fit_transform(vnl['Country']) \n",
    "vnl['Country'].unique() \n"
   ]
  },
  {
   "cell_type": "code",
   "execution_count": 19,
   "id": "4ec66f8b",
   "metadata": {
    "execution": {
     "iopub.execute_input": "2024-01-14T02:07:14.793171Z",
     "iopub.status.busy": "2024-01-14T02:07:14.791973Z",
     "iopub.status.idle": "2024-01-14T02:07:14.814371Z",
     "shell.execute_reply": "2024-01-14T02:07:14.813545Z"
    },
    "papermill": {
     "duration": 0.052951,
     "end_time": "2024-01-14T02:07:14.816603",
     "exception": false,
     "start_time": "2024-01-14T02:07:14.763652",
     "status": "completed"
    },
    "tags": []
   },
   "outputs": [
    {
     "data": {
      "text/html": [
       "<div>\n",
       "<style scoped>\n",
       "    .dataframe tbody tr th:only-of-type {\n",
       "        vertical-align: middle;\n",
       "    }\n",
       "\n",
       "    .dataframe tbody tr th {\n",
       "        vertical-align: top;\n",
       "    }\n",
       "\n",
       "    .dataframe thead th {\n",
       "        text-align: right;\n",
       "    }\n",
       "</style>\n",
       "<table border=\"1\" class=\"dataframe\">\n",
       "  <thead>\n",
       "    <tr style=\"text-align: right;\">\n",
       "      <th></th>\n",
       "      <th>Country</th>\n",
       "      <th>Age</th>\n",
       "      <th>Attack</th>\n",
       "      <th>Block</th>\n",
       "      <th>Serve</th>\n",
       "      <th>Set</th>\n",
       "      <th>Dig</th>\n",
       "      <th>Receive</th>\n",
       "    </tr>\n",
       "  </thead>\n",
       "  <tbody>\n",
       "    <tr>\n",
       "      <th>Country</th>\n",
       "      <td>1.00</td>\n",
       "      <td>0.28</td>\n",
       "      <td>0.00</td>\n",
       "      <td>0.04</td>\n",
       "      <td>0.12</td>\n",
       "      <td>0.01</td>\n",
       "      <td>0.05</td>\n",
       "      <td>0.03</td>\n",
       "    </tr>\n",
       "    <tr>\n",
       "      <th>Age</th>\n",
       "      <td>0.28</td>\n",
       "      <td>1.00</td>\n",
       "      <td>-0.14</td>\n",
       "      <td>-0.15</td>\n",
       "      <td>-0.11</td>\n",
       "      <td>0.14</td>\n",
       "      <td>0.13</td>\n",
       "      <td>-0.02</td>\n",
       "    </tr>\n",
       "    <tr>\n",
       "      <th>Attack</th>\n",
       "      <td>0.00</td>\n",
       "      <td>-0.14</td>\n",
       "      <td>1.00</td>\n",
       "      <td>0.37</td>\n",
       "      <td>0.71</td>\n",
       "      <td>-0.20</td>\n",
       "      <td>0.07</td>\n",
       "      <td>0.17</td>\n",
       "    </tr>\n",
       "    <tr>\n",
       "      <th>Block</th>\n",
       "      <td>0.04</td>\n",
       "      <td>-0.15</td>\n",
       "      <td>0.37</td>\n",
       "      <td>1.00</td>\n",
       "      <td>0.42</td>\n",
       "      <td>-0.08</td>\n",
       "      <td>-0.29</td>\n",
       "      <td>-0.23</td>\n",
       "    </tr>\n",
       "    <tr>\n",
       "      <th>Serve</th>\n",
       "      <td>0.12</td>\n",
       "      <td>-0.11</td>\n",
       "      <td>0.71</td>\n",
       "      <td>0.42</td>\n",
       "      <td>1.00</td>\n",
       "      <td>0.04</td>\n",
       "      <td>0.12</td>\n",
       "      <td>0.10</td>\n",
       "    </tr>\n",
       "    <tr>\n",
       "      <th>Set</th>\n",
       "      <td>0.01</td>\n",
       "      <td>0.14</td>\n",
       "      <td>-0.20</td>\n",
       "      <td>-0.08</td>\n",
       "      <td>0.04</td>\n",
       "      <td>1.00</td>\n",
       "      <td>0.25</td>\n",
       "      <td>-0.09</td>\n",
       "    </tr>\n",
       "    <tr>\n",
       "      <th>Dig</th>\n",
       "      <td>0.05</td>\n",
       "      <td>0.13</td>\n",
       "      <td>0.07</td>\n",
       "      <td>-0.29</td>\n",
       "      <td>0.12</td>\n",
       "      <td>0.25</td>\n",
       "      <td>1.00</td>\n",
       "      <td>0.51</td>\n",
       "    </tr>\n",
       "    <tr>\n",
       "      <th>Receive</th>\n",
       "      <td>0.03</td>\n",
       "      <td>-0.02</td>\n",
       "      <td>0.17</td>\n",
       "      <td>-0.23</td>\n",
       "      <td>0.10</td>\n",
       "      <td>-0.09</td>\n",
       "      <td>0.51</td>\n",
       "      <td>1.00</td>\n",
       "    </tr>\n",
       "  </tbody>\n",
       "</table>\n",
       "</div>"
      ],
      "text/plain": [
       "         Country   Age  Attack  Block  Serve   Set   Dig  Receive\n",
       "Country     1.00  0.28    0.00   0.04   0.12  0.01  0.05     0.03\n",
       "Age         0.28  1.00   -0.14  -0.15  -0.11  0.14  0.13    -0.02\n",
       "Attack      0.00 -0.14    1.00   0.37   0.71 -0.20  0.07     0.17\n",
       "Block       0.04 -0.15    0.37   1.00   0.42 -0.08 -0.29    -0.23\n",
       "Serve       0.12 -0.11    0.71   0.42   1.00  0.04  0.12     0.10\n",
       "Set         0.01  0.14   -0.20  -0.08   0.04  1.00  0.25    -0.09\n",
       "Dig         0.05  0.13    0.07  -0.29   0.12  0.25  1.00     0.51\n",
       "Receive     0.03 -0.02    0.17  -0.23   0.10 -0.09  0.51     1.00"
      ]
     },
     "execution_count": 19,
     "metadata": {},
     "output_type": "execute_result"
    }
   ],
   "source": [
    "R=vnl.corr()\n",
    "round(R,2)"
   ]
  },
  {
   "cell_type": "code",
   "execution_count": 20,
   "id": "67f6085c",
   "metadata": {
    "execution": {
     "iopub.execute_input": "2024-01-14T02:07:14.873606Z",
     "iopub.status.busy": "2024-01-14T02:07:14.872862Z",
     "iopub.status.idle": "2024-01-14T02:07:15.688448Z",
     "shell.execute_reply": "2024-01-14T02:07:15.687211Z"
    },
    "papermill": {
     "duration": 0.846854,
     "end_time": "2024-01-14T02:07:15.691320",
     "exception": false,
     "start_time": "2024-01-14T02:07:14.844466",
     "status": "completed"
    },
    "tags": []
   },
   "outputs": [
    {
     "data": {
      "image/png": "[encoded data removed]",
      "text/plain": [
       "<Figure size 1600x600 with 2 Axes>"
      ]
     },
     "metadata": {},
     "output_type": "display_data"
    }
   ],
   "source": [
    "plt.figure(figsize=(16, 6))\n",
    "heatmap = sns.heatmap(R, vmin=-1, vmax=1, annot=True)\n",
    "heatmap.set_title('Correlation Heatmap', fontdict={'fontsize':12}, pad=12);"
   ]
  },
  {
   "cell_type": "code",
   "execution_count": 21,
   "id": "a510835e",
   "metadata": {
    "execution": {
     "iopub.execute_input": "2024-01-14T02:07:15.758229Z",
     "iopub.status.busy": "2024-01-14T02:07:15.757040Z",
     "iopub.status.idle": "2024-01-14T02:07:15.767935Z",
     "shell.execute_reply": "2024-01-14T02:07:15.766143Z"
    },
    "papermill": {
     "duration": 0.051946,
     "end_time": "2024-01-14T02:07:15.771916",
     "exception": false,
     "start_time": "2024-01-14T02:07:15.719970",
     "status": "completed"
    },
    "tags": []
   },
   "outputs": [],
   "source": [
    "X_train,X_test,y_train,y_test=train_test_split(vnl,pos, test_size=0.2,random_state=0)\n"
   ]
  },
  {
   "cell_type": "code",
   "execution_count": 22,
   "id": "fc8482af",
   "metadata": {
    "execution": {
     "iopub.execute_input": "2024-01-14T02:07:15.833239Z",
     "iopub.status.busy": "2024-01-14T02:07:15.832463Z",
     "iopub.status.idle": "2024-01-14T02:07:15.840368Z",
     "shell.execute_reply": "2024-01-14T02:07:15.839350Z"
    },
    "papermill": {
     "duration": 0.03935,
     "end_time": "2024-01-14T02:07:15.842386",
     "exception": false,
     "start_time": "2024-01-14T02:07:15.803036",
     "status": "completed"
    },
    "tags": []
   },
   "outputs": [
    {
     "data": {
      "text/plain": [
       "(104, 8)"
      ]
     },
     "execution_count": 22,
     "metadata": {},
     "output_type": "execute_result"
    },
    {
     "data": {
      "text/plain": [
       "(27, 8)"
      ]
     },
     "execution_count": 22,
     "metadata": {},
     "output_type": "execute_result"
    }
   ],
   "source": [
    "X_train.shape\n",
    "X_test.shape"
   ]
  },
  {
   "cell_type": "code",
   "execution_count": 23,
   "id": "c31bf9a0",
   "metadata": {
    "execution": {
     "iopub.execute_input": "2024-01-14T02:07:15.901121Z",
     "iopub.status.busy": "2024-01-14T02:07:15.900429Z",
     "iopub.status.idle": "2024-01-14T02:07:15.912463Z",
     "shell.execute_reply": "2024-01-14T02:07:15.911644Z"
    },
    "papermill": {
     "duration": 0.044175,
     "end_time": "2024-01-14T02:07:15.914705",
     "exception": false,
     "start_time": "2024-01-14T02:07:15.870530",
     "status": "completed"
    },
    "tags": []
   },
   "outputs": [
    {
     "data": {
      "text/plain": [
       "(27, 5)"
      ]
     },
     "execution_count": 23,
     "metadata": {},
     "output_type": "execute_result"
    }
   ],
   "source": [
    "label_binarizer = LabelBinarizer().fit(y_train)\n",
    "y_onehot_test = label_binarizer.transform(y_test)\n",
    "y_onehot_test.shape  # (n_samples, n_classes)"
   ]
  },
  {
   "cell_type": "markdown",
   "id": "5954afa4",
   "metadata": {
    "_cell_guid": "e70cdb6e-bb5c-46e7-9648-4e73da7a9082",
    "_uuid": "819bacb0-5701-4118-8fce-e1222ccd6a3a",
    "papermill": {
     "duration": 0.028228,
     "end_time": "2024-01-14T02:07:15.971209",
     "exception": false,
     "start_time": "2024-01-14T02:07:15.942981",
     "status": "completed"
    },
    "tags": []
   },
   "source": [
    "# Robust Scaler"
   ]
  },
  {
   "cell_type": "code",
   "execution_count": 24,
   "id": "a41e3014",
   "metadata": {
    "_cell_guid": "72e6b1c7-f940-4e63-aaaf-074c4fe51108",
    "_uuid": "60440684-c084-4b17-bc21-4b0edc6fd5a9",
    "collapsed": false,
    "execution": {
     "iopub.execute_input": "2024-01-14T02:07:16.030246Z",
     "iopub.status.busy": "2024-01-14T02:07:16.029481Z",
     "iopub.status.idle": "2024-01-14T02:07:16.042806Z",
     "shell.execute_reply": "2024-01-14T02:07:16.041421Z"
    },
    "jupyter": {
     "outputs_hidden": false
    },
    "papermill": {
     "duration": 0.046063,
     "end_time": "2024-01-14T02:07:16.045663",
     "exception": false,
     "start_time": "2024-01-14T02:07:15.999600",
     "status": "completed"
    },
    "tags": []
   },
   "outputs": [],
   "source": [
    "scaler = RobustScaler()\n",
    "X_trains = scaler.fit_transform(X_train)\n",
    "X_tests = scaler.transform(X_test)\n"
   ]
  },
  {
   "cell_type": "markdown",
   "id": "21642cb0",
   "metadata": {
    "papermill": {
     "duration": 0.027908,
     "end_time": "2024-01-14T02:07:16.102046",
     "exception": false,
     "start_time": "2024-01-14T02:07:16.074138",
     "status": "completed"
    },
    "tags": []
   },
   "source": [
    "# Principal Component Analysis"
   ]
  },
  {
   "cell_type": "code",
   "execution_count": 25,
   "id": "6026f5c1",
   "metadata": {
    "_cell_guid": "df0f5cb6-6acc-459f-aac7-f9b572865360",
    "_uuid": "d2ccd24b-c86e-4de0-ba47-c665ddd746cd",
    "collapsed": false,
    "execution": {
     "iopub.execute_input": "2024-01-14T02:07:16.161241Z",
     "iopub.status.busy": "2024-01-14T02:07:16.160441Z",
     "iopub.status.idle": "2024-01-14T02:07:16.178542Z",
     "shell.execute_reply": "2024-01-14T02:07:16.177660Z"
    },
    "jupyter": {
     "outputs_hidden": false
    },
    "papermill": {
     "duration": 0.050663,
     "end_time": "2024-01-14T02:07:16.181049",
     "exception": false,
     "start_time": "2024-01-14T02:07:16.130386",
     "status": "completed"
    },
    "tags": []
   },
   "outputs": [
    {
     "name": "stdout",
     "output_type": "stream",
     "text": [
      "0.9788401601537009\n"
     ]
    }
   ],
   "source": [
    "pca = PCA(n_components=7)  \n",
    "X_PCA  = pca.fit_transform(X_trains)  \n",
    "explained_variance = pca.explained_variance_ratio_ \n",
    "\n",
    "print(sum(pca.explained_variance_ratio_)) "
   ]
  },
  {
   "cell_type": "code",
   "execution_count": 26,
   "id": "13983419",
   "metadata": {
    "_cell_guid": "64499680-b9df-4215-94e1-c9c07b2a09e2",
    "_uuid": "9248d97c-fe6e-467c-a3c4-ec475685d68f",
    "collapsed": false,
    "execution": {
     "iopub.execute_input": "2024-01-14T02:07:16.240257Z",
     "iopub.status.busy": "2024-01-14T02:07:16.239178Z",
     "iopub.status.idle": "2024-01-14T02:07:16.659439Z",
     "shell.execute_reply": "2024-01-14T02:07:16.657789Z"
    },
    "jupyter": {
     "outputs_hidden": false
    },
    "papermill": {
     "duration": 0.453567,
     "end_time": "2024-01-14T02:07:16.663167",
     "exception": false,
     "start_time": "2024-01-14T02:07:16.209600",
     "status": "completed"
    },
    "tags": []
   },
   "outputs": [
    {
     "data": {
      "text/html": [
       "<style>#sk-container-id-1 {color: black;background-color: white;}#sk-container-id-1 pre{padding: 0;}#sk-container-id-1 div.sk-toggleable {background-color: white;}#sk-container-id-1 label.sk-toggleable__label {cursor: pointer;display: block;width: 100%;margin-bottom: 0;padding: 0.3em;box-sizing: border-box;text-align: center;}#sk-container-id-1 label.sk-toggleable__label-arrow:before {content: \"▸\";float: left;margin-right: 0.25em;color: #696969;}#sk-container-id-1 label.sk-toggleable__label-arrow:hover:before {color: black;}#sk-container-id-1 div.sk-estimator:hover label.sk-toggleable__label-arrow:before {color: black;}#sk-container-id-1 div.sk-toggleable__content {max-height: 0;max-width: 0;overflow: hidden;text-align: left;background-color: #f0f8ff;}#sk-container-id-1 div.sk-toggleable__content pre {margin: 0.2em;color: black;border-radius: 0.25em;background-color: #f0f8ff;}#sk-container-id-1 input.sk-toggleable__control:checked~div.sk-toggleable__content {max-height: 200px;max-width: 100%;overflow: auto;}#sk-container-id-1 input.sk-toggleable__control:checked~label.sk-toggleable__label-arrow:before {content: \"▾\";}#sk-container-id-1 div.sk-estimator input.sk-toggleable__control:checked~label.sk-toggleable__label {background-color: #d4ebff;}#sk-container-id-1 div.sk-label input.sk-toggleable__control:checked~label.sk-toggleable__label {background-color: #d4ebff;}#sk-container-id-1 input.sk-hidden--visually {border: 0;clip: rect(1px 1px 1px 1px);clip: rect(1px, 1px, 1px, 1px);height: 1px;margin: -1px;overflow: hidden;padding: 0;position: absolute;width: 1px;}#sk-container-id-1 div.sk-estimator {font-family: monospace;background-color: #f0f8ff;border: 1px dotted black;border-radius: 0.25em;box-sizing: border-box;margin-bottom: 0.5em;}#sk-container-id-1 div.sk-estimator:hover {background-color: #d4ebff;}#sk-container-id-1 div.sk-parallel-item::after {content: \"\";width: 100%;border-bottom: 1px solid gray;flex-grow: 1;}#sk-container-id-1 div.sk-label:hover label.sk-toggleable__label {background-color: #d4ebff;}#sk-container-id-1 div.sk-serial::before {content: \"\";position: absolute;border-left: 1px solid gray;box-sizing: border-box;top: 0;bottom: 0;left: 50%;z-index: 0;}#sk-container-id-1 div.sk-serial {display: flex;flex-direction: column;align-items: center;background-color: white;padding-right: 0.2em;padding-left: 0.2em;position: relative;}#sk-container-id-1 div.sk-item {position: relative;z-index: 1;}#sk-container-id-1 div.sk-parallel {display: flex;align-items: stretch;justify-content: center;background-color: white;position: relative;}#sk-container-id-1 div.sk-item::before, #sk-container-id-1 div.sk-parallel-item::before {content: \"\";position: absolute;border-left: 1px solid gray;box-sizing: border-box;top: 0;bottom: 0;left: 50%;z-index: -1;}#sk-container-id-1 div.sk-parallel-item {display: flex;flex-direction: column;z-index: 1;position: relative;background-color: white;}#sk-container-id-1 div.sk-parallel-item:first-child::after {align-self: flex-end;width: 50%;}#sk-container-id-1 div.sk-parallel-item:last-child::after {align-self: flex-start;width: 50%;}#sk-container-id-1 div.sk-parallel-item:only-child::after {width: 0;}#sk-container-id-1 div.sk-dashed-wrapped {border: 1px dashed gray;margin: 0 0.4em 0.5em 0.4em;box-sizing: border-box;padding-bottom: 0.4em;background-color: white;}#sk-container-id-1 div.sk-label label {font-family: monospace;font-weight: bold;display: inline-block;line-height: 1.2em;}#sk-container-id-1 div.sk-label-container {text-align: center;}#sk-container-id-1 div.sk-container {/* jupyter's `normalize.less` sets `[hidden] { display: none; }` but bootstrap.min.css set `[hidden] { display: none !important; }` so we also need the `!important` here to be able to override the default hidden behavior on the sphinx rendered scikit-learn.org. See: https://github.com/scikit-learn/scikit-learn/issues/21755 */display: inline-block !important;position: relative;}#sk-container-id-1 div.sk-text-repr-fallback {display: none;}</style><div id=\"sk-container-id-1\" class=\"sk-top-container\"><div class=\"sk-text-repr-fallback\"><pre>PCA(n_components=0)</pre><b>In a Jupyter environment, please rerun this cell to show the HTML representation or trust the notebook. <br />On GitHub, the HTML representation is unable to render, please try loading this page with nbviewer.org.</b></div><div class=\"sk-container\" hidden><div class=\"sk-item\"><div class=\"sk-estimator sk-toggleable\"><input class=\"sk-toggleable__control sk-hidden--visually\" id=\"sk-estimator-id-1\" type=\"checkbox\" checked><label for=\"sk-estimator-id-1\" class=\"sk-toggleable__label sk-toggleable__label-arrow\">PCA</label><div class=\"sk-toggleable__content\"><pre>PCA(n_components=0)</pre></div></div></div></div></div>"
      ],
      "text/plain": [
       "PCA(n_components=0)"
      ]
     },
     "execution_count": 26,
     "metadata": {},
     "output_type": "execute_result"
    },
    {
     "data": {
      "text/html": [
       "<style>#sk-container-id-2 {color: black;background-color: white;}#sk-container-id-2 pre{padding: 0;}#sk-container-id-2 div.sk-toggleable {background-color: white;}#sk-container-id-2 label.sk-toggleable__label {cursor: pointer;display: block;width: 100%;margin-bottom: 0;padding: 0.3em;box-sizing: border-box;text-align: center;}#sk-container-id-2 label.sk-toggleable__label-arrow:before {content: \"▸\";float: left;margin-right: 0.25em;color: #696969;}#sk-container-id-2 label.sk-toggleable__label-arrow:hover:before {color: black;}#sk-container-id-2 div.sk-estimator:hover label.sk-toggleable__label-arrow:before {color: black;}#sk-container-id-2 div.sk-toggleable__content {max-height: 0;max-width: 0;overflow: hidden;text-align: left;background-color: #f0f8ff;}#sk-container-id-2 div.sk-toggleable__content pre {margin: 0.2em;color: black;border-radius: 0.25em;background-color: #f0f8ff;}#sk-container-id-2 input.sk-toggleable__control:checked~div.sk-toggleable__content {max-height: 200px;max-width: 100%;overflow: auto;}#sk-container-id-2 input.sk-toggleable__control:checked~label.sk-toggleable__label-arrow:before {content: \"▾\";}#sk-container-id-2 div.sk-estimator input.sk-toggleable__control:checked~label.sk-toggleable__label {background-color: #d4ebff;}#sk-container-id-2 div.sk-label input.sk-toggleable__control:checked~label.sk-toggleable__label {background-color: #d4ebff;}#sk-container-id-2 input.sk-hidden--visually {border: 0;clip: rect(1px 1px 1px 1px);clip: rect(1px, 1px, 1px, 1px);height: 1px;margin: -1px;overflow: hidden;padding: 0;position: absolute;width: 1px;}#sk-container-id-2 div.sk-estimator {font-family: monospace;background-color: #f0f8ff;border: 1px dotted black;border-radius: 0.25em;box-sizing: border-box;margin-bottom: 0.5em;}#sk-container-id-2 div.sk-estimator:hover {background-color: #d4ebff;}#sk-container-id-2 div.sk-parallel-item::after {content: \"\";width: 100%;border-bottom: 1px solid gray;flex-grow: 1;}#sk-container-id-2 div.sk-label:hover label.sk-toggleable__label {background-color: #d4ebff;}#sk-container-id-2 div.sk-serial::before {content: \"\";position: absolute;border-left: 1px solid gray;box-sizing: border-box;top: 0;bottom: 0;left: 50%;z-index: 0;}#sk-container-id-2 div.sk-serial {display: flex;flex-direction: column;align-items: center;background-color: white;padding-right: 0.2em;padding-left: 0.2em;position: relative;}#sk-container-id-2 div.sk-item {position: relative;z-index: 1;}#sk-container-id-2 div.sk-parallel {display: flex;align-items: stretch;justify-content: center;background-color: white;position: relative;}#sk-container-id-2 div.sk-item::before, #sk-container-id-2 div.sk-parallel-item::before {content: \"\";position: absolute;border-left: 1px solid gray;box-sizing: border-box;top: 0;bottom: 0;left: 50%;z-index: -1;}#sk-container-id-2 div.sk-parallel-item {display: flex;flex-direction: column;z-index: 1;position: relative;background-color: white;}#sk-container-id-2 div.sk-parallel-item:first-child::after {align-self: flex-end;width: 50%;}#sk-container-id-2 div.sk-parallel-item:last-child::after {align-self: flex-start;width: 50%;}#sk-container-id-2 div.sk-parallel-item:only-child::after {width: 0;}#sk-container-id-2 div.sk-dashed-wrapped {border: 1px dashed gray;margin: 0 0.4em 0.5em 0.4em;box-sizing: border-box;padding-bottom: 0.4em;background-color: white;}#sk-container-id-2 div.sk-label label {font-family: monospace;font-weight: bold;display: inline-block;line-height: 1.2em;}#sk-container-id-2 div.sk-label-container {text-align: center;}#sk-container-id-2 div.sk-container {/* jupyter's `normalize.less` sets `[hidden] { display: none; }` but bootstrap.min.css set `[hidden] { display: none !important; }` so we also need the `!important` here to be able to override the default hidden behavior on the sphinx rendered scikit-learn.org. See: https://github.com/scikit-learn/scikit-learn/issues/21755 */display: inline-block !important;position: relative;}#sk-container-id-2 div.sk-text-repr-fallback {display: none;}</style><div id=\"sk-container-id-2\" class=\"sk-top-container\"><div class=\"sk-text-repr-fallback\"><pre>PCA(n_components=1)</pre><b>In a Jupyter environment, please rerun this cell to show the HTML representation or trust the notebook. <br />On GitHub, the HTML representation is unable to render, please try loading this page with nbviewer.org.</b></div><div class=\"sk-container\" hidden><div class=\"sk-item\"><div class=\"sk-estimator sk-toggleable\"><input class=\"sk-toggleable__control sk-hidden--visually\" id=\"sk-estimator-id-2\" type=\"checkbox\" checked><label for=\"sk-estimator-id-2\" class=\"sk-toggleable__label sk-toggleable__label-arrow\">PCA</label><div class=\"sk-toggleable__content\"><pre>PCA(n_components=1)</pre></div></div></div></div></div>"
      ],
      "text/plain": [
       "PCA(n_components=1)"
      ]
     },
     "execution_count": 26,
     "metadata": {},
     "output_type": "execute_result"
    },
    {
     "data": {
      "text/html": [
       "<style>#sk-container-id-3 {color: black;background-color: white;}#sk-container-id-3 pre{padding: 0;}#sk-container-id-3 div.sk-toggleable {background-color: white;}#sk-container-id-3 label.sk-toggleable__label {cursor: pointer;display: block;width: 100%;margin-bottom: 0;padding: 0.3em;box-sizing: border-box;text-align: center;}#sk-container-id-3 label.sk-toggleable__label-arrow:before {content: \"▸\";float: left;margin-right: 0.25em;color: #696969;}#sk-container-id-3 label.sk-toggleable__label-arrow:hover:before {color: black;}#sk-container-id-3 div.sk-estimator:hover label.sk-toggleable__label-arrow:before {color: black;}#sk-container-id-3 div.sk-toggleable__content {max-height: 0;max-width: 0;overflow: hidden;text-align: left;background-color: #f0f8ff;}#sk-container-id-3 div.sk-toggleable__content pre {margin: 0.2em;color: black;border-radius: 0.25em;background-color: #f0f8ff;}#sk-container-id-3 input.sk-toggleable__control:checked~div.sk-toggleable__content {max-height: 200px;max-width: 100%;overflow: auto;}#sk-container-id-3 input.sk-toggleable__control:checked~label.sk-toggleable__label-arrow:before {content: \"▾\";}#sk-container-id-3 div.sk-estimator input.sk-toggleable__control:checked~label.sk-toggleable__label {background-color: #d4ebff;}#sk-container-id-3 div.sk-label input.sk-toggleable__control:checked~label.sk-toggleable__label {background-color: #d4ebff;}#sk-container-id-3 input.sk-hidden--visually {border: 0;clip: rect(1px 1px 1px 1px);clip: rect(1px, 1px, 1px, 1px);height: 1px;margin: -1px;overflow: hidden;padding: 0;position: absolute;width: 1px;}#sk-container-id-3 div.sk-estimator {font-family: monospace;background-color: #f0f8ff;border: 1px dotted black;border-radius: 0.25em;box-sizing: border-box;margin-bottom: 0.5em;}#sk-container-id-3 div.sk-estimator:hover {background-color: #d4ebff;}#sk-container-id-3 div.sk-parallel-item::after {content: \"\";width: 100%;border-bottom: 1px solid gray;flex-grow: 1;}#sk-container-id-3 div.sk-label:hover label.sk-toggleable__label {background-color: #d4ebff;}#sk-container-id-3 div.sk-serial::before {content: \"\";position: absolute;border-left: 1px solid gray;box-sizing: border-box;top: 0;bottom: 0;left: 50%;z-index: 0;}#sk-container-id-3 div.sk-serial {display: flex;flex-direction: column;align-items: center;background-color: white;padding-right: 0.2em;padding-left: 0.2em;position: relative;}#sk-container-id-3 div.sk-item {position: relative;z-index: 1;}#sk-container-id-3 div.sk-parallel {display: flex;align-items: stretch;justify-content: center;background-color: white;position: relative;}#sk-container-id-3 div.sk-item::before, #sk-container-id-3 div.sk-parallel-item::before {content: \"\";position: absolute;border-left: 1px solid gray;box-sizing: border-box;top: 0;bottom: 0;left: 50%;z-index: -1;}#sk-container-id-3 div.sk-parallel-item {display: flex;flex-direction: column;z-index: 1;position: relative;background-color: white;}#sk-container-id-3 div.sk-parallel-item:first-child::after {align-self: flex-end;width: 50%;}#sk-container-id-3 div.sk-parallel-item:last-child::after {align-self: flex-start;width: 50%;}#sk-container-id-3 div.sk-parallel-item:only-child::after {width: 0;}#sk-container-id-3 div.sk-dashed-wrapped {border: 1px dashed gray;margin: 0 0.4em 0.5em 0.4em;box-sizing: border-box;padding-bottom: 0.4em;background-color: white;}#sk-container-id-3 div.sk-label label {font-family: monospace;font-weight: bold;display: inline-block;line-height: 1.2em;}#sk-container-id-3 div.sk-label-container {text-align: center;}#sk-container-id-3 div.sk-container {/* jupyter's `normalize.less` sets `[hidden] { display: none; }` but bootstrap.min.css set `[hidden] { display: none !important; }` so we also need the `!important` here to be able to override the default hidden behavior on the sphinx rendered scikit-learn.org. See: https://github.com/scikit-learn/scikit-learn/issues/21755 */display: inline-block !important;position: relative;}#sk-container-id-3 div.sk-text-repr-fallback {display: none;}</style><div id=\"sk-container-id-3\" class=\"sk-top-container\"><div class=\"sk-text-repr-fallback\"><pre>PCA(n_components=2)</pre><b>In a Jupyter environment, please rerun this cell to show the HTML representation or trust the notebook. <br />On GitHub, the HTML representation is unable to render, please try loading this page with nbviewer.org.</b></div><div class=\"sk-container\" hidden><div class=\"sk-item\"><div class=\"sk-estimator sk-toggleable\"><input class=\"sk-toggleable__control sk-hidden--visually\" id=\"sk-estimator-id-3\" type=\"checkbox\" checked><label for=\"sk-estimator-id-3\" class=\"sk-toggleable__label sk-toggleable__label-arrow\">PCA</label><div class=\"sk-toggleable__content\"><pre>PCA(n_components=2)</pre></div></div></div></div></div>"
      ],
      "text/plain": [
       "PCA(n_components=2)"
      ]
     },
     "execution_count": 26,
     "metadata": {},
     "output_type": "execute_result"
    },
    {
     "data": {
      "text/html": [
       "<style>#sk-container-id-4 {color: black;background-color: white;}#sk-container-id-4 pre{padding: 0;}#sk-container-id-4 div.sk-toggleable {background-color: white;}#sk-container-id-4 label.sk-toggleable__label {cursor: pointer;display: block;width: 100%;margin-bottom: 0;padding: 0.3em;box-sizing: border-box;text-align: center;}#sk-container-id-4 label.sk-toggleable__label-arrow:before {content: \"▸\";float: left;margin-right: 0.25em;color: #696969;}#sk-container-id-4 label.sk-toggleable__label-arrow:hover:before {color: black;}#sk-container-id-4 div.sk-estimator:hover label.sk-toggleable__label-arrow:before {color: black;}#sk-container-id-4 div.sk-toggleable__content {max-height: 0;max-width: 0;overflow: hidden;text-align: left;background-color: #f0f8ff;}#sk-container-id-4 div.sk-toggleable__content pre {margin: 0.2em;color: black;border-radius: 0.25em;background-color: #f0f8ff;}#sk-container-id-4 input.sk-toggleable__control:checked~div.sk-toggleable__content {max-height: 200px;max-width: 100%;overflow: auto;}#sk-container-id-4 input.sk-toggleable__control:checked~label.sk-toggleable__label-arrow:before {content: \"▾\";}#sk-container-id-4 div.sk-estimator input.sk-toggleable__control:checked~label.sk-toggleable__label {background-color: #d4ebff;}#sk-container-id-4 div.sk-label input.sk-toggleable__control:checked~label.sk-toggleable__label {background-color: #d4ebff;}#sk-container-id-4 input.sk-hidden--visually {border: 0;clip: rect(1px 1px 1px 1px);clip: rect(1px, 1px, 1px, 1px);height: 1px;margin: -1px;overflow: hidden;padding: 0;position: absolute;width: 1px;}#sk-container-id-4 div.sk-estimator {font-family: monospace;background-color: #f0f8ff;border: 1px dotted black;border-radius: 0.25em;box-sizing: border-box;margin-bottom: 0.5em;}#sk-container-id-4 div.sk-estimator:hover {background-color: #d4ebff;}#sk-container-id-4 div.sk-parallel-item::after {content: \"\";width: 100%;border-bottom: 1px solid gray;flex-grow: 1;}#sk-container-id-4 div.sk-label:hover label.sk-toggleable__label {background-color: #d4ebff;}#sk-container-id-4 div.sk-serial::before {content: \"\";position: absolute;border-left: 1px solid gray;box-sizing: border-box;top: 0;bottom: 0;left: 50%;z-index: 0;}#sk-container-id-4 div.sk-serial {display: flex;flex-direction: column;align-items: center;background-color: white;padding-right: 0.2em;padding-left: 0.2em;position: relative;}#sk-container-id-4 div.sk-item {position: relative;z-index: 1;}#sk-container-id-4 div.sk-parallel {display: flex;align-items: stretch;justify-content: center;background-color: white;position: relative;}#sk-container-id-4 div.sk-item::before, #sk-container-id-4 div.sk-parallel-item::before {content: \"\";position: absolute;border-left: 1px solid gray;box-sizing: border-box;top: 0;bottom: 0;left: 50%;z-index: -1;}#sk-container-id-4 div.sk-parallel-item {display: flex;flex-direction: column;z-index: 1;position: relative;background-color: white;}#sk-container-id-4 div.sk-parallel-item:first-child::after {align-self: flex-end;width: 50%;}#sk-container-id-4 div.sk-parallel-item:last-child::after {align-self: flex-start;width: 50%;}#sk-container-id-4 div.sk-parallel-item:only-child::after {width: 0;}#sk-container-id-4 div.sk-dashed-wrapped {border: 1px dashed gray;margin: 0 0.4em 0.5em 0.4em;box-sizing: border-box;padding-bottom: 0.4em;background-color: white;}#sk-container-id-4 div.sk-label label {font-family: monospace;font-weight: bold;display: inline-block;line-height: 1.2em;}#sk-container-id-4 div.sk-label-container {text-align: center;}#sk-container-id-4 div.sk-container {/* jupyter's `normalize.less` sets `[hidden] { display: none; }` but bootstrap.min.css set `[hidden] { display: none !important; }` so we also need the `!important` here to be able to override the default hidden behavior on the sphinx rendered scikit-learn.org. See: https://github.com/scikit-learn/scikit-learn/issues/21755 */display: inline-block !important;position: relative;}#sk-container-id-4 div.sk-text-repr-fallback {display: none;}</style><div id=\"sk-container-id-4\" class=\"sk-top-container\"><div class=\"sk-text-repr-fallback\"><pre>PCA(n_components=3)</pre><b>In a Jupyter environment, please rerun this cell to show the HTML representation or trust the notebook. <br />On GitHub, the HTML representation is unable to render, please try loading this page with nbviewer.org.</b></div><div class=\"sk-container\" hidden><div class=\"sk-item\"><div class=\"sk-estimator sk-toggleable\"><input class=\"sk-toggleable__control sk-hidden--visually\" id=\"sk-estimator-id-4\" type=\"checkbox\" checked><label for=\"sk-estimator-id-4\" class=\"sk-toggleable__label sk-toggleable__label-arrow\">PCA</label><div class=\"sk-toggleable__content\"><pre>PCA(n_components=3)</pre></div></div></div></div></div>"
      ],
      "text/plain": [
       "PCA(n_components=3)"
      ]
     },
     "execution_count": 26,
     "metadata": {},
     "output_type": "execute_result"
    },
    {
     "data": {
      "text/html": [
       "<style>#sk-container-id-5 {color: black;background-color: white;}#sk-container-id-5 pre{padding: 0;}#sk-container-id-5 div.sk-toggleable {background-color: white;}#sk-container-id-5 label.sk-toggleable__label {cursor: pointer;display: block;width: 100%;margin-bottom: 0;padding: 0.3em;box-sizing: border-box;text-align: center;}#sk-container-id-5 label.sk-toggleable__label-arrow:before {content: \"▸\";float: left;margin-right: 0.25em;color: #696969;}#sk-container-id-5 label.sk-toggleable__label-arrow:hover:before {color: black;}#sk-container-id-5 div.sk-estimator:hover label.sk-toggleable__label-arrow:before {color: black;}#sk-container-id-5 div.sk-toggleable__content {max-height: 0;max-width: 0;overflow: hidden;text-align: left;background-color: #f0f8ff;}#sk-container-id-5 div.sk-toggleable__content pre {margin: 0.2em;color: black;border-radius: 0.25em;background-color: #f0f8ff;}#sk-container-id-5 input.sk-toggleable__control:checked~div.sk-toggleable__content {max-height: 200px;max-width: 100%;overflow: auto;}#sk-container-id-5 input.sk-toggleable__control:checked~label.sk-toggleable__label-arrow:before {content: \"▾\";}#sk-container-id-5 div.sk-estimator input.sk-toggleable__control:checked~label.sk-toggleable__label {background-color: #d4ebff;}#sk-container-id-5 div.sk-label input.sk-toggleable__control:checked~label.sk-toggleable__label {background-color: #d4ebff;}#sk-container-id-5 input.sk-hidden--visually {border: 0;clip: rect(1px 1px 1px 1px);clip: rect(1px, 1px, 1px, 1px);height: 1px;margin: -1px;overflow: hidden;padding: 0;position: absolute;width: 1px;}#sk-container-id-5 div.sk-estimator {font-family: monospace;background-color: #f0f8ff;border: 1px dotted black;border-radius: 0.25em;box-sizing: border-box;margin-bottom: 0.5em;}#sk-container-id-5 div.sk-estimator:hover {background-color: #d4ebff;}#sk-container-id-5 div.sk-parallel-item::after {content: \"\";width: 100%;border-bottom: 1px solid gray;flex-grow: 1;}#sk-container-id-5 div.sk-label:hover label.sk-toggleable__label {background-color: #d4ebff;}#sk-container-id-5 div.sk-serial::before {content: \"\";position: absolute;border-left: 1px solid gray;box-sizing: border-box;top: 0;bottom: 0;left: 50%;z-index: 0;}#sk-container-id-5 div.sk-serial {display: flex;flex-direction: column;align-items: center;background-color: white;padding-right: 0.2em;padding-left: 0.2em;position: relative;}#sk-container-id-5 div.sk-item {position: relative;z-index: 1;}#sk-container-id-5 div.sk-parallel {display: flex;align-items: stretch;justify-content: center;background-color: white;position: relative;}#sk-container-id-5 div.sk-item::before, #sk-container-id-5 div.sk-parallel-item::before {content: \"\";position: absolute;border-left: 1px solid gray;box-sizing: border-box;top: 0;bottom: 0;left: 50%;z-index: -1;}#sk-container-id-5 div.sk-parallel-item {display: flex;flex-direction: column;z-index: 1;position: relative;background-color: white;}#sk-container-id-5 div.sk-parallel-item:first-child::after {align-self: flex-end;width: 50%;}#sk-container-id-5 div.sk-parallel-item:last-child::after {align-self: flex-start;width: 50%;}#sk-container-id-5 div.sk-parallel-item:only-child::after {width: 0;}#sk-container-id-5 div.sk-dashed-wrapped {border: 1px dashed gray;margin: 0 0.4em 0.5em 0.4em;box-sizing: border-box;padding-bottom: 0.4em;background-color: white;}#sk-container-id-5 div.sk-label label {font-family: monospace;font-weight: bold;display: inline-block;line-height: 1.2em;}#sk-container-id-5 div.sk-label-container {text-align: center;}#sk-container-id-5 div.sk-container {/* jupyter's `normalize.less` sets `[hidden] { display: none; }` but bootstrap.min.css set `[hidden] { display: none !important; }` so we also need the `!important` here to be able to override the default hidden behavior on the sphinx rendered scikit-learn.org. See: https://github.com/scikit-learn/scikit-learn/issues/21755 */display: inline-block !important;position: relative;}#sk-container-id-5 div.sk-text-repr-fallback {display: none;}</style><div id=\"sk-container-id-5\" class=\"sk-top-container\"><div class=\"sk-text-repr-fallback\"><pre>PCA(n_components=4)</pre><b>In a Jupyter environment, please rerun this cell to show the HTML representation or trust the notebook. <br />On GitHub, the HTML representation is unable to render, please try loading this page with nbviewer.org.</b></div><div class=\"sk-container\" hidden><div class=\"sk-item\"><div class=\"sk-estimator sk-toggleable\"><input class=\"sk-toggleable__control sk-hidden--visually\" id=\"sk-estimator-id-5\" type=\"checkbox\" checked><label for=\"sk-estimator-id-5\" class=\"sk-toggleable__label sk-toggleable__label-arrow\">PCA</label><div class=\"sk-toggleable__content\"><pre>PCA(n_components=4)</pre></div></div></div></div></div>"
      ],
      "text/plain": [
       "PCA(n_components=4)"
      ]
     },
     "execution_count": 26,
     "metadata": {},
     "output_type": "execute_result"
    },
    {
     "data": {
      "text/html": [
       "<style>#sk-container-id-6 {color: black;background-color: white;}#sk-container-id-6 pre{padding: 0;}#sk-container-id-6 div.sk-toggleable {background-color: white;}#sk-container-id-6 label.sk-toggleable__label {cursor: pointer;display: block;width: 100%;margin-bottom: 0;padding: 0.3em;box-sizing: border-box;text-align: center;}#sk-container-id-6 label.sk-toggleable__label-arrow:before {content: \"▸\";float: left;margin-right: 0.25em;color: #696969;}#sk-container-id-6 label.sk-toggleable__label-arrow:hover:before {color: black;}#sk-container-id-6 div.sk-estimator:hover label.sk-toggleable__label-arrow:before {color: black;}#sk-container-id-6 div.sk-toggleable__content {max-height: 0;max-width: 0;overflow: hidden;text-align: left;background-color: #f0f8ff;}#sk-container-id-6 div.sk-toggleable__content pre {margin: 0.2em;color: black;border-radius: 0.25em;background-color: #f0f8ff;}#sk-container-id-6 input.sk-toggleable__control:checked~div.sk-toggleable__content {max-height: 200px;max-width: 100%;overflow: auto;}#sk-container-id-6 input.sk-toggleable__control:checked~label.sk-toggleable__label-arrow:before {content: \"▾\";}#sk-container-id-6 div.sk-estimator input.sk-toggleable__control:checked~label.sk-toggleable__label {background-color: #d4ebff;}#sk-container-id-6 div.sk-label input.sk-toggleable__control:checked~label.sk-toggleable__label {background-color: #d4ebff;}#sk-container-id-6 input.sk-hidden--visually {border: 0;clip: rect(1px 1px 1px 1px);clip: rect(1px, 1px, 1px, 1px);height: 1px;margin: -1px;overflow: hidden;padding: 0;position: absolute;width: 1px;}#sk-container-id-6 div.sk-estimator {font-family: monospace;background-color: #f0f8ff;border: 1px dotted black;border-radius: 0.25em;box-sizing: border-box;margin-bottom: 0.5em;}#sk-container-id-6 div.sk-estimator:hover {background-color: #d4ebff;}#sk-container-id-6 div.sk-parallel-item::after {content: \"\";width: 100%;border-bottom: 1px solid gray;flex-grow: 1;}#sk-container-id-6 div.sk-label:hover label.sk-toggleable__label {background-color: #d4ebff;}#sk-container-id-6 div.sk-serial::before {content: \"\";position: absolute;border-left: 1px solid gray;box-sizing: border-box;top: 0;bottom: 0;left: 50%;z-index: 0;}#sk-container-id-6 div.sk-serial {display: flex;flex-direction: column;align-items: center;background-color: white;padding-right: 0.2em;padding-left: 0.2em;position: relative;}#sk-container-id-6 div.sk-item {position: relative;z-index: 1;}#sk-container-id-6 div.sk-parallel {display: flex;align-items: stretch;justify-content: center;background-color: white;position: relative;}#sk-container-id-6 div.sk-item::before, #sk-container-id-6 div.sk-parallel-item::before {content: \"\";position: absolute;border-left: 1px solid gray;box-sizing: border-box;top: 0;bottom: 0;left: 50%;z-index: -1;}#sk-container-id-6 div.sk-parallel-item {display: flex;flex-direction: column;z-index: 1;position: relative;background-color: white;}#sk-container-id-6 div.sk-parallel-item:first-child::after {align-self: flex-end;width: 50%;}#sk-container-id-6 div.sk-parallel-item:last-child::after {align-self: flex-start;width: 50%;}#sk-container-id-6 div.sk-parallel-item:only-child::after {width: 0;}#sk-container-id-6 div.sk-dashed-wrapped {border: 1px dashed gray;margin: 0 0.4em 0.5em 0.4em;box-sizing: border-box;padding-bottom: 0.4em;background-color: white;}#sk-container-id-6 div.sk-label label {font-family: monospace;font-weight: bold;display: inline-block;line-height: 1.2em;}#sk-container-id-6 div.sk-label-container {text-align: center;}#sk-container-id-6 div.sk-container {/* jupyter's `normalize.less` sets `[hidden] { display: none; }` but bootstrap.min.css set `[hidden] { display: none !important; }` so we also need the `!important` here to be able to override the default hidden behavior on the sphinx rendered scikit-learn.org. See: https://github.com/scikit-learn/scikit-learn/issues/21755 */display: inline-block !important;position: relative;}#sk-container-id-6 div.sk-text-repr-fallback {display: none;}</style><div id=\"sk-container-id-6\" class=\"sk-top-container\"><div class=\"sk-text-repr-fallback\"><pre>PCA(n_components=5)</pre><b>In a Jupyter environment, please rerun this cell to show the HTML representation or trust the notebook. <br />On GitHub, the HTML representation is unable to render, please try loading this page with nbviewer.org.</b></div><div class=\"sk-container\" hidden><div class=\"sk-item\"><div class=\"sk-estimator sk-toggleable\"><input class=\"sk-toggleable__control sk-hidden--visually\" id=\"sk-estimator-id-6\" type=\"checkbox\" checked><label for=\"sk-estimator-id-6\" class=\"sk-toggleable__label sk-toggleable__label-arrow\">PCA</label><div class=\"sk-toggleable__content\"><pre>PCA(n_components=5)</pre></div></div></div></div></div>"
      ],
      "text/plain": [
       "PCA(n_components=5)"
      ]
     },
     "execution_count": 26,
     "metadata": {},
     "output_type": "execute_result"
    },
    {
     "data": {
      "text/html": [
       "<style>#sk-container-id-7 {color: black;background-color: white;}#sk-container-id-7 pre{padding: 0;}#sk-container-id-7 div.sk-toggleable {background-color: white;}#sk-container-id-7 label.sk-toggleable__label {cursor: pointer;display: block;width: 100%;margin-bottom: 0;padding: 0.3em;box-sizing: border-box;text-align: center;}#sk-container-id-7 label.sk-toggleable__label-arrow:before {content: \"▸\";float: left;margin-right: 0.25em;color: #696969;}#sk-container-id-7 label.sk-toggleable__label-arrow:hover:before {color: black;}#sk-container-id-7 div.sk-estimator:hover label.sk-toggleable__label-arrow:before {color: black;}#sk-container-id-7 div.sk-toggleable__content {max-height: 0;max-width: 0;overflow: hidden;text-align: left;background-color: #f0f8ff;}#sk-container-id-7 div.sk-toggleable__content pre {margin: 0.2em;color: black;border-radius: 0.25em;background-color: #f0f8ff;}#sk-container-id-7 input.sk-toggleable__control:checked~div.sk-toggleable__content {max-height: 200px;max-width: 100%;overflow: auto;}#sk-container-id-7 input.sk-toggleable__control:checked~label.sk-toggleable__label-arrow:before {content: \"▾\";}#sk-container-id-7 div.sk-estimator input.sk-toggleable__control:checked~label.sk-toggleable__label {background-color: #d4ebff;}#sk-container-id-7 div.sk-label input.sk-toggleable__control:checked~label.sk-toggleable__label {background-color: #d4ebff;}#sk-container-id-7 input.sk-hidden--visually {border: 0;clip: rect(1px 1px 1px 1px);clip: rect(1px, 1px, 1px, 1px);height: 1px;margin: -1px;overflow: hidden;padding: 0;position: absolute;width: 1px;}#sk-container-id-7 div.sk-estimator {font-family: monospace;background-color: #f0f8ff;border: 1px dotted black;border-radius: 0.25em;box-sizing: border-box;margin-bottom: 0.5em;}#sk-container-id-7 div.sk-estimator:hover {background-color: #d4ebff;}#sk-container-id-7 div.sk-parallel-item::after {content: \"\";width: 100%;border-bottom: 1px solid gray;flex-grow: 1;}#sk-container-id-7 div.sk-label:hover label.sk-toggleable__label {background-color: #d4ebff;}#sk-container-id-7 div.sk-serial::before {content: \"\";position: absolute;border-left: 1px solid gray;box-sizing: border-box;top: 0;bottom: 0;left: 50%;z-index: 0;}#sk-container-id-7 div.sk-serial {display: flex;flex-direction: column;align-items: center;background-color: white;padding-right: 0.2em;padding-left: 0.2em;position: relative;}#sk-container-id-7 div.sk-item {position: relative;z-index: 1;}#sk-container-id-7 div.sk-parallel {display: flex;align-items: stretch;justify-content: center;background-color: white;position: relative;}#sk-container-id-7 div.sk-item::before, #sk-container-id-7 div.sk-parallel-item::before {content: \"\";position: absolute;border-left: 1px solid gray;box-sizing: border-box;top: 0;bottom: 0;left: 50%;z-index: -1;}#sk-container-id-7 div.sk-parallel-item {display: flex;flex-direction: column;z-index: 1;position: relative;background-color: white;}#sk-container-id-7 div.sk-parallel-item:first-child::after {align-self: flex-end;width: 50%;}#sk-container-id-7 div.sk-parallel-item:last-child::after {align-self: flex-start;width: 50%;}#sk-container-id-7 div.sk-parallel-item:only-child::after {width: 0;}#sk-container-id-7 div.sk-dashed-wrapped {border: 1px dashed gray;margin: 0 0.4em 0.5em 0.4em;box-sizing: border-box;padding-bottom: 0.4em;background-color: white;}#sk-container-id-7 div.sk-label label {font-family: monospace;font-weight: bold;display: inline-block;line-height: 1.2em;}#sk-container-id-7 div.sk-label-container {text-align: center;}#sk-container-id-7 div.sk-container {/* jupyter's `normalize.less` sets `[hidden] { display: none; }` but bootstrap.min.css set `[hidden] { display: none !important; }` so we also need the `!important` here to be able to override the default hidden behavior on the sphinx rendered scikit-learn.org. See: https://github.com/scikit-learn/scikit-learn/issues/21755 */display: inline-block !important;position: relative;}#sk-container-id-7 div.sk-text-repr-fallback {display: none;}</style><div id=\"sk-container-id-7\" class=\"sk-top-container\"><div class=\"sk-text-repr-fallback\"><pre>PCA(n_components=6)</pre><b>In a Jupyter environment, please rerun this cell to show the HTML representation or trust the notebook. <br />On GitHub, the HTML representation is unable to render, please try loading this page with nbviewer.org.</b></div><div class=\"sk-container\" hidden><div class=\"sk-item\"><div class=\"sk-estimator sk-toggleable\"><input class=\"sk-toggleable__control sk-hidden--visually\" id=\"sk-estimator-id-7\" type=\"checkbox\" checked><label for=\"sk-estimator-id-7\" class=\"sk-toggleable__label sk-toggleable__label-arrow\">PCA</label><div class=\"sk-toggleable__content\"><pre>PCA(n_components=6)</pre></div></div></div></div></div>"
      ],
      "text/plain": [
       "PCA(n_components=6)"
      ]
     },
     "execution_count": 26,
     "metadata": {},
     "output_type": "execute_result"
    },
    {
     "data": {
      "text/html": [
       "<style>#sk-container-id-8 {color: black;background-color: white;}#sk-container-id-8 pre{padding: 0;}#sk-container-id-8 div.sk-toggleable {background-color: white;}#sk-container-id-8 label.sk-toggleable__label {cursor: pointer;display: block;width: 100%;margin-bottom: 0;padding: 0.3em;box-sizing: border-box;text-align: center;}#sk-container-id-8 label.sk-toggleable__label-arrow:before {content: \"▸\";float: left;margin-right: 0.25em;color: #696969;}#sk-container-id-8 label.sk-toggleable__label-arrow:hover:before {color: black;}#sk-container-id-8 div.sk-estimator:hover label.sk-toggleable__label-arrow:before {color: black;}#sk-container-id-8 div.sk-toggleable__content {max-height: 0;max-width: 0;overflow: hidden;text-align: left;background-color: #f0f8ff;}#sk-container-id-8 div.sk-toggleable__content pre {margin: 0.2em;color: black;border-radius: 0.25em;background-color: #f0f8ff;}#sk-container-id-8 input.sk-toggleable__control:checked~div.sk-toggleable__content {max-height: 200px;max-width: 100%;overflow: auto;}#sk-container-id-8 input.sk-toggleable__control:checked~label.sk-toggleable__label-arrow:before {content: \"▾\";}#sk-container-id-8 div.sk-estimator input.sk-toggleable__control:checked~label.sk-toggleable__label {background-color: #d4ebff;}#sk-container-id-8 div.sk-label input.sk-toggleable__control:checked~label.sk-toggleable__label {background-color: #d4ebff;}#sk-container-id-8 input.sk-hidden--visually {border: 0;clip: rect(1px 1px 1px 1px);clip: rect(1px, 1px, 1px, 1px);height: 1px;margin: -1px;overflow: hidden;padding: 0;position: absolute;width: 1px;}#sk-container-id-8 div.sk-estimator {font-family: monospace;background-color: #f0f8ff;border: 1px dotted black;border-radius: 0.25em;box-sizing: border-box;margin-bottom: 0.5em;}#sk-container-id-8 div.sk-estimator:hover {background-color: #d4ebff;}#sk-container-id-8 div.sk-parallel-item::after {content: \"\";width: 100%;border-bottom: 1px solid gray;flex-grow: 1;}#sk-container-id-8 div.sk-label:hover label.sk-toggleable__label {background-color: #d4ebff;}#sk-container-id-8 div.sk-serial::before {content: \"\";position: absolute;border-left: 1px solid gray;box-sizing: border-box;top: 0;bottom: 0;left: 50%;z-index: 0;}#sk-container-id-8 div.sk-serial {display: flex;flex-direction: column;align-items: center;background-color: white;padding-right: 0.2em;padding-left: 0.2em;position: relative;}#sk-container-id-8 div.sk-item {position: relative;z-index: 1;}#sk-container-id-8 div.sk-parallel {display: flex;align-items: stretch;justify-content: center;background-color: white;position: relative;}#sk-container-id-8 div.sk-item::before, #sk-container-id-8 div.sk-parallel-item::before {content: \"\";position: absolute;border-left: 1px solid gray;box-sizing: border-box;top: 0;bottom: 0;left: 50%;z-index: -1;}#sk-container-id-8 div.sk-parallel-item {display: flex;flex-direction: column;z-index: 1;position: relative;background-color: white;}#sk-container-id-8 div.sk-parallel-item:first-child::after {align-self: flex-end;width: 50%;}#sk-container-id-8 div.sk-parallel-item:last-child::after {align-self: flex-start;width: 50%;}#sk-container-id-8 div.sk-parallel-item:only-child::after {width: 0;}#sk-container-id-8 div.sk-dashed-wrapped {border: 1px dashed gray;margin: 0 0.4em 0.5em 0.4em;box-sizing: border-box;padding-bottom: 0.4em;background-color: white;}#sk-container-id-8 div.sk-label label {font-family: monospace;font-weight: bold;display: inline-block;line-height: 1.2em;}#sk-container-id-8 div.sk-label-container {text-align: center;}#sk-container-id-8 div.sk-container {/* jupyter's `normalize.less` sets `[hidden] { display: none; }` but bootstrap.min.css set `[hidden] { display: none !important; }` so we also need the `!important` here to be able to override the default hidden behavior on the sphinx rendered scikit-learn.org. See: https://github.com/scikit-learn/scikit-learn/issues/21755 */display: inline-block !important;position: relative;}#sk-container-id-8 div.sk-text-repr-fallback {display: none;}</style><div id=\"sk-container-id-8\" class=\"sk-top-container\"><div class=\"sk-text-repr-fallback\"><pre>PCA(n_components=7)</pre><b>In a Jupyter environment, please rerun this cell to show the HTML representation or trust the notebook. <br />On GitHub, the HTML representation is unable to render, please try loading this page with nbviewer.org.</b></div><div class=\"sk-container\" hidden><div class=\"sk-item\"><div class=\"sk-estimator sk-toggleable\"><input class=\"sk-toggleable__control sk-hidden--visually\" id=\"sk-estimator-id-8\" type=\"checkbox\" checked><label for=\"sk-estimator-id-8\" class=\"sk-toggleable__label sk-toggleable__label-arrow\">PCA</label><div class=\"sk-toggleable__content\"><pre>PCA(n_components=7)</pre></div></div></div></div></div>"
      ],
      "text/plain": [
       "PCA(n_components=7)"
      ]
     },
     "execution_count": 26,
     "metadata": {},
     "output_type": "execute_result"
    },
    {
     "data": {
      "text/plain": [
       "<Figure size 600x600 with 0 Axes>"
      ]
     },
     "execution_count": 26,
     "metadata": {},
     "output_type": "execute_result"
    },
    {
     "data": {
      "text/plain": [
       "[<matplotlib.lines.Line2D at 0x7a2518e34f10>]"
      ]
     },
     "execution_count": 26,
     "metadata": {},
     "output_type": "execute_result"
    },
    {
     "data": {
      "text/plain": [
       "Text(0.5, 0, 'n_components')"
      ]
     },
     "execution_count": 26,
     "metadata": {},
     "output_type": "execute_result"
    },
    {
     "data": {
      "text/plain": [
       "Text(0, 0.5, 'Explained variance ratio')"
      ]
     },
     "execution_count": 26,
     "metadata": {},
     "output_type": "execute_result"
    },
    {
     "data": {
      "text/plain": [
       "Text(0.5, 1.0, 'n_components vs. Explained Variance Ratio')"
      ]
     },
     "execution_count": 26,
     "metadata": {},
     "output_type": "execute_result"
    },
    {
     "data": {
      "image/png": "[encoded data removed]",
      "text/plain": [
       "<Figure size 600x600 with 1 Axes>"
      ]
     },
     "metadata": {},
     "output_type": "display_data"
    }
   ],
   "source": [
    "nums=np.arange(8)\n",
    "\n",
    "var_ratio = []\n",
    "for num in nums:\n",
    "    pca = PCA(n_components=num)\n",
    "    pca.fit(X_trains)\n",
    "    var_ratio.append(np.sum(pca.explained_variance_ratio_))\n",
    "\n",
    "plt.figure(figsize=(6,6),dpi=100)\n",
    "plt.grid()\n",
    "plt.plot(nums,var_ratio,marker='o')\n",
    "plt.xlabel('n_components')\n",
    "plt.ylabel('Explained variance ratio')\n",
    "plt.title('n_components vs. Explained Variance Ratio')"
   ]
  },
  {
   "cell_type": "code",
   "execution_count": 27,
   "id": "f5135b78",
   "metadata": {
    "execution": {
     "iopub.execute_input": "2024-01-14T02:07:16.749089Z",
     "iopub.status.busy": "2024-01-14T02:07:16.748333Z",
     "iopub.status.idle": "2024-01-14T02:07:16.753697Z",
     "shell.execute_reply": "2024-01-14T02:07:16.752934Z"
    },
    "papermill": {
     "duration": 0.047167,
     "end_time": "2024-01-14T02:07:16.755803",
     "exception": false,
     "start_time": "2024-01-14T02:07:16.708636",
     "status": "completed"
    },
    "tags": []
   },
   "outputs": [],
   "source": [
    "X = pd.DataFrame(data = X_PCA\n",
    "             , columns = ['PCA1','PCA2','PCA3','PCA4','PCA5','PCA6','PCA7'])\n"
   ]
  },
  {
   "cell_type": "code",
   "execution_count": 28,
   "id": "cc9c8dc8",
   "metadata": {
    "_cell_guid": "f75eb787-32ea-43c6-9827-df7c15cbd29d",
    "_uuid": "4af2c06e-d324-4721-a7a0-554ce40d5747",
    "collapsed": false,
    "execution": {
     "iopub.execute_input": "2024-01-14T02:07:16.822336Z",
     "iopub.status.busy": "2024-01-14T02:07:16.821251Z",
     "iopub.status.idle": "2024-01-14T02:07:17.439406Z",
     "shell.execute_reply": "2024-01-14T02:07:17.438284Z"
    },
    "jupyter": {
     "outputs_hidden": false
    },
    "papermill": {
     "duration": 0.654076,
     "end_time": "2024-01-14T02:07:17.442097",
     "exception": false,
     "start_time": "2024-01-14T02:07:16.788021",
     "status": "completed"
    },
    "tags": []
   },
   "outputs": [
    {
     "data": {
      "image/png": "[encoded data removed]",
      "text/plain": [
       "<Figure size 1600x600 with 2 Axes>"
      ]
     },
     "metadata": {},
     "output_type": "display_data"
    }
   ],
   "source": [
    "plt.figure(figsize=(16, 6))\n",
    "heatmap = sns.heatmap(X.corr(), vmin=-1, vmax=1, annot=True)\n",
    "heatmap.set_title('Correlation Heatmap', fontdict={'fontsize':12}, pad=12);"
   ]
  },
  {
   "cell_type": "markdown",
   "id": "63017a91",
   "metadata": {
    "papermill": {
     "duration": 0.032634,
     "end_time": "2024-01-14T02:07:17.507709",
     "exception": false,
     "start_time": "2024-01-14T02:07:17.475075",
     "status": "completed"
    },
    "tags": []
   },
   "source": [
    "# The seven principal components account for 98% of the total variance. Correlation between the components decreases noticeably."
   ]
  },
  {
   "cell_type": "markdown",
   "id": "6fe588a1",
   "metadata": {
    "_cell_guid": "5039ad8a-082f-45f5-a530-e5cc750010a7",
    "_uuid": "fb6410b5-9f0b-417c-a16a-02dd9053d989",
    "papermill": {
     "duration": 0.032568,
     "end_time": "2024-01-14T02:07:17.573215",
     "exception": false,
     "start_time": "2024-01-14T02:07:17.540647",
     "status": "completed"
    },
    "tags": []
   },
   "source": [
    "# **KNN Algorithm** "
   ]
  },
  {
   "cell_type": "markdown",
   "id": "220db300",
   "metadata": {
    "papermill": {
     "duration": 0.032687,
     "end_time": "2024-01-14T02:07:17.640073",
     "exception": false,
     "start_time": "2024-01-14T02:07:17.607386",
     "status": "completed"
    },
    "tags": []
   },
   "source": [
    "# The k-nearest neighbors algorithm, also known as KNN or k-NN, is a non-parametric, supervised learning classifier, which uses proximity to make classifications or predictions about the grouping of an individual data point.Determining the optimal value is our goal, and the number of neighbours is a crucial metric in the KNN algorithm.Overfitting is a common risk associated with this."
   ]
  },
  {
   "cell_type": "code",
   "execution_count": 29,
   "id": "09d04e24",
   "metadata": {
    "_cell_guid": "7ead6f17-8baf-48c8-8746-19907b6626f7",
    "_uuid": "2dcb4581-61fd-49c7-904d-0517c5aec508",
    "collapsed": false,
    "execution": {
     "iopub.execute_input": "2024-01-14T02:07:17.710697Z",
     "iopub.status.busy": "2024-01-14T02:07:17.710300Z",
     "iopub.status.idle": "2024-01-14T02:07:18.919121Z",
     "shell.execute_reply": "2024-01-14T02:07:18.918071Z"
    },
    "jupyter": {
     "outputs_hidden": false
    },
    "papermill": {
     "duration": 1.247837,
     "end_time": "2024-01-14T02:07:18.921893",
     "exception": false,
     "start_time": "2024-01-14T02:07:17.674056",
     "status": "completed"
    },
    "tags": []
   },
   "outputs": [],
   "source": [
    "k_values = [i for i in range (1,31)]\n",
    "scores = []\n",
    "\n",
    "for k in k_values:\n",
    "    knn = KNeighborsClassifier(n_neighbors=k)\n",
    "    score = cross_val_score(knn, X, y_train, cv=5)\n",
    "    scores.append(np.mean(score));"
   ]
  },
  {
   "cell_type": "code",
   "execution_count": 30,
   "id": "7b812a20",
   "metadata": {
    "_cell_guid": "35527f0c-1b84-4141-9bdf-8e499e2b07f5",
    "_uuid": "4adfdffd-40fc-4a2d-a409-cd59b1f0a767",
    "collapsed": false,
    "execution": {
     "iopub.execute_input": "2024-01-14T02:07:18.991781Z",
     "iopub.status.busy": "2024-01-14T02:07:18.991021Z",
     "iopub.status.idle": "2024-01-14T02:07:19.305767Z",
     "shell.execute_reply": "2024-01-14T02:07:19.304935Z"
    },
    "jupyter": {
     "outputs_hidden": false
    },
    "papermill": {
     "duration": 0.352332,
     "end_time": "2024-01-14T02:07:19.308222",
     "exception": false,
     "start_time": "2024-01-14T02:07:18.955890",
     "status": "completed"
    },
    "tags": []
   },
   "outputs": [
    {
     "data": {
      "text/plain": [
       "<Axes: >"
      ]
     },
     "execution_count": 30,
     "metadata": {},
     "output_type": "execute_result"
    },
    {
     "data": {
      "text/plain": [
       "Text(0.5, 0, 'K Values')"
      ]
     },
     "execution_count": 30,
     "metadata": {},
     "output_type": "execute_result"
    },
    {
     "data": {
      "text/plain": [
       "Text(0, 0.5, 'Accuracy Score')"
      ]
     },
     "execution_count": 30,
     "metadata": {},
     "output_type": "execute_result"
    },
    {
     "data": {
      "image/png": "[encoded data removed]",
      "text/plain": [
       "<Figure size 640x480 with 1 Axes>"
      ]
     },
     "metadata": {},
     "output_type": "display_data"
    }
   ],
   "source": [
    "sns.lineplot(x = k_values, y = scores, marker = 'o')\n",
    "plt.xlabel(\"K Values\")\n",
    "plt.ylabel(\"Accuracy Score\")"
   ]
  },
  {
   "cell_type": "code",
   "execution_count": 31,
   "id": "b21d0a4f",
   "metadata": {
    "_cell_guid": "74421e21-c1ec-477e-b868-7f0f0665d490",
    "_uuid": "20f0cb6b-e447-40dd-b9bf-afc59406d38f",
    "collapsed": false,
    "execution": {
     "iopub.execute_input": "2024-01-14T02:07:19.379723Z",
     "iopub.status.busy": "2024-01-14T02:07:19.378938Z",
     "iopub.status.idle": "2024-01-14T02:07:19.397328Z",
     "shell.execute_reply": "2024-01-14T02:07:19.396300Z"
    },
    "jupyter": {
     "outputs_hidden": false
    },
    "papermill": {
     "duration": 0.056918,
     "end_time": "2024-01-14T02:07:19.399619",
     "exception": false,
     "start_time": "2024-01-14T02:07:19.342701",
     "status": "completed"
    },
    "tags": []
   },
   "outputs": [
    {
     "data": {
      "text/html": [
       "<style>#sk-container-id-9 {color: black;background-color: white;}#sk-container-id-9 pre{padding: 0;}#sk-container-id-9 div.sk-toggleable {background-color: white;}#sk-container-id-9 label.sk-toggleable__label {cursor: pointer;display: block;width: 100%;margin-bottom: 0;padding: 0.3em;box-sizing: border-box;text-align: center;}#sk-container-id-9 label.sk-toggleable__label-arrow:before {content: \"▸\";float: left;margin-right: 0.25em;color: #696969;}#sk-container-id-9 label.sk-toggleable__label-arrow:hover:before {color: black;}#sk-container-id-9 div.sk-estimator:hover label.sk-toggleable__label-arrow:before {color: black;}#sk-container-id-9 div.sk-toggleable__content {max-height: 0;max-width: 0;overflow: hidden;text-align: left;background-color: #f0f8ff;}#sk-container-id-9 div.sk-toggleable__content pre {margin: 0.2em;color: black;border-radius: 0.25em;background-color: #f0f8ff;}#sk-container-id-9 input.sk-toggleable__control:checked~div.sk-toggleable__content {max-height: 200px;max-width: 100%;overflow: auto;}#sk-container-id-9 input.sk-toggleable__control:checked~label.sk-toggleable__label-arrow:before {content: \"▾\";}#sk-container-id-9 div.sk-estimator input.sk-toggleable__control:checked~label.sk-toggleable__label {background-color: #d4ebff;}#sk-container-id-9 div.sk-label input.sk-toggleable__control:checked~label.sk-toggleable__label {background-color: #d4ebff;}#sk-container-id-9 input.sk-hidden--visually {border: 0;clip: rect(1px 1px 1px 1px);clip: rect(1px, 1px, 1px, 1px);height: 1px;margin: -1px;overflow: hidden;padding: 0;position: absolute;width: 1px;}#sk-container-id-9 div.sk-estimator {font-family: monospace;background-color: #f0f8ff;border: 1px dotted black;border-radius: 0.25em;box-sizing: border-box;margin-bottom: 0.5em;}#sk-container-id-9 div.sk-estimator:hover {background-color: #d4ebff;}#sk-container-id-9 div.sk-parallel-item::after {content: \"\";width: 100%;border-bottom: 1px solid gray;flex-grow: 1;}#sk-container-id-9 div.sk-label:hover label.sk-toggleable__label {background-color: #d4ebff;}#sk-container-id-9 div.sk-serial::before {content: \"\";position: absolute;border-left: 1px solid gray;box-sizing: border-box;top: 0;bottom: 0;left: 50%;z-index: 0;}#sk-container-id-9 div.sk-serial {display: flex;flex-direction: column;align-items: center;background-color: white;padding-right: 0.2em;padding-left: 0.2em;position: relative;}#sk-container-id-9 div.sk-item {position: relative;z-index: 1;}#sk-container-id-9 div.sk-parallel {display: flex;align-items: stretch;justify-content: center;background-color: white;position: relative;}#sk-container-id-9 div.sk-item::before, #sk-container-id-9 div.sk-parallel-item::before {content: \"\";position: absolute;border-left: 1px solid gray;box-sizing: border-box;top: 0;bottom: 0;left: 50%;z-index: -1;}#sk-container-id-9 div.sk-parallel-item {display: flex;flex-direction: column;z-index: 1;position: relative;background-color: white;}#sk-container-id-9 div.sk-parallel-item:first-child::after {align-self: flex-end;width: 50%;}#sk-container-id-9 div.sk-parallel-item:last-child::after {align-self: flex-start;width: 50%;}#sk-container-id-9 div.sk-parallel-item:only-child::after {width: 0;}#sk-container-id-9 div.sk-dashed-wrapped {border: 1px dashed gray;margin: 0 0.4em 0.5em 0.4em;box-sizing: border-box;padding-bottom: 0.4em;background-color: white;}#sk-container-id-9 div.sk-label label {font-family: monospace;font-weight: bold;display: inline-block;line-height: 1.2em;}#sk-container-id-9 div.sk-label-container {text-align: center;}#sk-container-id-9 div.sk-container {/* jupyter's `normalize.less` sets `[hidden] { display: none; }` but bootstrap.min.css set `[hidden] { display: none !important; }` so we also need the `!important` here to be able to override the default hidden behavior on the sphinx rendered scikit-learn.org. See: https://github.com/scikit-learn/scikit-learn/issues/21755 */display: inline-block !important;position: relative;}#sk-container-id-9 div.sk-text-repr-fallback {display: none;}</style><div id=\"sk-container-id-9\" class=\"sk-top-container\"><div class=\"sk-text-repr-fallback\"><pre>KNeighborsClassifier(n_neighbors=4)</pre><b>In a Jupyter environment, please rerun this cell to show the HTML representation or trust the notebook. <br />On GitHub, the HTML representation is unable to render, please try loading this page with nbviewer.org.</b></div><div class=\"sk-container\" hidden><div class=\"sk-item\"><div class=\"sk-estimator sk-toggleable\"><input class=\"sk-toggleable__control sk-hidden--visually\" id=\"sk-estimator-id-9\" type=\"checkbox\" checked><label for=\"sk-estimator-id-9\" class=\"sk-toggleable__label sk-toggleable__label-arrow\">KNeighborsClassifier</label><div class=\"sk-toggleable__content\"><pre>KNeighborsClassifier(n_neighbors=4)</pre></div></div></div></div></div>"
      ],
      "text/plain": [
       "KNeighborsClassifier(n_neighbors=4)"
      ]
     },
     "execution_count": 31,
     "metadata": {},
     "output_type": "execute_result"
    }
   ],
   "source": [
    "best_index = np.argmax(scores)\n",
    "best_k = k_values[best_index]\n",
    "\n",
    "knn = KNeighborsClassifier(n_neighbors=best_k)\n",
    "knn.fit(X_train, y_train)\n",
    "y_pred=knn.predict(X_test)"
   ]
  },
  {
   "cell_type": "markdown",
   "id": "35e211ac",
   "metadata": {
    "_cell_guid": "5a0b2971-dee4-41a6-b83d-7e33d2b7f83f",
    "_uuid": "c1782057-77be-4d40-8b73-7ff8f2461ff5",
    "papermill": {
     "duration": 0.034032,
     "end_time": "2024-01-14T02:07:19.468397",
     "exception": false,
     "start_time": "2024-01-14T02:07:19.434365",
     "status": "completed"
    },
    "tags": []
   },
   "source": [
    "# **Model Measures**"
   ]
  },
  {
   "cell_type": "markdown",
   "id": "f4e2edcd",
   "metadata": {
    "_cell_guid": "96843e76-6b63-4458-9ceb-2a9b980ec2a5",
    "_uuid": "08edd3b6-7998-477b-8a24-7a82b66ca68a",
    "papermill": {
     "duration": 0.034819,
     "end_time": "2024-01-14T02:07:19.538619",
     "exception": false,
     "start_time": "2024-01-14T02:07:19.503800",
     "status": "completed"
    },
    "tags": []
   },
   "source": [
    " # Confusion Matrix"
   ]
  },
  {
   "cell_type": "code",
   "execution_count": 32,
   "id": "78f25a37",
   "metadata": {
    "execution": {
     "iopub.execute_input": "2024-01-14T02:07:19.611598Z",
     "iopub.status.busy": "2024-01-14T02:07:19.610559Z",
     "iopub.status.idle": "2024-01-14T02:07:20.069686Z",
     "shell.execute_reply": "2024-01-14T02:07:20.068634Z"
    },
    "papermill": {
     "duration": 0.498476,
     "end_time": "2024-01-14T02:07:20.072220",
     "exception": false,
     "start_time": "2024-01-14T02:07:19.573744",
     "status": "completed"
    },
    "tags": []
   },
   "outputs": [
    {
     "data": {
      "text/plain": [
       "<sklearn.metrics._plot.confusion_matrix.ConfusionMatrixDisplay at 0x7a251831c580>"
      ]
     },
     "execution_count": 32,
     "metadata": {},
     "output_type": "execute_result"
    },
    {
     "data": {
      "text/plain": [
       "[Text(0, 0, 'L'),\n",
       " Text(1, 0, 'MB'),\n",
       " Text(2, 0, 'OH'),\n",
       " Text(3, 0, 'OP'),\n",
       " Text(4, 0, 'S')]"
      ]
     },
     "execution_count": 32,
     "metadata": {},
     "output_type": "execute_result"
    },
    {
     "data": {
      "text/plain": [
       "[Text(0, 0, 'L'),\n",
       " Text(0, 1, 'MB'),\n",
       " Text(0, 2, 'OH'),\n",
       " Text(0, 3, 'OP'),\n",
       " Text(0, 4, 'S')]"
      ]
     },
     "execution_count": 32,
     "metadata": {},
     "output_type": "execute_result"
    },
    {
     "data": {
      "image/png": "[encoded data removed]",
      "text/plain": [
       "<Figure size 1000x500 with 2 Axes>"
      ]
     },
     "metadata": {},
     "output_type": "display_data"
    }
   ],
   "source": [
    "fig, ax = plt.subplots(figsize=(10, 5))\n",
    "ConfusionMatrixDisplay.from_predictions(y_test, y_pred, ax=ax)\n",
    "ax.xaxis.set_ticklabels(label_binarizer.classes_)\n",
    "ax.yaxis.set_ticklabels(label_binarizer.classes_)\n",
    "_ = ax.set_title(\n",
    "    f\"Confusion Matrix for {knn.__class__.__name__}\\non the original documents\"\n",
    ")"
   ]
  },
  {
   "cell_type": "markdown",
   "id": "8693e689",
   "metadata": {
    "papermill": {
     "duration": 0.036609,
     "end_time": "2024-01-14T02:07:20.145097",
     "exception": false,
     "start_time": "2024-01-14T02:07:20.108488",
     "status": "completed"
    },
    "tags": []
   },
   "source": [
    "# **Libero(L)**\n",
    "* **TP:Libero correctly classified as Libero=1**\n",
    "* **TN:MB,OH,OP and S correctly classified as MB,OH,OP and S=26**\n",
    "* **FP:MB,OH,OP and S incorrectly classified as Libero=0**\n",
    "* **FN:Libero incorrectly classified as MB,OH,OP and S=0**\n",
    "\n",
    "# **Middle Blocker(MB)**\n",
    "* **TP:Middle blocker correctly classified as middle blocker=5**\n",
    "* **TN:L,OH,OP and S correctly classified as L,OH,OP and S=16**\n",
    "* **FP:L,OH,OP and S incorrectly classified as middle blocker=5**\n",
    "* **FN:Middle blocker incorrectly classified as L,OH,OP and S=1**\n",
    "\n",
    "# **Outside Hitter(OH)**\n",
    "* **TP:Outside hitter correctly classified as outside hitter=7**\n",
    "* **TN:L,MB,OP and S correctly classified as L,MB,OP and S=14**\n",
    "* **FP:L,MB,OP and S incorrectly classified as outside hitter=2**\n",
    "* **FN:Outside hitter incorrectly classified as L,MB,OP and S=4**\n",
    "\n",
    "# **Opposite(OP)**\n",
    "* **TP:Opposite correctly classified as opposite=5**\n",
    "* **TN:L,MB,OH and S correctly classified as L,MB,OH and S=20**\n",
    "* **FP:L,MB,OH and S incorrectly classified as opposite=0**\n",
    "* **FN:Opposite incorrectly classified as L,MB,OH and S=2**\n",
    "\n",
    "# **Setter(S)**\n",
    "* **TP:Setter correctly classified as Setter=2**\n",
    "* **TN:L,MB,OH and OP correctly classified as L,MB,OH and OP=25**\n",
    "* **FP:L,MB,OH and OP incorrectly classified as setter=0**\n",
    "* **FN:Setter incorrectly classified as L,MB,OH and OP=0**"
   ]
  },
  {
   "cell_type": "code",
   "execution_count": 33,
   "id": "26208c90",
   "metadata": {
    "_cell_guid": "53e72ad3-3f77-4b3a-9809-01c0c1ce1767",
    "_uuid": "4fe6ce69-e5fd-449f-86cc-0fcce3c84037",
    "collapsed": false,
    "execution": {
     "iopub.execute_input": "2024-01-14T02:07:20.219310Z",
     "iopub.status.busy": "2024-01-14T02:07:20.218687Z",
     "iopub.status.idle": "2024-01-14T02:07:20.231519Z",
     "shell.execute_reply": "2024-01-14T02:07:20.230720Z"
    },
    "jupyter": {
     "outputs_hidden": false
    },
    "papermill": {
     "duration": 0.052597,
     "end_time": "2024-01-14T02:07:20.233951",
     "exception": false,
     "start_time": "2024-01-14T02:07:20.181354",
     "status": "completed"
    },
    "tags": []
   },
   "outputs": [
    {
     "name": "stdout",
     "output_type": "stream",
     "text": [
      "              precision    recall  f1-score   support\n",
      "\n",
      "           L       1.00      1.00      1.00         1\n",
      "          MB       0.50      0.83      0.62         6\n",
      "          OH       0.78      0.64      0.70        11\n",
      "          OP       1.00      0.71      0.83         7\n",
      "           S       1.00      1.00      1.00         2\n",
      "\n",
      "    accuracy                           0.74        27\n",
      "   macro avg       0.86      0.84      0.83        27\n",
      "weighted avg       0.80      0.74      0.75        27\n",
      "\n"
     ]
    }
   ],
   "source": [
    "label_names = label_binarizer.classes_\n",
    "\n",
    "print(classification_report(y_test, y_pred,target_names=label_names))"
   ]
  },
  {
   "cell_type": "markdown",
   "id": "8141ced2",
   "metadata": {
    "papermill": {
     "duration": 0.035831,
     "end_time": "2024-01-14T02:07:20.305754",
     "exception": false,
     "start_time": "2024-01-14T02:07:20.269923",
     "status": "completed"
    },
    "tags": []
   },
   "source": [
    "# **Accuracy**"
   ]
  },
  {
   "cell_type": "code",
   "execution_count": 34,
   "id": "972715a5",
   "metadata": {
    "execution": {
     "iopub.execute_input": "2024-01-14T02:07:20.379536Z",
     "iopub.status.busy": "2024-01-14T02:07:20.378734Z",
     "iopub.status.idle": "2024-01-14T02:07:20.385233Z",
     "shell.execute_reply": "2024-01-14T02:07:20.384067Z"
    },
    "papermill": {
     "duration": 0.045616,
     "end_time": "2024-01-14T02:07:20.387442",
     "exception": false,
     "start_time": "2024-01-14T02:07:20.341826",
     "status": "completed"
    },
    "tags": []
   },
   "outputs": [
    {
     "name": "stdout",
     "output_type": "stream",
     "text": [
      "Accuracy: 0.7407407407407407\n"
     ]
    }
   ],
   "source": [
    "print(\"Accuracy:\",accuracy_score(y_test, y_pred))\n"
   ]
  },
  {
   "cell_type": "markdown",
   "id": "36217c11",
   "metadata": {
    "papermill": {
     "duration": 0.036026,
     "end_time": "2024-01-14T02:07:20.459348",
     "exception": false,
     "start_time": "2024-01-14T02:07:20.423322",
     "status": "completed"
    },
    "tags": []
   },
   "source": [
    "#  **Precision**"
   ]
  },
  {
   "cell_type": "code",
   "execution_count": 35,
   "id": "5529fb58",
   "metadata": {
    "execution": {
     "iopub.execute_input": "2024-01-14T02:07:20.534093Z",
     "iopub.status.busy": "2024-01-14T02:07:20.533460Z",
     "iopub.status.idle": "2024-01-14T02:07:20.549185Z",
     "shell.execute_reply": "2024-01-14T02:07:20.547739Z"
    },
    "papermill": {
     "duration": 0.05645,
     "end_time": "2024-01-14T02:07:20.551847",
     "exception": false,
     "start_time": "2024-01-14T02:07:20.495397",
     "status": "completed"
    },
    "tags": []
   },
   "outputs": [
    {
     "name": "stdout",
     "output_type": "stream",
     "text": [
      "None  [1.         0.5        0.77777778 1.         1.        ]\n",
      "micro: 0.74\n",
      "macro: 0.86 \n",
      "weighted: 0.80 \n"
     ]
    }
   ],
   "source": [
    "print(\"None \", metrics.precision_score(y_test, y_pred, average=None))  \n",
    "print(\"micro: {:.2f}\".format(metrics.precision_score(y_test, y_pred, average='micro')))\n",
    "print(\"macro: {:.2f} \".format( metrics.precision_score(y_test, y_pred, average='macro')))\n",
    "print(\"weighted: {:.2f} \".format( metrics.precision_score(y_test, y_pred, average='weighted')))"
   ]
  },
  {
   "cell_type": "markdown",
   "id": "b4aea1a7",
   "metadata": {
    "papermill": {
     "duration": 0.037391,
     "end_time": "2024-01-14T02:07:20.625918",
     "exception": false,
     "start_time": "2024-01-14T02:07:20.588527",
     "status": "completed"
    },
    "tags": []
   },
   "source": [
    "# **Recall**"
   ]
  },
  {
   "cell_type": "code",
   "execution_count": 36,
   "id": "03b31a05",
   "metadata": {
    "execution": {
     "iopub.execute_input": "2024-01-14T02:07:20.701694Z",
     "iopub.status.busy": "2024-01-14T02:07:20.701287Z",
     "iopub.status.idle": "2024-01-14T02:07:20.715495Z",
     "shell.execute_reply": "2024-01-14T02:07:20.714158Z"
    },
    "papermill": {
     "duration": 0.055618,
     "end_time": "2024-01-14T02:07:20.717953",
     "exception": false,
     "start_time": "2024-01-14T02:07:20.662335",
     "status": "completed"
    },
    "tags": []
   },
   "outputs": [
    {
     "name": "stdout",
     "output_type": "stream",
     "text": [
      "micro: 0.74\n",
      "macro: 0.84 \n",
      "weighted: 0.74 \n"
     ]
    }
   ],
   "source": [
    "print(\"micro: {:.2f}\".format(metrics.recall_score(y_test, y_pred, average='micro')))\n",
    "print(\"macro: {:.2f} \".format( metrics.recall_score(y_test, y_pred, average='macro')))\n",
    "print(\"weighted: {:.2f} \".format( metrics.recall_score(y_test, y_pred, average='weighted')))"
   ]
  },
  {
   "cell_type": "markdown",
   "id": "ef36ce60",
   "metadata": {
    "papermill": {
     "duration": 0.038561,
     "end_time": "2024-01-14T02:07:20.793569",
     "exception": false,
     "start_time": "2024-01-14T02:07:20.755008",
     "status": "completed"
    },
    "tags": []
   },
   "source": [
    "# **F1-Score**"
   ]
  },
  {
   "cell_type": "code",
   "execution_count": 37,
   "id": "dafd6d54",
   "metadata": {
    "execution": {
     "iopub.execute_input": "2024-01-14T02:07:20.869058Z",
     "iopub.status.busy": "2024-01-14T02:07:20.867788Z",
     "iopub.status.idle": "2024-01-14T02:07:20.881540Z",
     "shell.execute_reply": "2024-01-14T02:07:20.880450Z"
    },
    "papermill": {
     "duration": 0.053818,
     "end_time": "2024-01-14T02:07:20.883825",
     "exception": false,
     "start_time": "2024-01-14T02:07:20.830007",
     "status": "completed"
    },
    "tags": []
   },
   "outputs": [
    {
     "name": "stdout",
     "output_type": "stream",
     "text": [
      "micro: 0.74\n",
      "macro: 0.83 \n",
      "weighted: 0.75 \n"
     ]
    }
   ],
   "source": [
    "print(\"micro: {:.2f}\".format(metrics.f1_score(y_test, y_pred, average='micro')))\n",
    "print(\"macro: {:.2f} \".format( metrics.f1_score(y_test, y_pred, average='macro')))\n",
    "print(\"weighted: {:.2f} \".format( metrics.f1_score(y_test, y_pred, average='weighted')))"
   ]
  },
  {
   "cell_type": "markdown",
   "id": "aaab12ba",
   "metadata": {
    "papermill": {
     "duration": 0.035966,
     "end_time": "2024-01-14T02:07:20.956034",
     "exception": false,
     "start_time": "2024-01-14T02:07:20.920068",
     "status": "completed"
    },
    "tags": []
   },
   "source": [
    "# **ROC**"
   ]
  },
  {
   "cell_type": "markdown",
   "id": "e1077d1e",
   "metadata": {
    "papermill": {
     "duration": 0.036005,
     "end_time": "2024-01-14T02:07:21.028207",
     "exception": false,
     "start_time": "2024-01-14T02:07:20.992202",
     "status": "completed"
    },
    "tags": []
   },
   "source": [
    "# The ROC curve is for binary classification.Since our model is multi-label, it is necessary to create separate ROC curves for each label."
   ]
  },
  {
   "cell_type": "code",
   "execution_count": 38,
   "id": "6b4b0e56",
   "metadata": {
    "execution": {
     "iopub.execute_input": "2024-01-14T02:07:21.103897Z",
     "iopub.status.busy": "2024-01-14T02:07:21.102725Z",
     "iopub.status.idle": "2024-01-14T02:07:21.113203Z",
     "shell.execute_reply": "2024-01-14T02:07:21.112132Z"
    },
    "papermill": {
     "duration": 0.050888,
     "end_time": "2024-01-14T02:07:21.115744",
     "exception": false,
     "start_time": "2024-01-14T02:07:21.064856",
     "status": "completed"
    },
    "tags": []
   },
   "outputs": [],
   "source": [
    "y_score = knn.fit(X_train, y_train).predict_proba(X_test)"
   ]
  },
  {
   "cell_type": "code",
   "execution_count": 39,
   "id": "ee7aa871",
   "metadata": {
    "execution": {
     "iopub.execute_input": "2024-01-14T02:07:21.191311Z",
     "iopub.status.busy": "2024-01-14T02:07:21.190411Z",
     "iopub.status.idle": "2024-01-14T02:07:21.512059Z",
     "shell.execute_reply": "2024-01-14T02:07:21.510890Z"
    },
    "papermill": {
     "duration": 0.361795,
     "end_time": "2024-01-14T02:07:21.514541",
     "exception": false,
     "start_time": "2024-01-14T02:07:21.152746",
     "status": "completed"
    },
    "tags": []
   },
   "outputs": [
    {
     "data": {
      "text/plain": [
       "<sklearn.metrics._plot.roc_curve.RocCurveDisplay at 0x7a2518123ac0>"
      ]
     },
     "execution_count": 39,
     "metadata": {},
     "output_type": "execute_result"
    },
    {
     "data": {
      "text/plain": [
       "(-0.05, 1.05, -0.05, 1.05)"
      ]
     },
     "execution_count": 39,
     "metadata": {},
     "output_type": "execute_result"
    },
    {
     "data": {
      "text/plain": [
       "Text(0.5, 0, 'False Positive Rate')"
      ]
     },
     "execution_count": 39,
     "metadata": {},
     "output_type": "execute_result"
    },
    {
     "data": {
      "text/plain": [
       "Text(0, 0.5, 'True Positive Rate')"
      ]
     },
     "execution_count": 39,
     "metadata": {},
     "output_type": "execute_result"
    },
    {
     "data": {
      "text/plain": [
       "Text(0.5, 1.0, 'One-vs-Rest ROC curves:\\nOH vs (OP,S,L,MH)')"
      ]
     },
     "execution_count": 39,
     "metadata": {},
     "output_type": "execute_result"
    },
    {
     "data": {
      "text/plain": [
       "<matplotlib.legend.Legend at 0x7a2518123ac0>"
      ]
     },
     "execution_count": 39,
     "metadata": {},
     "output_type": "execute_result"
    },
    {
     "data": {
      "image/png": "[encoded data removed]",
      "text/plain": [
       "<Figure size 640x480 with 1 Axes>"
      ]
     },
     "metadata": {},
     "output_type": "display_data"
    }
   ],
   "source": [
    "class_of_interest = \"OH\"\n",
    "class_id = np.flatnonzero(label_binarizer.classes_ == class_of_interest)[0]\n",
    "RocCurveDisplay.from_predictions(\n",
    "    y_onehot_test[:, class_id],\n",
    "    y_score[:, class_id],\n",
    "    name=f\"{class_of_interest} \",\n",
    "    color=\"darkorange\",\n",
    ")\n",
    "plt.axis(\"square\")\n",
    "plt.xlabel(\"False Positive Rate\")\n",
    "plt.ylabel(\"True Positive Rate\")\n",
    "plt.title(\"One-vs-Rest ROC curves:\\nOH vs (OP,S,L,MH)\")\n",
    "plt.legend()\n",
    "plt.show()"
   ]
  },
  {
   "cell_type": "code",
   "execution_count": 40,
   "id": "4d15b354",
   "metadata": {
    "execution": {
     "iopub.execute_input": "2024-01-14T02:07:21.592781Z",
     "iopub.status.busy": "2024-01-14T02:07:21.592348Z",
     "iopub.status.idle": "2024-01-14T02:07:21.894761Z",
     "shell.execute_reply": "2024-01-14T02:07:21.893607Z"
    },
    "papermill": {
     "duration": 0.344361,
     "end_time": "2024-01-14T02:07:21.897326",
     "exception": false,
     "start_time": "2024-01-14T02:07:21.552965",
     "status": "completed"
    },
    "tags": []
   },
   "outputs": [
    {
     "data": {
      "text/plain": [
       "<sklearn.metrics._plot.roc_curve.RocCurveDisplay at 0x7a251824abf0>"
      ]
     },
     "execution_count": 40,
     "metadata": {},
     "output_type": "execute_result"
    },
    {
     "data": {
      "text/plain": [
       "(-0.05, 1.05, -0.05, 1.05)"
      ]
     },
     "execution_count": 40,
     "metadata": {},
     "output_type": "execute_result"
    },
    {
     "data": {
      "text/plain": [
       "Text(0.5, 0, 'False Positive Rate')"
      ]
     },
     "execution_count": 40,
     "metadata": {},
     "output_type": "execute_result"
    },
    {
     "data": {
      "text/plain": [
       "Text(0, 0.5, 'True Positive Rate')"
      ]
     },
     "execution_count": 40,
     "metadata": {},
     "output_type": "execute_result"
    },
    {
     "data": {
      "text/plain": [
       "Text(0.5, 1.0, 'One-vs-Rest ROC curves:\\nOP vs (OH,S,L,MH)')"
      ]
     },
     "execution_count": 40,
     "metadata": {},
     "output_type": "execute_result"
    },
    {
     "data": {
      "text/plain": [
       "<matplotlib.legend.Legend at 0x7a251824b640>"
      ]
     },
     "execution_count": 40,
     "metadata": {},
     "output_type": "execute_result"
    },
    {
     "data": {
      "image/png": "[encoded data removed]",
      "text/plain": [
       "<Figure size 640x480 with 1 Axes>"
      ]
     },
     "metadata": {},
     "output_type": "display_data"
    }
   ],
   "source": [
    "class_of_interest = \"OP\"\n",
    "class_id = np.flatnonzero(label_binarizer.classes_ == class_of_interest)[0]\n",
    "RocCurveDisplay.from_predictions(\n",
    "    y_onehot_test[:, class_id],\n",
    "    y_score[:, class_id],\n",
    "    name=f\"{class_of_interest} \",\n",
    "    color=\"green\",\n",
    ")\n",
    "plt.axis(\"square\")\n",
    "plt.xlabel(\"False Positive Rate\")\n",
    "plt.ylabel(\"True Positive Rate\")\n",
    "plt.title(\"One-vs-Rest ROC curves:\\nOP vs (OH,S,L,MH)\")\n",
    "plt.legend()\n",
    "plt.show()"
   ]
  },
  {
   "cell_type": "code",
   "execution_count": 41,
   "id": "2f8c845e",
   "metadata": {
    "execution": {
     "iopub.execute_input": "2024-01-14T02:07:21.995499Z",
     "iopub.status.busy": "2024-01-14T02:07:21.994234Z",
     "iopub.status.idle": "2024-01-14T02:07:22.339304Z",
     "shell.execute_reply": "2024-01-14T02:07:22.338092Z"
    },
    "papermill": {
     "duration": 0.40048,
     "end_time": "2024-01-14T02:07:22.342889",
     "exception": false,
     "start_time": "2024-01-14T02:07:21.942409",
     "status": "completed"
    },
    "tags": []
   },
   "outputs": [
    {
     "data": {
      "text/plain": [
       "<sklearn.metrics._plot.roc_curve.RocCurveDisplay at 0x7a251820d8a0>"
      ]
     },
     "execution_count": 41,
     "metadata": {},
     "output_type": "execute_result"
    },
    {
     "data": {
      "text/plain": [
       "(-0.05, 1.05, -0.05, 1.05)"
      ]
     },
     "execution_count": 41,
     "metadata": {},
     "output_type": "execute_result"
    },
    {
     "data": {
      "text/plain": [
       "Text(0.5, 0, 'False Positive Rate')"
      ]
     },
     "execution_count": 41,
     "metadata": {},
     "output_type": "execute_result"
    },
    {
     "data": {
      "text/plain": [
       "Text(0, 0.5, 'True Positive Rate')"
      ]
     },
     "execution_count": 41,
     "metadata": {},
     "output_type": "execute_result"
    },
    {
     "data": {
      "text/plain": [
       "Text(0.5, 1.0, 'One-vs-Rest ROC curves:\\nMB vs (OH,S,L,OP)')"
      ]
     },
     "execution_count": 41,
     "metadata": {},
     "output_type": "execute_result"
    },
    {
     "data": {
      "text/plain": [
       "<matplotlib.legend.Legend at 0x7a2510fabdc0>"
      ]
     },
     "execution_count": 41,
     "metadata": {},
     "output_type": "execute_result"
    },
    {
     "data": {
      "image/png": "[encoded data removed]",
      "text/plain": [
       "<Figure size 640x480 with 1 Axes>"
      ]
     },
     "metadata": {},
     "output_type": "display_data"
    }
   ],
   "source": [
    "class_of_interest = \"MB\"\n",
    "class_id = np.flatnonzero(label_binarizer.classes_ == class_of_interest)[0]\n",
    "RocCurveDisplay.from_predictions(\n",
    "    y_onehot_test[:, class_id],\n",
    "    y_score[:, class_id],\n",
    "    name=f\"{class_of_interest} \",\n",
    "    color=\"blue\",\n",
    ")\n",
    "plt.axis(\"square\")\n",
    "plt.xlabel(\"False Positive Rate\")\n",
    "plt.ylabel(\"True Positive Rate\")\n",
    "plt.title(\"One-vs-Rest ROC curves:\\nMB vs (OH,S,L,OP)\")\n",
    "plt.legend()\n",
    "plt.show()"
   ]
  },
  {
   "cell_type": "code",
   "execution_count": 42,
   "id": "5c76fe57",
   "metadata": {
    "execution": {
     "iopub.execute_input": "2024-01-14T02:07:22.443183Z",
     "iopub.status.busy": "2024-01-14T02:07:22.441940Z",
     "iopub.status.idle": "2024-01-14T02:07:22.778453Z",
     "shell.execute_reply": "2024-01-14T02:07:22.777279Z"
    },
    "papermill": {
     "duration": 0.385316,
     "end_time": "2024-01-14T02:07:22.780857",
     "exception": false,
     "start_time": "2024-01-14T02:07:22.395541",
     "status": "completed"
    },
    "tags": []
   },
   "outputs": [
    {
     "data": {
      "text/plain": [
       "<sklearn.metrics._plot.roc_curve.RocCurveDisplay at 0x7a2510fabc40>"
      ]
     },
     "execution_count": 42,
     "metadata": {},
     "output_type": "execute_result"
    },
    {
     "data": {
      "text/plain": [
       "(-0.05, 1.05, -0.05, 1.05)"
      ]
     },
     "execution_count": 42,
     "metadata": {},
     "output_type": "execute_result"
    },
    {
     "data": {
      "text/plain": [
       "Text(0.5, 0, 'False Positive Rate')"
      ]
     },
     "execution_count": 42,
     "metadata": {},
     "output_type": "execute_result"
    },
    {
     "data": {
      "text/plain": [
       "Text(0, 0.5, 'True Positive Rate')"
      ]
     },
     "execution_count": 42,
     "metadata": {},
     "output_type": "execute_result"
    },
    {
     "data": {
      "text/plain": [
       "Text(0.5, 1.0, 'One-vs-Rest ROC curves:\\nS vs (OH,MB,L,OP)')"
      ]
     },
     "execution_count": 42,
     "metadata": {},
     "output_type": "execute_result"
    },
    {
     "data": {
      "text/plain": [
       "<matplotlib.legend.Legend at 0x7a25181afbb0>"
      ]
     },
     "execution_count": 42,
     "metadata": {},
     "output_type": "execute_result"
    },
    {
     "data": {
      "image/png": "[encoded data removed]",
      "text/plain": [
       "<Figure size 640x480 with 1 Axes>"
      ]
     },
     "metadata": {},
     "output_type": "display_data"
    }
   ],
   "source": [
    "class_of_interest = \"S\"\n",
    "class_id = np.flatnonzero(label_binarizer.classes_ == class_of_interest)[0]\n",
    "RocCurveDisplay.from_predictions(\n",
    "    y_onehot_test[:, class_id],\n",
    "    y_score[:, class_id],\n",
    "    name=f\"{class_of_interest} \",\n",
    "    color=\"pink\",\n",
    ")\n",
    "plt.axis(\"square\")\n",
    "plt.xlabel(\"False Positive Rate\")\n",
    "plt.ylabel(\"True Positive Rate\")\n",
    "plt.title(\"One-vs-Rest ROC curves:\\nS vs (OH,MB,L,OP)\")\n",
    "plt.legend()\n",
    "plt.show()"
   ]
  },
  {
   "cell_type": "code",
   "execution_count": 43,
   "id": "afc9f877",
   "metadata": {
    "execution": {
     "iopub.execute_input": "2024-01-14T02:07:22.868468Z",
     "iopub.status.busy": "2024-01-14T02:07:22.867630Z",
     "iopub.status.idle": "2024-01-14T02:07:23.193954Z",
     "shell.execute_reply": "2024-01-14T02:07:23.192838Z"
    },
    "papermill": {
     "duration": 0.372938,
     "end_time": "2024-01-14T02:07:23.196438",
     "exception": false,
     "start_time": "2024-01-14T02:07:22.823500",
     "status": "completed"
    },
    "tags": []
   },
   "outputs": [
    {
     "data": {
      "text/plain": [
       "<sklearn.metrics._plot.roc_curve.RocCurveDisplay at 0x7a2510ff1ba0>"
      ]
     },
     "execution_count": 43,
     "metadata": {},
     "output_type": "execute_result"
    },
    {
     "data": {
      "text/plain": [
       "(-0.05, 1.05, -0.05, 1.05)"
      ]
     },
     "execution_count": 43,
     "metadata": {},
     "output_type": "execute_result"
    },
    {
     "data": {
      "text/plain": [
       "Text(0.5, 0, 'False Positive Rate')"
      ]
     },
     "execution_count": 43,
     "metadata": {},
     "output_type": "execute_result"
    },
    {
     "data": {
      "text/plain": [
       "Text(0, 0.5, 'True Positive Rate')"
      ]
     },
     "execution_count": 43,
     "metadata": {},
     "output_type": "execute_result"
    },
    {
     "data": {
      "text/plain": [
       "Text(0.5, 1.0, 'One-vs-Rest ROC curves:\\nL vs (OH,MB,S,OP)')"
      ]
     },
     "execution_count": 43,
     "metadata": {},
     "output_type": "execute_result"
    },
    {
     "data": {
      "text/plain": [
       "<matplotlib.legend.Legend at 0x7a2510ff0ca0>"
      ]
     },
     "execution_count": 43,
     "metadata": {},
     "output_type": "execute_result"
    },
    {
     "data": {
      "image/png": "[encoded data removed]",
      "text/plain": [
       "<Figure size 640x480 with 1 Axes>"
      ]
     },
     "metadata": {},
     "output_type": "display_data"
    }
   ],
   "source": [
    "class_of_interest = \"L\"\n",
    "class_id = np.flatnonzero(label_binarizer.classes_ == class_of_interest)[0]\n",
    "RocCurveDisplay.from_predictions(\n",
    "    y_onehot_test[:, class_id],\n",
    "    y_score[:, class_id],\n",
    "    name=f\"{class_of_interest} \",\n",
    "    color=\"red\",\n",
    ")\n",
    "plt.axis(\"square\")\n",
    "plt.xlabel(\"False Positive Rate\")\n",
    "plt.ylabel(\"True Positive Rate\")\n",
    "plt.title(\"One-vs-Rest ROC curves:\\nL vs (OH,MB,S,OP)\")\n",
    "plt.legend()\n",
    "plt.show()"
   ]
  },
  {
   "cell_type": "code",
   "execution_count": null,
   "id": "cd6cdd06",
   "metadata": {
    "papermill": {
     "duration": 0.043153,
     "end_time": "2024-01-14T02:07:23.284069",
     "exception": false,
     "start_time": "2024-01-14T02:07:23.240916",
     "status": "completed"
    },
    "tags": []
   },
   "outputs": [],
   "source": []
  }
 ],
 "metadata": {
  "kaggle": {
   "accelerator": "none",
   "dataSources": [
    {
     "datasetId": 4265672,
     "sourceId": 7358071,
     "sourceType": "datasetVersion"
    }
   ],
   "dockerImageVersionId": 30626,
   "isGpuEnabled": false,
   "isInternetEnabled": true,
   "language": "python",
   "sourceType": "notebook"
  },
  "kernelspec": {
   "display_name": "Python 3",
   "language": "python",
   "name": "python3"
  },
  "language_info": {
   "codemirror_mode": {
    "name": "ipython",
    "version": 3
   },
   "file_extension": ".py",
   "mimetype": "text/x-python",
   "name": "python",
   "nbconvert_exporter": "python",
   "pygments_lexer": "ipython3",
   "version": "3.10.12"
  },
  "papermill": {
   "default_parameters": {},
   "duration": 26.271856,
   "end_time": "2024-01-14T02:07:24.250825",
   "environment_variables": {},
   "exception": null,
   "input_path": "__notebook__.ipynb",
   "output_path": "__notebook__.ipynb",
   "parameters": {},
   "start_time": "2024-01-14T02:06:57.978969",
   "version": "2.4.0"
  }
 },
 "nbformat": 4,
 "nbformat_minor": 5
}
